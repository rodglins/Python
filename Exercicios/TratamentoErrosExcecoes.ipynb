{
  "nbformat": 4,
  "nbformat_minor": 0,
  "metadata": {
    "colab": {
      "name": "TratamentoDeErrosEExceções.ipynb",
      "private_outputs": true,
      "provenance": [],
      "collapsed_sections": []
    },
    "kernelspec": {
      "name": "python3",
      "display_name": "Python 3"
    },
    "accelerator": "GPU"
  },
  "cells": [
    {
      "cell_type": "markdown",
      "metadata": {
        "id": "6hBUcAjdRilf"
      },
      "source": [
        "# **>>> Tratando Erros e Exceções**\n",
        "\n",
        "---\n",
        "\n",
        "Erros vão acontecer e é importante que você os preveja e trate-os antes de sua aparição.\n",
        "\n",
        "---\n",
        "\n",
        "### **>>> Erros Comuns**\n",
        "IOError: Se o arquivo não puder ser aberto/salvo.\n",
        "<br>ImportError: Se o python não encontra o módulo\n",
        "<br>ValueError: Operação recebe valor inadequado\n",
        "<br>KeyboardInterrupt: Quando usuário clica DELETE ou CTRL+C\n",
        "<br>EOFError: Quando o input não recebe nenhum dado\n",
        "<br>TypeError: Erro de tipo para operação"
      ]
    },
    {
      "cell_type": "markdown",
      "metadata": {
        "id": "tue8ihhgZcx9"
      },
      "source": [
        "## **>>> Resumindo...**\n",
        "\n",
        "---\n",
        "\n",
        "try: seu código;\n",
        "<br>except: tratamento dos erros;\n",
        "<br>else: tratamento com senão;\n",
        "<br>finally: executa com ou sem exceções;"
      ]
    },
    {
      "cell_type": "markdown",
      "metadata": {
        "id": "pRLgMgb8R9c5"
      },
      "source": [
        "# **>>> Exercícios**\n",
        "\n",
        "---\n",
        "\n"
      ]
    },
    {
      "cell_type": "markdown",
      "metadata": {
        "id": "XGWtwD3QIKc2"
      },
      "source": [
        " **1.** Crie um código em Python que solicite do usuário o input de um número inteiro. Caso haja preenchimento diferente, a máquina deve  guiar o usuário até ajustar sua resposta. (Fácil)"
      ]
    },
    {
      "cell_type": "code",
      "metadata": {
        "id": "vzDDUZvrIPCf"
      },
      "source": [
        "while True:\n",
        "  try:\n",
        "    x = int(input(\"Digite um número inteiro: \"))\n",
        "    print(f\"Você digitou {x}, parabéns!\")\n",
        "    break\n",
        "  except ValueError:\n",
        "    print(\"O valor digitado não é um inteiro. Tente novamente\") "
      ],
      "execution_count": null,
      "outputs": []
    },
    {
      "cell_type": "markdown",
      "metadata": {
        "id": "JvrLbNiOIPb5"
      },
      "source": [
        "**2.** Crie um código em Python que solicite do usuário o input de 2 números inteiros e assim divida o primeiro número pelo segundo. Caso o input não seja um número inteiro, seu código deve guiar o usuário até o preenchimento correto. Caso o usuário preencha com 0,  que apresente mensagem falando sobre a indivisibilidade por zero. Caso o usuário não digite um número, informar que um número deve ser digitado. Em outros casos de erro, apresente ao usuário uma mensagem de erro inesperado.(Médio)"
      ]
    },
    {
      "cell_type": "code",
      "metadata": {
        "id": "9YdH3SMNITYf"
      },
      "source": [
        "while True:\n",
        "  try:\n",
        "    x1 = int(input(\"Digite um número inteiro: \"))\n",
        "    x2= int(input(\"Digite outro número inteiro: \"))\n",
        "    div = x1/x2\n",
        "    print(div)\n",
        "    break\n",
        "  except ValueError:\n",
        "    print(\"O valor digitado não é um inteiro. Tente novamente\") \n",
        "  except ZeroDivisionError:\n",
        "      print( \"Coloque um número diferente de zero\" )\n",
        "  except:\n",
        "      print( \"Tente novamente\" )"
      ],
      "execution_count": null,
      "outputs": []
    },
    {
      "cell_type": "markdown",
      "metadata": {
        "id": "jtw8QMYDIRaB"
      },
      "source": [
        "**3.** Crie um código em Python que peça um número ímpar do usuário. Caso o número seja par, apresente mensagem guiando o usuário até o preenchimento correto(Difícil)"
      ]
    },
    {
      "cell_type": "code",
      "metadata": {
        "id": "vC_p3cQbITOF"
      },
      "source": [
        "while True:\n",
        "  try:\n",
        "    x3 = int(input(\"Digite um número ímpar: \"))\n",
        "    if x3%2 == 0:\n",
        "      print(\"Este é par\")\n",
        "    else:\n",
        "      print(\"Parabéns!\")\n",
        "      break\n",
        "  except ValueError:\n",
        "    print(\"O valor digitado não é um inteiro. Tente novamente\")"
      ],
      "execution_count": null,
      "outputs": []
    }
  ]
}