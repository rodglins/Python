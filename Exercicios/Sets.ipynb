{
  "nbformat": 4,
  "nbformat_minor": 0,
  "metadata": {
    "colab": {
      "name": "Sets.ipynb",
      "private_outputs": true,
      "provenance": [],
      "collapsed_sections": []
    },
    "kernelspec": {
      "name": "python3",
      "display_name": "Python 3"
    },
    "accelerator": "GPU"
  },
  "cells": [
    {
      "cell_type": "markdown",
      "metadata": {
        "id": "vBnZVaoPc4Ns"
      },
      "source": [
        "# **Sets(conjuntos**)\n",
        "\n",
        "---\n",
        "\n",
        "Tipo de dado iterável, imutável e sem elementos duplicados. Chamado de conjunto por possuir a mesma notação matemática dos conjuntos."
      ]
    },
    {
      "cell_type": "markdown",
      "metadata": {
        "id": "mFnVUCc1IOH5"
      },
      "source": [
        "# **Exercícios**\n",
        "\n",
        "---\n",
        "\n"
      ]
    },
    {
      "cell_type": "markdown",
      "metadata": {
        "id": "nDOHaF0qIRsI"
      },
      "source": [
        "1. Crie um algoritmo que pede ao usuário para digitar 3 números, diferentes entre sí, um de cada vez. A cada input do usuário insira o input dentro de um set e ao término printe na tela o output de seu set."
      ]
    },
    {
      "cell_type": "code",
      "metadata": {
        "id": "HzRpBg-BISAL"
      },
      "source": [
        "sets = set()\n",
        "n1=int(input(\"Digite um número: \"))\n",
        "n2=int(input(\"Digite um número diferente do anterior: \"))\n",
        "n3=int(input(\"Digite um número diferente dos anteriores: \"))\n",
        "sets.add(n1)\n",
        "sets.add(n2)\n",
        "sets.add(n3)\n",
        "print(sets)"
      ],
      "execution_count": null,
      "outputs": []
    },
    {
      "cell_type": "markdown",
      "metadata": {
        "id": "kVNxS2-fISLy"
      },
      "source": [
        "2. Crie um algoritmo que receba 3 números como input do usuário e a seguir adicione-o dentro de um frozenset. Ao término, aplique algum atributo frozenset e printe na tela. Utilize dir(frozenset) para selecionar o atributo."
      ]
    },
    {
      "cell_type": "code",
      "metadata": {
        "id": "1obgfpnPISUk"
      },
      "source": [
        "sets1 = set()\n",
        "n1=int(input(\"Digite um número: \"))\n",
        "n2=int(input(\"Digite um número diferente do anterior: \"))\n",
        "n3=int(input(\"Digite um número diferente dos anteriores: \"))\n",
        "sets1.add(n1)\n",
        "sets1.add(n2)\n",
        "sets1.add(n3)\n",
        "froz = frozenset(sets1)\n",
        "print(froz)\n",
        "\n",
        "# Obs.: Como o frozenset é imutável, para adicionar novos números é necessário convertê-lo para set."
      ],
      "execution_count": null,
      "outputs": []
    }
  ]
}