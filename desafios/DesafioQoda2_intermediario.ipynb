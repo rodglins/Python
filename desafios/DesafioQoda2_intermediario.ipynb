{
  "nbformat": 4,
  "nbformat_minor": 0,
  "metadata": {
    "colab": {
      "name": "Fase2.ipynb",
      "provenance": [],
      "collapsed_sections": []
    },
    "kernelspec": {
      "name": "python3",
      "display_name": "Python 3"
    }
  },
  "cells": [
    {
      "cell_type": "markdown",
      "metadata": {
        "id": "CYNAmoj4zSXl"
      },
      "source": [
        "Crie um algoritmo em Python que peça 2 números e imprima o maior deles."
      ]
    },
    {
      "cell_type": "code",
      "metadata": {
        "id": "ViAfpy3GzPN-",
        "colab": {
          "base_uri": "https://localhost:8080/"
        },
        "outputId": "a4d2c16d-24f5-461b-991a-c9eb0eec0be4"
      },
      "source": [
        "num1 = int(input('Digite um número: '))\n",
        "num2 = int(input('Digite outro número: '))\n",
        "lista = [num1,num2]\n",
        "maior = max(lista)\n",
        "print('O maior número digitado é: ',maior)"
      ],
      "execution_count": null,
      "outputs": [
        {
          "output_type": "stream",
          "name": "stdout",
          "text": [
            "Digite um número: 54\n",
            "Digite outro número: 1\n",
            "O maior número digitado é:  54\n"
          ]
        }
      ]
    },
    {
      "cell_type": "markdown",
      "metadata": {
        "id": "gdMis92izSmQ"
      },
      "source": [
        "Crie um algoritmo em Python que peça um valor e mostre na tela se o valor é positivo ou negativo."
      ]
    },
    {
      "cell_type": "code",
      "metadata": {
        "id": "BFpWkdCBz_zh",
        "colab": {
          "base_uri": "https://localhost:8080/"
        },
        "outputId": "7f17e014-009b-476f-fa75-05a4748ec251"
      },
      "source": [
        "valor = float(input('Digite um valor qualquer: '))\n",
        "if valor >= 0 :\n",
        "  print('Positivo')\n",
        "else:\n",
        "    print('Negativo')"
      ],
      "execution_count": null,
      "outputs": [
        {
          "output_type": "stream",
          "name": "stdout",
          "text": [
            "Digite um valor qualquer: -453.543534\n",
            "Negativo\n"
          ]
        }
      ]
    },
    {
      "cell_type": "markdown",
      "metadata": {
        "id": "E_0l_Vx6zSo2"
      },
      "source": [
        "Crie um algoritmo em Python que verifique se uma letra digitada é vogal ou consoante."
      ]
    },
    {
      "cell_type": "code",
      "metadata": {
        "id": "KwJf7XZS0AZW",
        "colab": {
          "base_uri": "https://localhost:8080/"
        },
        "outputId": "b1d180d2-c00d-4f69-c8f6-db81940099e9"
      },
      "source": [
        "letra = vogal(input('Digite uma letra: '))\n",
        "def vogal (v):\n",
        "    if v in \"aeiouAEIOU\":\n",
        "        print('A letra é vogal')\n",
        "        return True\n",
        "    else:\n",
        "        print('A letra é consoante')\n",
        "        return False"
      ],
      "execution_count": null,
      "outputs": [
        {
          "output_type": "stream",
          "name": "stdout",
          "text": [
            "Digite uma letra: U\n",
            "A letra é vogal\n"
          ]
        }
      ]
    },
    {
      "cell_type": "markdown",
      "metadata": {
        "id": "1i4VCiiczSrL"
      },
      "source": [
        "Faça um programa para a leitura de duas notas parciais de um aluno. O programa deve calcular a média alcançada por aluno e apresentar:\n",
        "* \"Aprovado\", se a média alcançada for maior ou igual a sete;\n",
        "* \"Reprovado\", se a média for menor do que sete;\n",
        "* \"Aprovado com Distinção\", se a média for igual a 10."
      ]
    },
    {
      "cell_type": "code",
      "metadata": {
        "id": "yoW67hjA0BHy",
        "colab": {
          "base_uri": "https://localhost:8080/"
        },
        "outputId": "949cac1f-e5f3-454e-c32e-6ef68cba44a4"
      },
      "source": [
        "nota1 = float(input('Digite a nota 1: '))\n",
        "nota2 = float(input('Digite a nota 2: '))\n",
        "media = (nota1+nota2)/2\n",
        "if media >= 7 and media < 10:\n",
        "  print('Aprovado')\n",
        "elif media < 7:\n",
        "  print('Reprovado')\n",
        "elif media == 10:\n",
        "  print('Aprovado com distinção')\n",
        "else:\n",
        "  print('Nota inválida')"
      ],
      "execution_count": 6,
      "outputs": [
        {
          "output_type": "stream",
          "name": "stdout",
          "text": [
            "Digite a nota 1: 7\n",
            "Digite a nota 2: 7\n",
            "Aprovado\n"
          ]
        }
      ]
    },
    {
      "cell_type": "markdown",
      "metadata": {
        "id": "4ep7kezvzStO"
      },
      "source": [
        "Crie um algoritmo em Python que leia três números e mostre o maior deles."
      ]
    },
    {
      "cell_type": "code",
      "metadata": {
        "id": "6K6IHWdr0Blt",
        "colab": {
          "base_uri": "https://localhost:8080/"
        },
        "outputId": "91e8d410-8213-4a56-eb69-76db54e91b37"
      },
      "source": [
        "num1 = int(input('Digite um número: '))\n",
        "num2 = int(input('Digite outro número: '))\n",
        "num3 = int(input('Digite o terceiro número: '))\n",
        "lista = [num1,num2,num3]\n",
        "print('O maior número em',lista,' é', max(lista))"
      ],
      "execution_count": 16,
      "outputs": [
        {
          "output_type": "stream",
          "name": "stdout",
          "text": [
            "Digite um número: 4\n",
            "Digite outro número: 99\n",
            "Digite o terceiro número: 3\n",
            "O maior número em [4, 99, 3]  é 99\n"
          ]
        }
      ]
    },
    {
      "cell_type": "markdown",
      "metadata": {
        "id": "u6__NaXqzeYg"
      },
      "source": [
        "Crie um algoritmo em Python que leia três números e mostre o maior e o menor deles."
      ]
    },
    {
      "cell_type": "code",
      "metadata": {
        "id": "mm2L7g3x0Cfx",
        "colab": {
          "base_uri": "https://localhost:8080/"
        },
        "outputId": "a32c6637-effd-408b-d30c-d7c9ce56a520"
      },
      "source": [
        "num1 = int(input('Digite um número: '))\n",
        "num2 = int(input('Digite outro número: '))\n",
        "num3 = int(input('Digite o terceiro número: '))\n",
        "lista = [num1,num2,num3]\n",
        "print('O maior número em',lista,' é', max(lista), 'e o menor é', min(lista) )"
      ],
      "execution_count": 17,
      "outputs": [
        {
          "output_type": "stream",
          "name": "stdout",
          "text": [
            "Digite um número: 5\n",
            "Digite outro número: 8\n",
            "Digite o terceiro número: 0\n",
            "O maior número em [5, 8, 0]  é 8 e o menor é 0\n"
          ]
        }
      ]
    },
    {
      "cell_type": "markdown",
      "metadata": {
        "id": "lIlfG-ATzgOr"
      },
      "source": [
        "Faça um programa que pergunte o preço de 5 produtos e informe qual produto você deve comprar, sabendo que a decisão é sempre pelo mais barato."
      ]
    },
    {
      "cell_type": "code",
      "metadata": {
        "id": "-y4pB6br0DD_",
        "colab": {
          "base_uri": "https://localhost:8080/"
        },
        "outputId": "7633cad4-1b7a-4634-bf27-80f483ac52c2"
      },
      "source": [
        "n = 0\n",
        "lista = []\n",
        "while n <= 4:\n",
        "  n = n + 1\n",
        "  lista.append(int(input('Digite um preço: ')))\n",
        "else:\n",
        "  print(lista)\n",
        "  print('Você deve comprar o produto de valor: R$', min(lista),',00')"
      ],
      "execution_count": 36,
      "outputs": [
        {
          "output_type": "stream",
          "name": "stdout",
          "text": [
            "Digite um preço: 11\n",
            "Digite um preço: 22\n",
            "Digite um preço: 33\n",
            "Digite um preço: 44\n",
            "Digite um preço: 55\n",
            "[11, 22, 33, 44, 55]\n",
            "Você deve comprar o produto de valor: R$ 11 ,00\n"
          ]
        }
      ]
    },
    {
      "cell_type": "markdown",
      "metadata": {
        "id": "Vj4OXsJQziu_"
      },
      "source": [
        "Crie um algoritmo em Python que leia três números e mostre-os em ordem decrescente."
      ]
    },
    {
      "cell_type": "code",
      "metadata": {
        "id": "RmApGpg30D00",
        "colab": {
          "base_uri": "https://localhost:8080/"
        },
        "outputId": "8371a806-7cc3-435d-b652-50a55d734867"
      },
      "source": [
        "n = 0\n",
        "numeros = []\n",
        "while n <= 2:\n",
        "  n = n + 1\n",
        "  numeros.append(int(input('Digite um numero: ')))\n",
        "else:\n",
        "  numeros.sort(reverse = True)\n",
        "  print(numeros)"
      ],
      "execution_count": 37,
      "outputs": [
        {
          "output_type": "stream",
          "name": "stdout",
          "text": [
            "Digite um numero: 12\n",
            "Digite um numero: 6\n",
            "Digite um numero: 77\n",
            "[77, 12, 6]\n"
          ]
        }
      ]
    },
    {
      "cell_type": "markdown",
      "metadata": {
        "id": "e7id8Ewgzlow"
      },
      "source": [
        "As Organizações Mendéz resolveram dar um aumento de salário aos seus colaboradores e lhe contraram para desenvolver o programa que calculará os reajustes em Python. Faça um programa que receba o salário de um colaborador e o reajuste segundo o seguinte critério, baseado no salário atual:\n",
        "\n",
        "* salários entre 680,00 e 800,00 : aumento de 15%<br>\n",
        "* salários entre 800,00 e 2500,00 : aumento de 10%<br>\n",
        "* salários de 2500,00 em diante : aumento de 5% após o aumento ser realizado.\n",
        "\n",
        "Informe na tela:\n",
        "* o salário antes do reajuste;\n",
        "* o percentual de aumento aplicado;\n",
        "* o valor do aumento;\n",
        "* o novo salário, após o aumento."
      ]
    },
    {
      "cell_type": "code",
      "metadata": {
        "id": "Kl0ainsv0Eif",
        "colab": {
          "base_uri": "https://localhost:8080/"
        },
        "outputId": "70a952f3-7ecb-4bce-a9f8-fff0663bbd66"
      },
      "source": [
        "salario = float(input('Digite o salário: '))\n",
        "if salario >= 680 and salario <= 800:\n",
        "  porc = 15\n",
        "elif salario > 800 and salario <= 2500:\n",
        "  porc = 10\n",
        "elif salario > 2500:\n",
        "  porc = 5\n",
        "  \n",
        "aumento = (salario*porc)/100\n",
        "salarioNovo = salario+aumento\n",
        "\n",
        "print('Salário antes do reajuste: ', salario)\n",
        "print('Percentual de aumento aplicado: ', porc)\n",
        "print('Valor do aumento: ', aumento)\n",
        "print('Novo salário, após o aumento: ', salarioNovo)"
      ],
      "execution_count": 39,
      "outputs": [
        {
          "output_type": "stream",
          "name": "stdout",
          "text": [
            "Digite o salário: 2000\n",
            "Salário antes do reajuste:  2000.0\n",
            "Percentual de aumento aplicado:  10\n",
            "Valor do aumento:  200.0\n",
            "Novo salário, após o aumento:  2200.0\n"
          ]
        }
      ]
    }
  ]
}