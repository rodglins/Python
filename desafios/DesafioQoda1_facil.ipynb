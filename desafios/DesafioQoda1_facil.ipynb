{
  "nbformat": 4,
  "nbformat_minor": 0,
  "metadata": {
    "colab": {
      "name": "Fase1.ipynb",
      "provenance": []
    },
    "kernelspec": {
      "name": "python3",
      "display_name": "Python 3"
    }
  },
  "cells": [
    {
      "cell_type": "markdown",
      "metadata": {
        "id": "CYNAmoj4zSXl"
      },
      "source": [
        "Crie um algoritmo em Python que mostre a mensagem \"Alo mundo\" na tela."
      ]
    },
    {
      "cell_type": "code",
      "metadata": {
        "id": "ViAfpy3GzPN-",
        "colab": {
          "base_uri": "https://localhost:8080/"
        },
        "outputId": "03b04b05-2dd9-4dc4-b774-b74530a3b751"
      },
      "source": [
        "print('Hello world')"
      ],
      "execution_count": 1,
      "outputs": [
        {
          "output_type": "stream",
          "name": "stdout",
          "text": [
            "Hello world\n"
          ]
        }
      ]
    },
    {
      "cell_type": "markdown",
      "metadata": {
        "id": "gdMis92izSmQ"
      },
      "source": [
        "Crie um algoritmo em Python que peça dois números e imprima a soma."
      ]
    },
    {
      "cell_type": "code",
      "metadata": {
        "id": "BFpWkdCBz_zh",
        "colab": {
          "base_uri": "https://localhost:8080/"
        },
        "outputId": "119dfd92-7427-4154-b7e6-6819ebd9091d"
      },
      "source": [
        "num1 = int(input('Insira um número: '))\n",
        "num2 = int(input('Insira outro número: '))\n",
        "soma = num1 + num2\n",
        "print('A soma é: ', soma)"
      ],
      "execution_count": 7,
      "outputs": [
        {
          "output_type": "stream",
          "name": "stdout",
          "text": [
            "Insira um número: 1\n",
            "Insira outro número: 2\n",
            "A soma é:  3\n"
          ]
        }
      ]
    },
    {
      "cell_type": "markdown",
      "metadata": {
        "id": "E_0l_Vx6zSo2"
      },
      "source": [
        "Crie um algoritmo em Python que peça um número e então mostre a mensagem O número informado foi [número]."
      ]
    },
    {
      "cell_type": "code",
      "metadata": {
        "id": "KwJf7XZS0AZW",
        "colab": {
          "base_uri": "https://localhost:8080/"
        },
        "outputId": "fd8e18da-bbf1-431e-ce31-cba46433f57a"
      },
      "source": [
        "num1 = int(input('Digite um número: '))\n",
        "print('O número é: ', num1)"
      ],
      "execution_count": 9,
      "outputs": [
        {
          "output_type": "stream",
          "name": "stdout",
          "text": [
            "Digite um número: 1\n",
            "O número é:  1\n"
          ]
        }
      ]
    },
    {
      "cell_type": "markdown",
      "metadata": {
        "id": "1i4VCiiczSrL"
      },
      "source": [
        "Crie um algoritmo em Python que converta metros para centímetros."
      ]
    },
    {
      "cell_type": "code",
      "metadata": {
        "id": "yoW67hjA0BHy",
        "colab": {
          "base_uri": "https://localhost:8080/"
        },
        "outputId": "59dcda41-a807-4b59-a1ba-71e45367a62b"
      },
      "source": [
        "metros = float(input('Digite o tamanho em metros para converter para centímetros: '))\n",
        "centimetros = metros * 100\n",
        "print('O tamanho é: ', centimetros, 'cm.')"
      ],
      "execution_count": 16,
      "outputs": [
        {
          "output_type": "stream",
          "name": "stdout",
          "text": [
            "Digite o tamanho em metros para converter para centímetros: 12\n",
            "O tamanho é:  1200.0 cm.\n"
          ]
        }
      ]
    },
    {
      "cell_type": "markdown",
      "metadata": {
        "id": "4ep7kezvzStO"
      },
      "source": [
        "Crie um algoritmo em Python que peça as 4 notas bimestrais e mostre a média."
      ]
    },
    {
      "cell_type": "code",
      "metadata": {
        "id": "6K6IHWdr0Blt",
        "colab": {
          "base_uri": "https://localhost:8080/"
        },
        "outputId": "19f9c87c-45a7-4d33-8ea8-432d45663bc0"
      },
      "source": [
        "nota1 = float(input('Insira a nota 1: '))\n",
        "nota2 = float(input('Insira a nota 2: '))\n",
        "nota3 = float(input('Insira a nota 3: '))\n",
        "nota4 = float(input('Insira a nota 4: '))\n",
        "media = (nota1 + nota2 + nota3 + nota4) / 4\n",
        "print('A média é: ', media)"
      ],
      "execution_count": 21,
      "outputs": [
        {
          "output_type": "stream",
          "name": "stdout",
          "text": [
            "Insira a nota 1: 3.75\n",
            "Insira a nota 2: 4\n",
            "Insira a nota 3: 10\n",
            "Insira a nota 4: 9\n",
            "A média é:  6.6875\n"
          ]
        }
      ]
    },
    {
      "cell_type": "markdown",
      "metadata": {
        "id": "u6__NaXqzeYg"
      },
      "source": [
        "Crie um algoritmo em Python que peça o raio de um círculo, calcule e mostre sua área."
      ]
    },
    {
      "cell_type": "code",
      "metadata": {
        "id": "mm2L7g3x0Cfx",
        "colab": {
          "base_uri": "https://localhost:8080/"
        },
        "outputId": "ca82fe3e-1178-4aee-ae8c-4c918ef25c9d"
      },
      "source": [
        "import math\n",
        "\n",
        "r = float(input('Digite o raio do círculo: ' ))\n",
        "a = (math.pi)*(r**2)\n",
        "d = 2*r\n",
        "print('A área do círculo é: ', a)\n",
        "print('O diâmetro do círculo é: ', d)"
      ],
      "execution_count": 26,
      "outputs": [
        {
          "output_type": "stream",
          "name": "stdout",
          "text": [
            "Digite o raio do círculo: 12\n",
            "A área do círculo é:  452.3893421169302\n",
            "O diâmetro do círculo é:  24.0\n"
          ]
        }
      ]
    },
    {
      "cell_type": "markdown",
      "metadata": {
        "id": "lIlfG-ATzgOr"
      },
      "source": [
        "Crie um algoritmo em Python que calcule a área de um quadrado, em seguida mostre o dobro desta área para o usuário."
      ]
    },
    {
      "cell_type": "code",
      "metadata": {
        "id": "-y4pB6br0DD_",
        "colab": {
          "base_uri": "https://localhost:8080/"
        },
        "outputId": "4cc0fcd8-f7e7-4c79-e4b5-cde7972f6e13"
      },
      "source": [
        "b = float(input('Digite a base do quadrado: '))\n",
        "h = float(input('Digite a altura do quadrado: '))\n",
        "A = b * h\n",
        "print('A área do quadrado é: ', A)"
      ],
      "execution_count": 25,
      "outputs": [
        {
          "output_type": "stream",
          "name": "stdout",
          "text": [
            "Digite a base do quadrado: 35\n",
            "Digite a altura do quadrado: 12\n",
            "A área do quadrado é:  420.0\n"
          ]
        }
      ]
    },
    {
      "cell_type": "markdown",
      "metadata": {
        "id": "Vj4OXsJQziu_"
      },
      "source": [
        "Crie um algoritmo em Python que pergunte quanto você ganha por hora e o número de horas trabalhadas no mês. Calcule e mostre o total do seu salário no referido mês.\n"
      ]
    },
    {
      "cell_type": "code",
      "metadata": {
        "id": "RmApGpg30D00",
        "colab": {
          "base_uri": "https://localhost:8080/"
        },
        "outputId": "ddfe3531-6965-47f8-cd8f-7c204d64eeb2"
      },
      "source": [
        "sh = float(input('Digite o valor/hora do trabalho: R$ '))\n",
        "horas = float(input('Digite o número de horas trabalhadas no mês: '))\n",
        "salario = sh * horas\n",
        "print ('O salário será de: R$ ', salario, 'trabalhando 24/7.')"
      ],
      "execution_count": 29,
      "outputs": [
        {
          "output_type": "stream",
          "name": "stdout",
          "text": [
            "Digite o valor/hora do trabalho: R$ 12.30\n",
            "Digite o número de horas trabalhadas no mês: 720\n",
            "O salário será de: R$  8856.0 trabalhando 24/7.\n"
          ]
        }
      ]
    },
    {
      "cell_type": "markdown",
      "metadata": {
        "id": "e7id8Ewgzlow"
      },
      "source": [
        "Crie um algoritmo em Python que peça a temperatura em graus Farenheit, transforme e mostre a temperatura em graus Celsius.\n",
        "C = (5 * (F-32) / 9)."
      ]
    },
    {
      "cell_type": "code",
      "metadata": {
        "id": "Kl0ainsv0Eif",
        "colab": {
          "base_uri": "https://localhost:8080/"
        },
        "outputId": "b750f1a3-5c38-4499-dfa8-d78de9c970d4"
      },
      "source": [
        "print('########Conversor Farenheit para Celsius ########')\n",
        "far = float(input('Digite a temperatura em Farenheit: '))\n",
        "celsius = (5*(far-32)/9)\n",
        "print('A temperatura em Celsius é: ',celsius, 'ºC')"
      ],
      "execution_count": 31,
      "outputs": [
        {
          "output_type": "stream",
          "name": "stdout",
          "text": [
            "########Conversor temperatura########\n",
            "Digite a temperatura em Farenheit: 89.6\n",
            "A temperatura em Celsius é:  32.0 ºC\n"
          ]
        }
      ]
    },
    {
      "cell_type": "markdown",
      "metadata": {
        "id": "mFCgXRPaznno"
      },
      "source": [
        "Crie um algoritmo em Python que peça a temperatura em graus Celsius, transforme e mostre em graus Farenheit."
      ]
    },
    {
      "cell_type": "code",
      "metadata": {
        "id": "xEAAHRi00FS8",
        "colab": {
          "base_uri": "https://localhost:8080/"
        },
        "outputId": "92e6f43f-d647-4b3c-efca-466379694c4d"
      },
      "source": [
        "print('########Conversor Celsius para Farenheit########')\n",
        "cel = float(input('Digite a temperatura em Celsius: '))\n",
        "farenheit = (cel * 9/5) + 32\n",
        "print('A temperatura em Celsius é: ',farenheit, 'ºC')\n",
        "\n",
        "\n"
      ],
      "execution_count": 34,
      "outputs": [
        {
          "output_type": "stream",
          "name": "stdout",
          "text": [
            "########Conversor Celsius para Farenheit########\n",
            "Digite a temperatura em Celsius: 32\n",
            "A temperatura em Celsius é:  89.6 ºC\n"
          ]
        }
      ]
    },
    {
      "cell_type": "markdown",
      "metadata": {
        "id": "j3fdhu-8zqu9"
      },
      "source": [
        "Crie um algoritmo em Python que peça 2 números inteiros e um número real. Calcule e mostre:\n",
        "* a soma do dobro do primeiro com metade do segundo .\n",
        "* a soma do triplo do primeiro com o terceiro.\n",
        "* o terceiro elevado ao cubo."
      ]
    },
    {
      "cell_type": "code",
      "metadata": {
        "id": "ZEqZrKjt0F5B",
        "colab": {
          "base_uri": "https://localhost:8080/"
        },
        "outputId": "68ef8e04-a1dd-46c1-b41c-7b1749bb7a02"
      },
      "source": [
        "nint1 = int(input('Digite um número inteiro: '))\n",
        "nint2 = int(input('Digite um número inteiro: '))\n",
        "real = float(input('Digite um número real: '))\n",
        "som1 = (nint1*2)+(nint2/2)\n",
        "som2 = (nint1*3)+real\n",
        "cubo = real**3\n",
        "print('A soma do dobro do primeiro com metade do segundo é: ', som1)\n",
        "print('A soma do triplo do primeiro com o terceiro é: ', som2)\n",
        "print('O terceiro elevado ao cubo é: ', cubo)"
      ],
      "execution_count": 2,
      "outputs": [
        {
          "output_type": "stream",
          "name": "stdout",
          "text": [
            "Digite um número inteiro: 2\n",
            "Digite um número inteiro: 3\n",
            "Digite um número real: 3.6\n",
            "A soma do dobro do primeiro com metade do segundo é:  5.5\n",
            "A soma do triplo do primeiro com o terceiro é:  9.6\n",
            "O terceiro elevado ao cubo é:  46.656000000000006\n"
          ]
        }
      ]
    }
  ]
}