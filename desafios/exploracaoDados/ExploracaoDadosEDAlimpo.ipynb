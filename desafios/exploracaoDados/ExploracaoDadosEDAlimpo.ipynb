{
  "nbformat": 4,
  "nbformat_minor": 0,
  "metadata": {
    "colab": {
      "name": " ExploracaoDadosEDAlimpo.ipynb",
      "provenance": [],
      "collapsed_sections": []
    },
    "kernelspec": {
      "name": "python3",
      "display_name": "Python 3"
    },
    "language_info": {
      "name": "python"
    }
  },
  "cells": [
    {
      "cell_type": "markdown",
      "metadata": {
        "id": "oE8SLAvVWOTi"
      },
      "source": [
        "# **Trilha 4: Tarefa (Peso 3)**\n",
        "\n",
        "Empregue no mínimo duas bases de dados (tabelas) extraídas de um ou ambos os sites abaixo: \n",
        "\n",
        " \n",
        "\n",
        "a. https://wid.world/ ; \n",
        "\n",
        "b. https://www.gapminder.org/  \n",
        "\n",
        " \n",
        "\n",
        "E faça uma Exploração dos Dados EDA de seu interesse, empregando o Python e o que você aprendeu até aqui. Os sites apresentam diversos dados sobre as diferenças de desenvolvimento dos países e a desigualdade. Foque em perguntas que são do seu interesse sobre os dados. \n",
        "\n",
        "Na sua análise você deve responder ao menos quatro perguntas relevantes sobre os dados, incluir na sua análise seleções e visualizações dos dados e um texto de conclusão a cada pergunta. \n",
        "\n",
        "Peça ao professor modelos de código para sua implementação. \n",
        "\n",
        "Seu código deve ser minimamente claro e organizado. Não são necessários comentários detalhados, mas deixe claro no seu código cada parte (atividade), cada fase realizada e a resposta final com sua conclusão. \n",
        "\n",
        " \n",
        "\n",
        "Entrega:  \n",
        "\n",
        ".pdf de print do seu notebook Python. \n",
        "\n",
        "Compartilhe o endereço do seu notebook Python (Google Drive ou GitHub) 100% executável para abertura no Google Colab.  \n",
        "\n",
        "Não deixe de incluir o seu texto uma introdução justificando a escolha da análise e ao final suas conclusões. "
      ]
    },
    {
      "cell_type": "markdown",
      "metadata": {
        "id": "YBcLAbxGC3Eu"
      },
      "source": [
        "# **Introdução**\n",
        "\n",
        "Para realização desta análise foram utilizados os dados do site Gapminder. O dataframe escolhido possui dados sobre a Pobreza no Mundo. Essa atividade permitiu o treino prático em processo EDA bem como o treino em gráficos e análise posterior.  "
      ]
    },
    {
      "cell_type": "markdown",
      "metadata": {
        "id": "ynhzUYdnW2Rt"
      },
      "source": [
        "# Perguntas:\n",
        "\n",
        "\n",
        "\n",
        "# **1.   Em que período o índice de Gini melhorou no Brasil?**\n",
        "  \n",
        "  Com a utilização do gráfico de barras foi verificada a variação do Gini entre 1980 e 2018, onde é possível observar uma piora entre 1980 e 1988, melhora entre 1988 e 1991, piora em 1992 e uma melhora entre 1993 e 2014. A melhora de 20 anos é interrompida e tem início de piora em 2015.\n",
        "\n",
        "# **2.   Como o Brasil se posiciona no índice de Gini em relação aos demais países do mundo?**\n",
        "\n",
        "  Comparando os dados de Gini do Brasil com os do Mundo, utilizei o gráfico boxplot para melhor visualização. Considerando quanto maior o índice, pior a desigualdade do país. É possível concluir que o Brasil está com índice muito ruim de Gini, estando muito distante da média mundial. \n",
        "\n",
        "# **3. Em que período houve mais dados sobre a pobreza no Brasil?**\n",
        "\n",
        "  Utilizando um gráfico de linha com a densidade dos dados é possui observar que houve mais dados entre 1985 e 2015, com um crescimento ainda maior entre 2005 e 2010.\n",
        "\n",
        "# **4. Como a pobreza urbana e rural do Brasil se modificaram com o tempo?**\n",
        "\n",
        "  Utiliza-se o gráfico boxplot para analizar a pobreza rural no Brasil. É possível observar que a média da pobreza rural no Brasil está acima da média mundial de pobreza. Realizando essa analise com a pobreza urbana no Brasil verifica-se que a média é menor que a média mundial, está abaixo da média.\n",
        "\n",
        "  \n",
        "  \n",
        "  Gerando gráfico de barras Pobreza Rural no Brasil entre 1997 e 2002. Aprensenta dados claros. Permite inferir situação de queda mas o dataframe não possui dados suficientes dos demais anos. Também utilizando o mesmo tipo de gráfico é possível observar o aumento da pobreza urbana no Brasil no mesmo período. Concluindo, utilizando um gráfico comparativo entre pobreza urbana x pobreza rural no Brasil por período é possivel obsevar aumento da pobreza urbana e redução da pobreza rural no Brasil. Pelo campo valor é possivel observar que a pobreza rural é muito maior.\n",
        "\n",
        "\n",
        "\n",
        "\n",
        "\n",
        "\n",
        "\n"
      ]
    },
    {
      "cell_type": "markdown",
      "metadata": {
        "id": "USACQYaYEISy"
      },
      "source": [
        "# **Conclusão**\n",
        "\n",
        "Foi possível realizar a análise requisitada utilizando as técnicas aprendidas em aula. Com este treino foi possível identificar dificuldades em alguns processos que precisarão ser aperfeiçoados com muita prática, como uso de dataframes com metadados e dados em diversas disposições."
      ]
    },
    {
      "cell_type": "code",
      "metadata": {
        "id": "MAD7_q9X_D8d"
      },
      "source": [
        "# Importando Bibliotecas e adicionando seus respectivos alias\n",
        "\n",
        "import pandas as pd\n",
        "import numpy as np\n",
        "import matplotlib.pyplot as plt\n",
        "import matplotlib as mpl\n",
        "import seaborn as sns\n",
        "%matplotlib inline"
      ],
      "execution_count": 43,
      "outputs": []
    },
    {
      "cell_type": "code",
      "metadata": {
        "id": "omCBVSOo__nC"
      },
      "source": [
        "#Importando os df: Gini, Rural, Urban\n",
        "# Fonte: https://www.gapminder.org/data\n",
        "\n",
        "dfGini = pd.read_csv('https://raw.githubusercontent.com/rodglins/Python/master/desafios/exploracaoDados/gini.csv')\n",
        "dfRural = pd.read_csv('https://raw.githubusercontent.com/rodglins/Python/master/desafios/exploracaoDados/rural.csv')\n",
        "dfUrban = pd.read_csv('https://raw.githubusercontent.com/rodglins/Python/master/desafios/exploracaoDados/urban.csv')\n"
      ],
      "execution_count": 44,
      "outputs": []
    },
    {
      "cell_type": "code",
      "metadata": {
        "colab": {
          "base_uri": "https://localhost:8080/",
          "height": 258
        },
        "id": "mcbNNs_XfYU4",
        "outputId": "20dcd434-4078-4626-eefa-d83a49bfecf2"
      },
      "source": [
        "# verificando o formato do df\n",
        "dfGini.head()\n"
      ],
      "execution_count": 45,
      "outputs": [
        {
          "output_type": "execute_result",
          "data": {
            "text/html": [
              "<div>\n",
              "<style scoped>\n",
              "    .dataframe tbody tr th:only-of-type {\n",
              "        vertical-align: middle;\n",
              "    }\n",
              "\n",
              "    .dataframe tbody tr th {\n",
              "        vertical-align: top;\n",
              "    }\n",
              "\n",
              "    .dataframe thead th {\n",
              "        text-align: right;\n",
              "    }\n",
              "</style>\n",
              "<table border=\"1\" class=\"dataframe\">\n",
              "  <thead>\n",
              "    <tr style=\"text-align: right;\">\n",
              "      <th></th>\n",
              "      <th>country</th>\n",
              "      <th>1966</th>\n",
              "      <th>1968</th>\n",
              "      <th>1969</th>\n",
              "      <th>1970</th>\n",
              "      <th>1971</th>\n",
              "      <th>1972</th>\n",
              "      <th>1973</th>\n",
              "      <th>1974</th>\n",
              "      <th>1975</th>\n",
              "      <th>1976</th>\n",
              "      <th>1977</th>\n",
              "      <th>1978</th>\n",
              "      <th>1979</th>\n",
              "      <th>1980</th>\n",
              "      <th>1981</th>\n",
              "      <th>1982</th>\n",
              "      <th>1983</th>\n",
              "      <th>1984</th>\n",
              "      <th>1985</th>\n",
              "      <th>1986</th>\n",
              "      <th>1987</th>\n",
              "      <th>1988</th>\n",
              "      <th>1989</th>\n",
              "      <th>1990</th>\n",
              "      <th>1991</th>\n",
              "      <th>1992</th>\n",
              "      <th>1993</th>\n",
              "      <th>1994</th>\n",
              "      <th>1995</th>\n",
              "      <th>1996</th>\n",
              "      <th>1997</th>\n",
              "      <th>1998</th>\n",
              "      <th>1999</th>\n",
              "      <th>2000</th>\n",
              "      <th>2001</th>\n",
              "      <th>2002</th>\n",
              "      <th>2003</th>\n",
              "      <th>2004</th>\n",
              "      <th>2005</th>\n",
              "      <th>2006</th>\n",
              "      <th>2007</th>\n",
              "      <th>2008</th>\n",
              "      <th>2009</th>\n",
              "      <th>2010</th>\n",
              "      <th>2011</th>\n",
              "      <th>2012</th>\n",
              "      <th>2013</th>\n",
              "      <th>2014</th>\n",
              "      <th>2015</th>\n",
              "      <th>2016</th>\n",
              "      <th>2017</th>\n",
              "      <th>2018</th>\n",
              "    </tr>\n",
              "  </thead>\n",
              "  <tbody>\n",
              "    <tr>\n",
              "      <th>0</th>\n",
              "      <td>Angola</td>\n",
              "      <td>NaN</td>\n",
              "      <td>NaN</td>\n",
              "      <td>NaN</td>\n",
              "      <td>NaN</td>\n",
              "      <td>NaN</td>\n",
              "      <td>NaN</td>\n",
              "      <td>NaN</td>\n",
              "      <td>NaN</td>\n",
              "      <td>NaN</td>\n",
              "      <td>NaN</td>\n",
              "      <td>NaN</td>\n",
              "      <td>NaN</td>\n",
              "      <td>NaN</td>\n",
              "      <td>NaN</td>\n",
              "      <td>NaN</td>\n",
              "      <td>NaN</td>\n",
              "      <td>NaN</td>\n",
              "      <td>NaN</td>\n",
              "      <td>NaN</td>\n",
              "      <td>NaN</td>\n",
              "      <td>NaN</td>\n",
              "      <td>NaN</td>\n",
              "      <td>NaN</td>\n",
              "      <td>NaN</td>\n",
              "      <td>NaN</td>\n",
              "      <td>NaN</td>\n",
              "      <td>NaN</td>\n",
              "      <td>NaN</td>\n",
              "      <td>NaN</td>\n",
              "      <td>NaN</td>\n",
              "      <td>NaN</td>\n",
              "      <td>NaN</td>\n",
              "      <td>52.0</td>\n",
              "      <td>NaN</td>\n",
              "      <td>NaN</td>\n",
              "      <td>NaN</td>\n",
              "      <td>NaN</td>\n",
              "      <td>NaN</td>\n",
              "      <td>NaN</td>\n",
              "      <td>NaN</td>\n",
              "      <td>42.7</td>\n",
              "      <td>NaN</td>\n",
              "      <td>NaN</td>\n",
              "      <td>NaN</td>\n",
              "      <td>NaN</td>\n",
              "      <td>NaN</td>\n",
              "      <td>NaN</td>\n",
              "      <td>NaN</td>\n",
              "      <td>NaN</td>\n",
              "      <td>NaN</td>\n",
              "      <td>51.3</td>\n",
              "      <td>NaN</td>\n",
              "    </tr>\n",
              "    <tr>\n",
              "      <th>1</th>\n",
              "      <td>Albania</td>\n",
              "      <td>NaN</td>\n",
              "      <td>NaN</td>\n",
              "      <td>NaN</td>\n",
              "      <td>NaN</td>\n",
              "      <td>NaN</td>\n",
              "      <td>NaN</td>\n",
              "      <td>NaN</td>\n",
              "      <td>NaN</td>\n",
              "      <td>NaN</td>\n",
              "      <td>NaN</td>\n",
              "      <td>NaN</td>\n",
              "      <td>NaN</td>\n",
              "      <td>NaN</td>\n",
              "      <td>NaN</td>\n",
              "      <td>NaN</td>\n",
              "      <td>NaN</td>\n",
              "      <td>NaN</td>\n",
              "      <td>NaN</td>\n",
              "      <td>NaN</td>\n",
              "      <td>NaN</td>\n",
              "      <td>NaN</td>\n",
              "      <td>NaN</td>\n",
              "      <td>NaN</td>\n",
              "      <td>NaN</td>\n",
              "      <td>NaN</td>\n",
              "      <td>NaN</td>\n",
              "      <td>NaN</td>\n",
              "      <td>NaN</td>\n",
              "      <td>27.0</td>\n",
              "      <td>NaN</td>\n",
              "      <td>NaN</td>\n",
              "      <td>NaN</td>\n",
              "      <td>NaN</td>\n",
              "      <td>NaN</td>\n",
              "      <td>31.7</td>\n",
              "      <td>NaN</td>\n",
              "      <td>NaN</td>\n",
              "      <td>30.6</td>\n",
              "      <td>NaN</td>\n",
              "      <td>NaN</td>\n",
              "      <td>30.0</td>\n",
              "      <td>NaN</td>\n",
              "      <td>NaN</td>\n",
              "      <td>NaN</td>\n",
              "      <td>29.0</td>\n",
              "      <td>NaN</td>\n",
              "      <td>34.6</td>\n",
              "      <td>32.9</td>\n",
              "      <td>33.7</td>\n",
              "      <td>33.2</td>\n",
              "      <td>NaN</td>\n",
              "      <td>NaN</td>\n",
              "    </tr>\n",
              "    <tr>\n",
              "      <th>2</th>\n",
              "      <td>United Arab Emirates</td>\n",
              "      <td>NaN</td>\n",
              "      <td>NaN</td>\n",
              "      <td>NaN</td>\n",
              "      <td>NaN</td>\n",
              "      <td>NaN</td>\n",
              "      <td>NaN</td>\n",
              "      <td>NaN</td>\n",
              "      <td>NaN</td>\n",
              "      <td>NaN</td>\n",
              "      <td>NaN</td>\n",
              "      <td>NaN</td>\n",
              "      <td>NaN</td>\n",
              "      <td>NaN</td>\n",
              "      <td>NaN</td>\n",
              "      <td>NaN</td>\n",
              "      <td>NaN</td>\n",
              "      <td>NaN</td>\n",
              "      <td>NaN</td>\n",
              "      <td>NaN</td>\n",
              "      <td>NaN</td>\n",
              "      <td>NaN</td>\n",
              "      <td>NaN</td>\n",
              "      <td>NaN</td>\n",
              "      <td>NaN</td>\n",
              "      <td>NaN</td>\n",
              "      <td>NaN</td>\n",
              "      <td>NaN</td>\n",
              "      <td>NaN</td>\n",
              "      <td>NaN</td>\n",
              "      <td>NaN</td>\n",
              "      <td>NaN</td>\n",
              "      <td>NaN</td>\n",
              "      <td>NaN</td>\n",
              "      <td>NaN</td>\n",
              "      <td>NaN</td>\n",
              "      <td>NaN</td>\n",
              "      <td>NaN</td>\n",
              "      <td>NaN</td>\n",
              "      <td>NaN</td>\n",
              "      <td>NaN</td>\n",
              "      <td>NaN</td>\n",
              "      <td>NaN</td>\n",
              "      <td>NaN</td>\n",
              "      <td>NaN</td>\n",
              "      <td>NaN</td>\n",
              "      <td>32.5</td>\n",
              "      <td>NaN</td>\n",
              "      <td>NaN</td>\n",
              "      <td>NaN</td>\n",
              "      <td>NaN</td>\n",
              "      <td>26.0</td>\n",
              "      <td>NaN</td>\n",
              "    </tr>\n",
              "    <tr>\n",
              "      <th>3</th>\n",
              "      <td>Argentina</td>\n",
              "      <td>NaN</td>\n",
              "      <td>NaN</td>\n",
              "      <td>NaN</td>\n",
              "      <td>NaN</td>\n",
              "      <td>NaN</td>\n",
              "      <td>NaN</td>\n",
              "      <td>NaN</td>\n",
              "      <td>NaN</td>\n",
              "      <td>NaN</td>\n",
              "      <td>NaN</td>\n",
              "      <td>NaN</td>\n",
              "      <td>NaN</td>\n",
              "      <td>40.8</td>\n",
              "      <td>NaN</td>\n",
              "      <td>NaN</td>\n",
              "      <td>NaN</td>\n",
              "      <td>NaN</td>\n",
              "      <td>NaN</td>\n",
              "      <td>42.8</td>\n",
              "      <td>45.3</td>\n",
              "      <td>NaN</td>\n",
              "      <td>NaN</td>\n",
              "      <td>NaN</td>\n",
              "      <td>46.8</td>\n",
              "      <td>45.5</td>\n",
              "      <td>44.9</td>\n",
              "      <td>45.9</td>\n",
              "      <td>48.9</td>\n",
              "      <td>49.5</td>\n",
              "      <td>49.1</td>\n",
              "      <td>50.7</td>\n",
              "      <td>49.8</td>\n",
              "      <td>51.1</td>\n",
              "      <td>53.3</td>\n",
              "      <td>53.8</td>\n",
              "      <td>50.9</td>\n",
              "      <td>48.4</td>\n",
              "      <td>47.7</td>\n",
              "      <td>46.3</td>\n",
              "      <td>46.2</td>\n",
              "      <td>44.9</td>\n",
              "      <td>43.7</td>\n",
              "      <td>43.6</td>\n",
              "      <td>42.6</td>\n",
              "      <td>41.3</td>\n",
              "      <td>40.9</td>\n",
              "      <td>41.6</td>\n",
              "      <td>NaN</td>\n",
              "      <td>42.0</td>\n",
              "      <td>41.1</td>\n",
              "      <td>41.3</td>\n",
              "      <td>42.9</td>\n",
              "    </tr>\n",
              "    <tr>\n",
              "      <th>4</th>\n",
              "      <td>Armenia</td>\n",
              "      <td>NaN</td>\n",
              "      <td>NaN</td>\n",
              "      <td>NaN</td>\n",
              "      <td>NaN</td>\n",
              "      <td>NaN</td>\n",
              "      <td>NaN</td>\n",
              "      <td>NaN</td>\n",
              "      <td>NaN</td>\n",
              "      <td>NaN</td>\n",
              "      <td>NaN</td>\n",
              "      <td>NaN</td>\n",
              "      <td>NaN</td>\n",
              "      <td>NaN</td>\n",
              "      <td>NaN</td>\n",
              "      <td>NaN</td>\n",
              "      <td>NaN</td>\n",
              "      <td>NaN</td>\n",
              "      <td>NaN</td>\n",
              "      <td>NaN</td>\n",
              "      <td>NaN</td>\n",
              "      <td>NaN</td>\n",
              "      <td>NaN</td>\n",
              "      <td>NaN</td>\n",
              "      <td>NaN</td>\n",
              "      <td>NaN</td>\n",
              "      <td>NaN</td>\n",
              "      <td>NaN</td>\n",
              "      <td>NaN</td>\n",
              "      <td>NaN</td>\n",
              "      <td>NaN</td>\n",
              "      <td>NaN</td>\n",
              "      <td>36.2</td>\n",
              "      <td>NaN</td>\n",
              "      <td>35.4</td>\n",
              "      <td>34.8</td>\n",
              "      <td>33.0</td>\n",
              "      <td>37.5</td>\n",
              "      <td>36.0</td>\n",
              "      <td>29.7</td>\n",
              "      <td>31.2</td>\n",
              "      <td>29.2</td>\n",
              "      <td>28.0</td>\n",
              "      <td>30.0</td>\n",
              "      <td>29.4</td>\n",
              "      <td>29.6</td>\n",
              "      <td>30.6</td>\n",
              "      <td>31.5</td>\n",
              "      <td>32.4</td>\n",
              "      <td>32.5</td>\n",
              "      <td>33.6</td>\n",
              "      <td>34.4</td>\n",
              "      <td>29.9</td>\n",
              "    </tr>\n",
              "  </tbody>\n",
              "</table>\n",
              "</div>"
            ],
            "text/plain": [
              "                country  1966  1968  1969  1970  ...  2014  2015  2016  2017  2018\n",
              "0                Angola   NaN   NaN   NaN   NaN  ...   NaN   NaN   NaN  51.3   NaN\n",
              "1               Albania   NaN   NaN   NaN   NaN  ...  32.9  33.7  33.2   NaN   NaN\n",
              "2  United Arab Emirates   NaN   NaN   NaN   NaN  ...   NaN   NaN   NaN  26.0   NaN\n",
              "3             Argentina   NaN   NaN   NaN   NaN  ...   NaN  42.0  41.1  41.3  42.9\n",
              "4               Armenia   NaN   NaN   NaN   NaN  ...  32.4  32.5  33.6  34.4  29.9\n",
              "\n",
              "[5 rows x 53 columns]"
            ]
          },
          "metadata": {},
          "execution_count": 45
        }
      ]
    },
    {
      "cell_type": "code",
      "metadata": {
        "colab": {
          "base_uri": "https://localhost:8080/",
          "height": 204
        },
        "id": "Sx9fmslIKz_7",
        "outputId": "6fd60a81-6dd0-4ef1-ca07-eebf87bb7bb2"
      },
      "source": [
        "# tratando os dados, transferindo dados de ano de colunas para linhas, e seus respectivos valores\n",
        "dfGini = pd.melt(dfGini.reset_index(), id_vars=['country','index'], var_name='ano', value_name='valor').sort_values(['country','valor'], ascending=False)\n",
        "dfGini.head()"
      ],
      "execution_count": 46,
      "outputs": [
        {
          "output_type": "execute_result",
          "data": {
            "text/html": [
              "<div>\n",
              "<style scoped>\n",
              "    .dataframe tbody tr th:only-of-type {\n",
              "        vertical-align: middle;\n",
              "    }\n",
              "\n",
              "    .dataframe tbody tr th {\n",
              "        vertical-align: top;\n",
              "    }\n",
              "\n",
              "    .dataframe thead th {\n",
              "        text-align: right;\n",
              "    }\n",
              "</style>\n",
              "<table border=\"1\" class=\"dataframe\">\n",
              "  <thead>\n",
              "    <tr style=\"text-align: right;\">\n",
              "      <th></th>\n",
              "      <th>country</th>\n",
              "      <th>index</th>\n",
              "      <th>ano</th>\n",
              "      <th>valor</th>\n",
              "    </tr>\n",
              "  </thead>\n",
              "  <tbody>\n",
              "    <tr>\n",
              "      <th>8683</th>\n",
              "      <td>Zimbabwe</td>\n",
              "      <td>166</td>\n",
              "      <td>2018</td>\n",
              "      <td>50.3</td>\n",
              "    </tr>\n",
              "    <tr>\n",
              "      <th>8349</th>\n",
              "      <td>Zimbabwe</td>\n",
              "      <td>166</td>\n",
              "      <td>2016</td>\n",
              "      <td>44.3</td>\n",
              "    </tr>\n",
              "    <tr>\n",
              "      <th>7347</th>\n",
              "      <td>Zimbabwe</td>\n",
              "      <td>166</td>\n",
              "      <td>2010</td>\n",
              "      <td>43.2</td>\n",
              "    </tr>\n",
              "    <tr>\n",
              "      <th>166</th>\n",
              "      <td>Zimbabwe</td>\n",
              "      <td>166</td>\n",
              "      <td>1966</td>\n",
              "      <td>NaN</td>\n",
              "    </tr>\n",
              "    <tr>\n",
              "      <th>333</th>\n",
              "      <td>Zimbabwe</td>\n",
              "      <td>166</td>\n",
              "      <td>1968</td>\n",
              "      <td>NaN</td>\n",
              "    </tr>\n",
              "  </tbody>\n",
              "</table>\n",
              "</div>"
            ],
            "text/plain": [
              "       country  index   ano  valor\n",
              "8683  Zimbabwe    166  2018   50.3\n",
              "8349  Zimbabwe    166  2016   44.3\n",
              "7347  Zimbabwe    166  2010   43.2\n",
              "166   Zimbabwe    166  1966    NaN\n",
              "333   Zimbabwe    166  1968    NaN"
            ]
          },
          "metadata": {},
          "execution_count": 46
        }
      ]
    },
    {
      "cell_type": "code",
      "metadata": {
        "colab": {
          "base_uri": "https://localhost:8080/",
          "height": 102
        },
        "id": "8mZl0ArCQm__",
        "outputId": "14c9044b-27f8-4502-f076-7f95584309d0"
      },
      "source": [
        "# transformando campo ano para o formato data\n",
        "\n",
        "dfGini.ano = pd.to_datetime(dfGini.ano, format='%Y',errors='coerce')\n",
        "display(dfGini.dtypes)"
      ],
      "execution_count": 47,
      "outputs": [
        {
          "output_type": "display_data",
          "data": {
            "text/plain": [
              "country            object\n",
              "index               int64\n",
              "ano        datetime64[ns]\n",
              "valor             float64\n",
              "dtype: object"
            ]
          },
          "metadata": {}
        }
      ]
    },
    {
      "cell_type": "code",
      "metadata": {
        "colab": {
          "base_uri": "https://localhost:8080/",
          "height": 332
        },
        "id": "wYLOZxXhIm06",
        "outputId": "be99ca3c-19b2-48ee-8ee2-151fa774e0db"
      },
      "source": [
        "# comparando dados Gini Brasil x Mundo, com gráfico boxplot \n",
        "# É possível concluir que o Brasil está com índice muito ruim de Gini, estando muito abaixo da média mundial.\n",
        "\n",
        "dfGini_not_null = dfGini[ ~ np.isnan( dfGini.valor )]\n",
        "\n",
        "plt.figure(figsize=(12,4))\n",
        "plt.boxplot(dfGini_not_null[dfGini_not_null.country == 'Brazil'].valor,positions=[1],showfliers=False)\n",
        "plt.boxplot(dfGini_not_null.valor,positions=[2],showfliers=False)\n",
        "plt.title('Gini')\n",
        "plt.xticks(ticks=[1,2], labels=['Brasil','Mundo'])"
      ],
      "execution_count": 48,
      "outputs": [
        {
          "output_type": "execute_result",
          "data": {
            "text/plain": [
              "([<matplotlib.axis.XTick at 0x7fe593f6a390>,\n",
              "  <matplotlib.axis.XTick at 0x7fe594053710>],\n",
              " [Text(0, 0, 'Brasil'), Text(0, 0, 'Mundo')])"
            ]
          },
          "metadata": {},
          "execution_count": 48
        },
        {
          "output_type": "display_data",
          "data": {
            "image/png": "[encoded data removed]",
            "text/plain": [
              "<Figure size 864x288 with 1 Axes>"
            ]
          },
          "metadata": {
            "needs_background": "light"
          }
        }
      ]
    },
    {
      "cell_type": "code",
      "metadata": {
        "id": "ZGJ3SA6UeC1m"
      },
      "source": [
        "# tratando valores vazios\n",
        "\n",
        "dfGini2 = dfGini_not_null.sort_values(['country', 'ano'])"
      ],
      "execution_count": 49,
      "outputs": []
    },
    {
      "cell_type": "code",
      "metadata": {
        "colab": {
          "base_uri": "https://localhost:8080/",
          "height": 204
        },
        "id": "ajzNFdU-eU7w",
        "outputId": "d0ec6626-89eb-4dc0-c380-c925579b5f81"
      },
      "source": [
        "dfGini2.head()"
      ],
      "execution_count": 50,
      "outputs": [
        {
          "output_type": "execute_result",
          "data": {
            "text/html": [
              "<div>\n",
              "<style scoped>\n",
              "    .dataframe tbody tr th:only-of-type {\n",
              "        vertical-align: middle;\n",
              "    }\n",
              "\n",
              "    .dataframe tbody tr th {\n",
              "        vertical-align: top;\n",
              "    }\n",
              "\n",
              "    .dataframe thead th {\n",
              "        text-align: right;\n",
              "    }\n",
              "</style>\n",
              "<table border=\"1\" class=\"dataframe\">\n",
              "  <thead>\n",
              "    <tr style=\"text-align: right;\">\n",
              "      <th></th>\n",
              "      <th>country</th>\n",
              "      <th>index</th>\n",
              "      <th>ano</th>\n",
              "      <th>valor</th>\n",
              "    </tr>\n",
              "  </thead>\n",
              "  <tbody>\n",
              "    <tr>\n",
              "      <th>4677</th>\n",
              "      <td>Albania</td>\n",
              "      <td>1</td>\n",
              "      <td>1995-01-01</td>\n",
              "      <td>27.0</td>\n",
              "    </tr>\n",
              "    <tr>\n",
              "      <th>5679</th>\n",
              "      <td>Albania</td>\n",
              "      <td>1</td>\n",
              "      <td>2001-01-01</td>\n",
              "      <td>31.7</td>\n",
              "    </tr>\n",
              "    <tr>\n",
              "      <th>6180</th>\n",
              "      <td>Albania</td>\n",
              "      <td>1</td>\n",
              "      <td>2004-01-01</td>\n",
              "      <td>30.6</td>\n",
              "    </tr>\n",
              "    <tr>\n",
              "      <th>6681</th>\n",
              "      <td>Albania</td>\n",
              "      <td>1</td>\n",
              "      <td>2007-01-01</td>\n",
              "      <td>30.0</td>\n",
              "    </tr>\n",
              "    <tr>\n",
              "      <th>7349</th>\n",
              "      <td>Albania</td>\n",
              "      <td>1</td>\n",
              "      <td>2011-01-01</td>\n",
              "      <td>29.0</td>\n",
              "    </tr>\n",
              "  </tbody>\n",
              "</table>\n",
              "</div>"
            ],
            "text/plain": [
              "      country  index        ano  valor\n",
              "4677  Albania      1 1995-01-01   27.0\n",
              "5679  Albania      1 2001-01-01   31.7\n",
              "6180  Albania      1 2004-01-01   30.6\n",
              "6681  Albania      1 2007-01-01   30.0\n",
              "7349  Albania      1 2011-01-01   29.0"
            ]
          },
          "metadata": {},
          "execution_count": 50
        }
      ]
    },
    {
      "cell_type": "code",
      "metadata": {
        "colab": {
          "base_uri": "https://localhost:8080/",
          "height": 204
        },
        "id": "Y_EGDrJCRKcY",
        "outputId": "2b650a3d-5613-4bb3-a8bf-5dc71533ff8f"
      },
      "source": [
        "# resetando o index\n",
        "\n",
        "dfGini = dfGini.reset_index()\n",
        "dfGini.head()"
      ],
      "execution_count": 52,
      "outputs": [
        {
          "output_type": "execute_result",
          "data": {
            "text/html": [
              "<div>\n",
              "<style scoped>\n",
              "    .dataframe tbody tr th:only-of-type {\n",
              "        vertical-align: middle;\n",
              "    }\n",
              "\n",
              "    .dataframe tbody tr th {\n",
              "        vertical-align: top;\n",
              "    }\n",
              "\n",
              "    .dataframe thead th {\n",
              "        text-align: right;\n",
              "    }\n",
              "</style>\n",
              "<table border=\"1\" class=\"dataframe\">\n",
              "  <thead>\n",
              "    <tr style=\"text-align: right;\">\n",
              "      <th></th>\n",
              "      <th>level_0</th>\n",
              "      <th>country</th>\n",
              "      <th>index</th>\n",
              "      <th>ano</th>\n",
              "      <th>valor</th>\n",
              "    </tr>\n",
              "  </thead>\n",
              "  <tbody>\n",
              "    <tr>\n",
              "      <th>0</th>\n",
              "      <td>8683</td>\n",
              "      <td>Zimbabwe</td>\n",
              "      <td>166</td>\n",
              "      <td>2018-01-01</td>\n",
              "      <td>50.3</td>\n",
              "    </tr>\n",
              "    <tr>\n",
              "      <th>1</th>\n",
              "      <td>8349</td>\n",
              "      <td>Zimbabwe</td>\n",
              "      <td>166</td>\n",
              "      <td>2016-01-01</td>\n",
              "      <td>44.3</td>\n",
              "    </tr>\n",
              "    <tr>\n",
              "      <th>2</th>\n",
              "      <td>7347</td>\n",
              "      <td>Zimbabwe</td>\n",
              "      <td>166</td>\n",
              "      <td>2010-01-01</td>\n",
              "      <td>43.2</td>\n",
              "    </tr>\n",
              "    <tr>\n",
              "      <th>3</th>\n",
              "      <td>166</td>\n",
              "      <td>Zimbabwe</td>\n",
              "      <td>166</td>\n",
              "      <td>1966-01-01</td>\n",
              "      <td>NaN</td>\n",
              "    </tr>\n",
              "    <tr>\n",
              "      <th>4</th>\n",
              "      <td>333</td>\n",
              "      <td>Zimbabwe</td>\n",
              "      <td>166</td>\n",
              "      <td>1968-01-01</td>\n",
              "      <td>NaN</td>\n",
              "    </tr>\n",
              "  </tbody>\n",
              "</table>\n",
              "</div>"
            ],
            "text/plain": [
              "   level_0   country  index        ano  valor\n",
              "0     8683  Zimbabwe    166 2018-01-01   50.3\n",
              "1     8349  Zimbabwe    166 2016-01-01   44.3\n",
              "2     7347  Zimbabwe    166 2010-01-01   43.2\n",
              "3      166  Zimbabwe    166 1966-01-01    NaN\n",
              "4      333  Zimbabwe    166 1968-01-01    NaN"
            ]
          },
          "metadata": {},
          "execution_count": 52
        }
      ]
    },
    {
      "cell_type": "code",
      "metadata": {
        "colab": {
          "base_uri": "https://localhost:8080/",
          "height": 295
        },
        "id": "TSMw07HFNOjg",
        "outputId": "3eec19d2-0ff3-4917-e9e8-ef2972acbfdc"
      },
      "source": [
        "# Mostra a densidade dos dados conforme o período:\n",
        "\n",
        "plt.figure(figsize=(12,4))\n",
        "sns.kdeplot(dfGini2[dfGini2.country == 'Brazil'].ano,label='Brasil')\n",
        "# sns.kdeplot(dfGini_not_null.ano,label='Mundo')\n",
        "plt.title('Gini Brasil')\n",
        "plt.legend()\n",
        "plt.show()\n",
        "\n",
        "# Houve mais dados entre 1985 e 2015, com um crescimento maior entre 2005 e 2010.\n"
      ],
      "execution_count": 53,
      "outputs": [
        {
          "output_type": "display_data",
          "data": {
            "image/png": "[encoded data removed]",
            "text/plain": [
              "<Figure size 864x288 with 1 Axes>"
            ]
          },
          "metadata": {
            "needs_background": "light"
          }
        }
      ]
    },
    {
      "cell_type": "code",
      "metadata": {
        "colab": {
          "base_uri": "https://localhost:8080/",
          "height": 453
        },
        "id": "qLTdVaPIXkZ3",
        "outputId": "f27fb43a-4e80-446c-be60-7cefdda6059d"
      },
      "source": [
        "# Verificando a variação do Gini entre 1980 e 2018:\n",
        "# É possível observar uma piora entre 1980 e 1988, melhora entre 1988 e 1991, piora em 1992 e uma melhora entre 1993 e 2014.\n",
        "# A melhora de 20 anos é interrompida e tem início de piora em 2015.\n",
        "\n",
        "plt.figure(figsize=(12,4))\n",
        "sns.barplot(x=dfGini2[dfGini2.country == 'Brazil'].ano, y=dfGini2[dfGini2.country == 'Brazil'].valor)\n",
        "plt.title('Gini - Brasil')\n",
        "# plt.hlines(dfGini2.valor.mean(),-0.5,7.5,color='r', linestyles=':')\n",
        "# plt.text(0, dfGini2.valor.mean()+1,'Média de valor')\n",
        "plt.xticks(rotation=90)\n",
        "plt.show()"
      ],
      "execution_count": 54,
      "outputs": [
        {
          "output_type": "display_data",
          "data": {
            "image/png": "[encoded data removed]",
            "text/plain": [
              "<Figure size 864x288 with 1 Axes>"
            ]
          },
          "metadata": {
            "needs_background": "light"
          }
        }
      ]
    },
    {
      "cell_type": "markdown",
      "metadata": {
        "id": "7jlgwUq1qmfu"
      },
      "source": [
        "### **Tratando dados Dataframe Rural**"
      ]
    },
    {
      "cell_type": "code",
      "metadata": {
        "colab": {
          "base_uri": "https://localhost:8080/",
          "height": 204
        },
        "id": "gPdCol2A9U-C",
        "outputId": "d96c4eb3-c40a-48e0-d900-a0021319d4aa"
      },
      "source": [
        "# Convertendo dados de colunas para linhas\n",
        "\n",
        "dfRural2 = pd.melt(dfRural.reset_index(), id_vars=['country','index'], var_name='ano', value_name='valor').sort_values(['country','valor'], ascending=False)\n",
        "dfRural2.head()"
      ],
      "execution_count": 55,
      "outputs": [
        {
          "output_type": "execute_result",
          "data": {
            "text/html": [
              "<div>\n",
              "<style scoped>\n",
              "    .dataframe tbody tr th:only-of-type {\n",
              "        vertical-align: middle;\n",
              "    }\n",
              "\n",
              "    .dataframe tbody tr th {\n",
              "        vertical-align: top;\n",
              "    }\n",
              "\n",
              "    .dataframe thead th {\n",
              "        text-align: right;\n",
              "    }\n",
              "</style>\n",
              "<table border=\"1\" class=\"dataframe\">\n",
              "  <thead>\n",
              "    <tr style=\"text-align: right;\">\n",
              "      <th></th>\n",
              "      <th>country</th>\n",
              "      <th>index</th>\n",
              "      <th>ano</th>\n",
              "      <th>valor</th>\n",
              "    </tr>\n",
              "  </thead>\n",
              "  <tbody>\n",
              "    <tr>\n",
              "      <th>759</th>\n",
              "      <td>Zimbabwe</td>\n",
              "      <td>75</td>\n",
              "      <td>1995</td>\n",
              "      <td>48.0</td>\n",
              "    </tr>\n",
              "    <tr>\n",
              "      <th>379</th>\n",
              "      <td>Zimbabwe</td>\n",
              "      <td>75</td>\n",
              "      <td>1990</td>\n",
              "      <td>35.8</td>\n",
              "    </tr>\n",
              "    <tr>\n",
              "      <th>75</th>\n",
              "      <td>Zimbabwe</td>\n",
              "      <td>75</td>\n",
              "      <td>1984</td>\n",
              "      <td>NaN</td>\n",
              "    </tr>\n",
              "    <tr>\n",
              "      <th>151</th>\n",
              "      <td>Zimbabwe</td>\n",
              "      <td>75</td>\n",
              "      <td>1987</td>\n",
              "      <td>NaN</td>\n",
              "    </tr>\n",
              "    <tr>\n",
              "      <th>227</th>\n",
              "      <td>Zimbabwe</td>\n",
              "      <td>75</td>\n",
              "      <td>1988</td>\n",
              "      <td>NaN</td>\n",
              "    </tr>\n",
              "  </tbody>\n",
              "</table>\n",
              "</div>"
            ],
            "text/plain": [
              "      country  index   ano  valor\n",
              "759  Zimbabwe     75  1995   48.0\n",
              "379  Zimbabwe     75  1990   35.8\n",
              "75   Zimbabwe     75  1984    NaN\n",
              "151  Zimbabwe     75  1987    NaN\n",
              "227  Zimbabwe     75  1988    NaN"
            ]
          },
          "metadata": {},
          "execution_count": 55
        }
      ]
    },
    {
      "cell_type": "code",
      "metadata": {
        "colab": {
          "base_uri": "https://localhost:8080/",
          "height": 102
        },
        "id": "8Xjnbe2-kCoH",
        "outputId": "8b824e1b-563f-47f6-ae12-0c0e4bc0ce28"
      },
      "source": [
        "# Convertendo campo ano\n",
        "\n",
        "dfRural2.ano = pd.to_datetime(dfRural2.ano, format='%Y',errors='coerce')\n",
        "display(dfRural2.dtypes)"
      ],
      "execution_count": 56,
      "outputs": [
        {
          "output_type": "display_data",
          "data": {
            "text/plain": [
              "country            object\n",
              "index               int64\n",
              "ano        datetime64[ns]\n",
              "valor             float64\n",
              "dtype: object"
            ]
          },
          "metadata": {}
        }
      ]
    },
    {
      "cell_type": "code",
      "metadata": {
        "colab": {
          "base_uri": "https://localhost:8080/",
          "height": 332
        },
        "id": "evocDoAlkZhl",
        "outputId": "5340a0c2-6823-4d8c-e2bf-5c6e7452ab2c"
      },
      "source": [
        "# Gerando gráfico de Pobreza Rural\n",
        "# Como o gráfico boxplot é possível observar que a média da pobreza rural no Brasil está acima da média mundial de pobreza.\n",
        "\n",
        "dfRural3 = dfRural2.sort_values(['country', 'ano'])\n",
        "dfRural4 = dfRural3[ ~ np.isnan( dfRural3.valor )]\n",
        "\n",
        "plt.figure(figsize=(12,4))\n",
        "plt.boxplot(dfRural4[dfRural4.country == 'Brazil'].valor,positions=[1],showfliers=False)\n",
        "plt.boxplot(dfRural4.valor,positions=[2],showfliers=False)\n",
        "plt.title('Pobreza Rural')\n",
        "plt.xticks(ticks=[1,2], labels=['Brasil','Mundo'])"
      ],
      "execution_count": 15,
      "outputs": [
        {
          "output_type": "execute_result",
          "data": {
            "text/plain": [
              "([<matplotlib.axis.XTick at 0x7fe59440bd10>,\n",
              "  <matplotlib.axis.XTick at 0x7fe59440bf50>],\n",
              " [Text(0, 0, 'Brasil'), Text(0, 0, 'Mundo')])"
            ]
          },
          "metadata": {},
          "execution_count": 15
        },
        {
          "output_type": "display_data",
          "data": {
            "image/png": "[encoded data removed]",
            "text/plain": [
              "<Figure size 864x288 with 1 Axes>"
            ]
          },
          "metadata": {
            "needs_background": "light"
          }
        }
      ]
    },
    {
      "cell_type": "code",
      "metadata": {
        "colab": {
          "base_uri": "https://localhost:8080/",
          "height": 298
        },
        "id": "CyXneD7lmQLb",
        "outputId": "a45cc9f6-53f6-433e-a9fe-d478dc36df0d"
      },
      "source": [
        "plt.figure(figsize=(12,4))\n",
        "plt.plot(dfRural4[dfRural4.country == 'Brazil'].ano, dfRural4[dfRural4.country == 'Brazil'].valor)\n",
        "plt.title('Pobreza Rural - Brasil')\n",
        "\n",
        "# Gráfico mostra uma situação de queda"
      ],
      "execution_count": 16,
      "outputs": [
        {
          "output_type": "execute_result",
          "data": {
            "text/plain": [
              "Text(0.5, 1.0, 'Pobreza Rural - Brasil')"
            ]
          },
          "metadata": {},
          "execution_count": 16
        },
        {
          "output_type": "display_data",
          "data": {
            "image/png": "[encoded data removed]",
            "text/plain": [
              "<Figure size 864x288 with 1 Axes>"
            ]
          },
          "metadata": {
            "needs_background": "light"
          }
        }
      ]
    },
    {
      "cell_type": "code",
      "metadata": {
        "colab": {
          "base_uri": "https://localhost:8080/",
          "height": 453
        },
        "id": "-4l8Ev3MpLFl",
        "outputId": "7c11a8b9-16e5-4c3a-e52b-62aecb015c83"
      },
      "source": [
        "# Gerando gráfico de barras Pobreza Rural no Brasil. Aprensenta dados claros. \n",
        "# Permite inferir situação de queda mas o dataframe não possui dados suficientes dos demais anos.\n",
        "\n",
        "plt.figure(figsize=(12,4))\n",
        "sns.barplot(x=dfRural4[dfRural4.country == 'Brazil'].ano, y=dfRural4[dfRural4.country == 'Brazil'].valor)\n",
        "plt.title('Pobreza Rural - Brasil')\n",
        "# plt.hlines(dfRural4.valor.mean(),-0.5,7.5,color='r', linestyles=':')\n",
        "# plt.text(0, dfRural4.valor.mean()+1,'Média de valor')\n",
        "plt.xticks(rotation=90)\n",
        "plt.show()"
      ],
      "execution_count": 17,
      "outputs": [
        {
          "output_type": "display_data",
          "data": {
            "image/png": "[encoded data removed]",
            "text/plain": [
              "<Figure size 864x288 with 1 Axes>"
            ]
          },
          "metadata": {
            "needs_background": "light"
          }
        }
      ]
    },
    {
      "cell_type": "code",
      "metadata": {
        "colab": {
          "base_uri": "https://localhost:8080/",
          "height": 204
        },
        "id": "v_FEfgD7poq1",
        "outputId": "16aa6506-379e-4e67-a6cc-01ed36a3d96c"
      },
      "source": [
        "dfRural4.head()"
      ],
      "execution_count": 18,
      "outputs": [
        {
          "output_type": "execute_result",
          "data": {
            "text/html": [
              "<div>\n",
              "<style scoped>\n",
              "    .dataframe tbody tr th:only-of-type {\n",
              "        vertical-align: middle;\n",
              "    }\n",
              "\n",
              "    .dataframe tbody tr th {\n",
              "        vertical-align: top;\n",
              "    }\n",
              "\n",
              "    .dataframe thead th {\n",
              "        text-align: right;\n",
              "    }\n",
              "</style>\n",
              "<table border=\"1\" class=\"dataframe\">\n",
              "  <thead>\n",
              "    <tr style=\"text-align: right;\">\n",
              "      <th></th>\n",
              "      <th>country</th>\n",
              "      <th>index</th>\n",
              "      <th>ano</th>\n",
              "      <th>valor</th>\n",
              "    </tr>\n",
              "  </thead>\n",
              "  <tbody>\n",
              "    <tr>\n",
              "      <th>1140</th>\n",
              "      <td>Albania</td>\n",
              "      <td>0</td>\n",
              "      <td>2001-01-01</td>\n",
              "      <td>29.6</td>\n",
              "    </tr>\n",
              "    <tr>\n",
              "      <th>91</th>\n",
              "      <td>Algeria</td>\n",
              "      <td>15</td>\n",
              "      <td>1987-01-01</td>\n",
              "      <td>16.6</td>\n",
              "    </tr>\n",
              "    <tr>\n",
              "      <th>623</th>\n",
              "      <td>Algeria</td>\n",
              "      <td>15</td>\n",
              "      <td>1994-01-01</td>\n",
              "      <td>30.3</td>\n",
              "    </tr>\n",
              "    <tr>\n",
              "      <th>913</th>\n",
              "      <td>Armenia</td>\n",
              "      <td>1</td>\n",
              "      <td>1998-01-01</td>\n",
              "      <td>50.8</td>\n",
              "    </tr>\n",
              "    <tr>\n",
              "      <th>1065</th>\n",
              "      <td>Armenia</td>\n",
              "      <td>1</td>\n",
              "      <td>2000-01-01</td>\n",
              "      <td>48.7</td>\n",
              "    </tr>\n",
              "  </tbody>\n",
              "</table>\n",
              "</div>"
            ],
            "text/plain": [
              "      country  index        ano  valor\n",
              "1140  Albania      0 2001-01-01   29.6\n",
              "91    Algeria     15 1987-01-01   16.6\n",
              "623   Algeria     15 1994-01-01   30.3\n",
              "913   Armenia      1 1998-01-01   50.8\n",
              "1065  Armenia      1 2000-01-01   48.7"
            ]
          },
          "metadata": {},
          "execution_count": 18
        }
      ]
    },
    {
      "cell_type": "markdown",
      "metadata": {
        "id": "-LLOJE0irQPZ"
      },
      "source": [
        "### **Tratando dados Dataframe Urbano**"
      ]
    },
    {
      "cell_type": "code",
      "metadata": {
        "id": "x0fCSpN6qWwx"
      },
      "source": [
        "# Convertendo campos de Ano para linhas\n",
        "\n",
        "dfUrban2 = pd.melt(dfUrban.reset_index(), id_vars=['country','index'], var_name='ano', value_name='valor').sort_values(['country','valor'], ascending=False)"
      ],
      "execution_count": 19,
      "outputs": []
    },
    {
      "cell_type": "code",
      "metadata": {
        "id": "P5ilwg1JxbiU"
      },
      "source": [
        "#Tratando o formato data\n",
        "\n",
        "dfUrban2.ano = pd.to_datetime(dfUrban2.ano, format='%Y',errors='coerce')"
      ],
      "execution_count": 20,
      "outputs": []
    },
    {
      "cell_type": "code",
      "metadata": {
        "id": "k_mT-t6GxLoF"
      },
      "source": [
        "# Criando um df sem valores vazios \n",
        "\n",
        "dfUrban3 = dfUrban2[ ~ np.isnan( dfUrban2.valor )]"
      ],
      "execution_count": 21,
      "outputs": []
    },
    {
      "cell_type": "code",
      "metadata": {
        "id": "lG71JE2ixoWy"
      },
      "source": [
        "# Ordenando a tabela por País e depois por Ano.\n",
        "dfUrban4 = dfUrban3.sort_values(['country', 'ano'])"
      ],
      "execution_count": 22,
      "outputs": []
    },
    {
      "cell_type": "code",
      "metadata": {
        "colab": {
          "base_uri": "https://localhost:8080/",
          "height": 332
        },
        "id": "RIe7spgtxtS7",
        "outputId": "7d0dd983-e441-4514-aa78-b51ddffb706d"
      },
      "source": [
        "# Gráfico boxplot Pobreza Urbana Brasil e no Mundo\n",
        "# Podemos observar que a pobreza urbana no Brasil é menor que a média mundial.\n",
        "\n",
        "plt.figure(figsize=(12,4))\n",
        "plt.boxplot(dfUrban4[dfUrban4.country == 'Brazil'].valor,positions=[1],showfliers=False)\n",
        "plt.boxplot(dfUrban4.valor,positions=[2],showfliers=False)\n",
        "plt.title('Pobreza Urban')\n",
        "plt.xticks(ticks=[1,2], labels=['Brasil','Mundo'])"
      ],
      "execution_count": 24,
      "outputs": [
        {
          "output_type": "execute_result",
          "data": {
            "text/plain": [
              "([<matplotlib.axis.XTick at 0x7fe5943c3190>,\n",
              "  <matplotlib.axis.XTick at 0x7fe5943f4790>],\n",
              " [Text(0, 0, 'Brasil'), Text(0, 0, 'Mundo')])"
            ]
          },
          "metadata": {},
          "execution_count": 24
        },
        {
          "output_type": "display_data",
          "data": {
            "image/png": "[encoded data removed]",
            "text/plain": [
              "<Figure size 864x288 with 1 Axes>"
            ]
          },
          "metadata": {
            "needs_background": "light"
          }
        }
      ]
    },
    {
      "cell_type": "code",
      "metadata": {
        "colab": {
          "base_uri": "https://localhost:8080/",
          "height": 453
        },
        "id": "kelqpkChx4OU",
        "outputId": "9a79be4e-3f4d-43da-eef3-8e73db741f2a"
      },
      "source": [
        "# Gráfico de barras Pobreza Urbana no Brasil\n",
        "# É possível observar o aumento da pobreza urbana no Brasil entre 1997 e 2002.\n",
        "\n",
        "plt.figure(figsize=(12,4))\n",
        "sns.barplot(x=dfUrban4[dfUrban4.country == 'Brazil'].ano, y=dfUrban4[dfUrban4.country == 'Brazil'].valor)\n",
        "plt.title('Pobreza Urbana - Brasil')\n",
        "plt.xticks(rotation=90)\n",
        "plt.show()"
      ],
      "execution_count": 25,
      "outputs": [
        {
          "output_type": "display_data",
          "data": {
            "image/png": "[encoded data removed]",
            "text/plain": [
              "<Figure size 864x288 with 1 Axes>"
            ]
          },
          "metadata": {
            "needs_background": "light"
          }
        }
      ]
    },
    {
      "cell_type": "markdown",
      "metadata": {
        "id": "MXTADJ11ySD1"
      },
      "source": [
        "### **Realizando a comparação**"
      ]
    },
    {
      "cell_type": "code",
      "metadata": {
        "colab": {
          "base_uri": "https://localhost:8080/",
          "height": 507
        },
        "id": "MqPWdqM-y6Xo",
        "outputId": "8919a12a-4ec6-44ce-ef25-97591ef70690"
      },
      "source": [
        "# Gráfico comparativo entre pobreza urbana x pobreza rural no Brasil\n",
        "# É possivel obsevar aumento da pobreza urbana e redução da pobreza rural no Brasil. Pelo campo valor é possivel observar que a pobreza rural é muito maior.\n",
        "\n",
        "plt.figure(figsize=(12,5))\n",
        "\n",
        "plt.subplot(1,2,1)\n",
        "sns.barplot(x=dfUrban4[dfUrban4.country == 'Brazil'].ano, y=dfUrban4[dfUrban4.country == 'Brazil'].valor)\n",
        "plt.title('Pobreza Urbana - Brasil')\n",
        "plt.xticks(rotation=90)\n",
        "\n",
        "\n",
        "plt.subplot(1,2,2)\n",
        "sns.barplot(x=dfRural4[dfRural4.country == 'Brazil'].ano, y=dfRural4[dfRural4.country == 'Brazil'].valor)\n",
        "plt.title('Pobreza Rural - Brasil')\n",
        "plt.xticks(rotation=90)\n",
        "\n",
        "plt.show()"
      ],
      "execution_count": 26,
      "outputs": [
        {
          "output_type": "display_data",
          "data": {
            "image/png": "[encoded data removed]",
            "text/plain": [
              "<Figure size 864x360 with 2 Axes>"
            ]
          },
          "metadata": {
            "needs_background": "light"
          }
        }
      ]
    }
  ]
}