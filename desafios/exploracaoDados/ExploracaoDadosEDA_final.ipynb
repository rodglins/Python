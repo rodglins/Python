{
  "nbformat": 4,
  "nbformat_minor": 0,
  "metadata": {
    "colab": {
      "name": "ExploracaoDadosEDA_final.ipynb",
      "provenance": [],
      "collapsed_sections": []
    },
    "kernelspec": {
      "name": "python3",
      "display_name": "Python 3"
    },
    "language_info": {
      "name": "python"
    }
  },
  "cells": [
    {
      "cell_type": "markdown",
      "metadata": {
        "id": "oE8SLAvVWOTi"
      },
      "source": [
        "Trilha 4: Tarefa (Peso 3)\n",
        "Empregue no mínimo duas bases de dados (tabelas) extraídas de um ou ambos os sites abaixo: \n",
        "\n",
        " \n",
        "\n",
        "a. https://wid.world/ ; \n",
        "\n",
        "b. https://www.gapminder.org/  \n",
        "\n",
        " \n",
        "\n",
        "E faça uma Exploração dos Dados EDA de seu interesse, empregando o Python e o que você aprendeu até aqui. Os sites apresentam diversos dados sobre as diferenças de desenvolvimento dos países e a desigualdade. Foque em perguntas que são do seu interesse sobre os dados. \n",
        "\n",
        "Na sua análise você deve responder ao menos quatro perguntas relevantes sobre os dados, incluir na sua análise seleções e visualizações dos dados e um texto de conclusão a cada pergunta. \n",
        "\n",
        "Peça ao professor modelos de código para sua implementação. \n",
        "\n",
        "Seu código deve ser minimamente claro e organizado. Não são necessários comentários detalhados, mas deixe claro no seu código cada parte (atividade), cada fase realizada e a resposta final com sua conclusão. \n",
        "\n",
        " \n",
        "\n",
        "Entrega:  \n",
        "\n",
        ".pdf de print do seu notebook Python. \n",
        "\n",
        "Compartilhe o endereço do seu notebook Python (Google Drive ou GitHub) 100% executável para abertura no Google Colab.  \n",
        "\n",
        "Não deixe de incluir o seu texto uma introdução justificando a escolha da análise e ao final suas conclusões. "
      ]
    },
    {
      "cell_type": "markdown",
      "metadata": {
        "id": "Az4cNrsDYmhX"
      },
      "source": [
        "\n",
        "# Introdução\n",
        "Para realização desta análise foram utilizados dados do site Gapminder. O dataframe escolhido possui dados sobre a Pobreza no Mundo (Rural e Urbana) e índice de Gini.\n",
        "\n",
        "\n",
        "# Perguntas:\n",
        "1. Em que período o índice de Gini melhorou no Brasil?\n",
        "\n",
        "  Com a utilização do gráfico de barras foi verificada a variação do Gini entre 1980 e 2018, onde é possível observar uma piora entre 1980 e 1988, melhora entre 1988 e 1991, piora em 1992 e uma melhora entre 1993 e 2014. A melhora de 20 anos é interrompida e tem início de piora em 2015.\n",
        "\n",
        "\n",
        "2. Como o Brasil se posiciona no índice de Gini em relação aos demais países do mundo?\n",
        "\n",
        "  Comparando os dados de Gini do Brasil com os do Mundo, utilizei o gráfico boxplot para melhor visualização. Considerando quanto maior o índice, pior a desigualdade do país. É possível concluir que o Brasil está com índice muito ruim de Gini, estando muito distante da média mundial.\n",
        "\n",
        "\n",
        "3. Em que período houve mais dados sobre a pobreza no Brasil?\n",
        "\n",
        "  Utilizando um gráfico de linha com a densidade dos dados é possui observar que houve mais dados entre 1985 e 2015, com um crescimento ainda maior entre 2005 e 2010.\n",
        "\n",
        "\n",
        "4. Como a pobreza urbana e rural do Brasil se modificaram com o tempo?\n",
        "\n",
        "  Utiliza-se o gráfico boxplot para analizar a pobreza rural no Brasil. É possível observar que a média da pobreza rural no Brasil está menor que a média mundial de pobreza. Realizando essa análise com a pobreza urbana no Brasil verifica-se que a média brasileira é ligeiramente menor que a média mundial. \n",
        "  É possível observar o aumento da pobreza urbana no Brasil, ao mesmo tempo redução da pobreza no campo. Concluindo, utilizando um gráfico comparativo entre pobreza urbana x pobreza rural no Brasil por período é possivel obsevar aumento da pobreza urbana e redução da pobreza rural no Brasil.\n",
        "\n",
        "\n",
        "# Conclusão\n",
        "\n",
        "  Foi possível observar que o índice de Gini piorou em determinados momentos do país mas recuperou sua média, tendo uma pequena melhora entre 1980 e 2018. Houve aumento da pobreza urbana na mesma proporção em que houve melhora da probreza rural.  "
      ]
    },
    {
      "cell_type": "code",
      "metadata": {
        "id": "MAD7_q9X_D8d"
      },
      "source": [
        "# Importando Bibliotecas e adicionando seus respectivos alias\n",
        "\n",
        "import pandas as pd\n",
        "import numpy as np\n",
        "import matplotlib.pyplot as plt\n",
        "import matplotlib as mpl\n",
        "import seaborn as sns\n",
        "%matplotlib inline"
      ],
      "execution_count": 214,
      "outputs": []
    },
    {
      "cell_type": "code",
      "metadata": {
        "id": "omCBVSOo__nC"
      },
      "source": [
        "#Importando os df: Gini, Rural, Urban\n",
        "# Fonte: https://www.gapminder.org/data\n",
        "\n",
        "dfGini = pd.read_csv('https://raw.githubusercontent.com/rodglins/Python/master/desafios/exploracaoDados/gini.csv')\n",
        "dfRural = pd.read_csv('https://raw.githubusercontent.com/rodglins/Python/master/desafios/exploracaoDados/rural.csv')\n",
        "dfUrbano = pd.read_csv('https://raw.githubusercontent.com/rodglins/Python/master/desafios/exploracaoDados/urban.csv')\n"
      ],
      "execution_count": 215,
      "outputs": []
    },
    {
      "cell_type": "markdown",
      "metadata": {
        "id": "S2zBVldXFAoq"
      },
      "source": [
        "# **Preparação dos dados**"
      ]
    },
    {
      "cell_type": "code",
      "metadata": {
        "colab": {
          "base_uri": "https://localhost:8080/",
          "height": 261
        },
        "id": "mcbNNs_XfYU4",
        "outputId": "27dbcfeb-cb29-48d8-a7c6-999ffa29f91d"
      },
      "source": [
        "# verificando o formato do df\n",
        "dfGini.head()\n"
      ],
      "execution_count": 216,
      "outputs": [
        {
          "output_type": "execute_result",
          "data": {
            "text/html": [
              "<div>\n",
              "<style scoped>\n",
              "    .dataframe tbody tr th:only-of-type {\n",
              "        vertical-align: middle;\n",
              "    }\n",
              "\n",
              "    .dataframe tbody tr th {\n",
              "        vertical-align: top;\n",
              "    }\n",
              "\n",
              "    .dataframe thead th {\n",
              "        text-align: right;\n",
              "    }\n",
              "</style>\n",
              "<table border=\"1\" class=\"dataframe\">\n",
              "  <thead>\n",
              "    <tr style=\"text-align: right;\">\n",
              "      <th></th>\n",
              "      <th>country</th>\n",
              "      <th>1966</th>\n",
              "      <th>1968</th>\n",
              "      <th>1969</th>\n",
              "      <th>1970</th>\n",
              "      <th>1971</th>\n",
              "      <th>1972</th>\n",
              "      <th>1973</th>\n",
              "      <th>1974</th>\n",
              "      <th>1975</th>\n",
              "      <th>1976</th>\n",
              "      <th>1977</th>\n",
              "      <th>1978</th>\n",
              "      <th>1979</th>\n",
              "      <th>1980</th>\n",
              "      <th>1981</th>\n",
              "      <th>1982</th>\n",
              "      <th>1983</th>\n",
              "      <th>1984</th>\n",
              "      <th>1985</th>\n",
              "      <th>1986</th>\n",
              "      <th>1987</th>\n",
              "      <th>1988</th>\n",
              "      <th>1989</th>\n",
              "      <th>1990</th>\n",
              "      <th>1991</th>\n",
              "      <th>1992</th>\n",
              "      <th>1993</th>\n",
              "      <th>1994</th>\n",
              "      <th>1995</th>\n",
              "      <th>1996</th>\n",
              "      <th>1997</th>\n",
              "      <th>1998</th>\n",
              "      <th>1999</th>\n",
              "      <th>2000</th>\n",
              "      <th>2001</th>\n",
              "      <th>2002</th>\n",
              "      <th>2003</th>\n",
              "      <th>2004</th>\n",
              "      <th>2005</th>\n",
              "      <th>2006</th>\n",
              "      <th>2007</th>\n",
              "      <th>2008</th>\n",
              "      <th>2009</th>\n",
              "      <th>2010</th>\n",
              "      <th>2011</th>\n",
              "      <th>2012</th>\n",
              "      <th>2013</th>\n",
              "      <th>2014</th>\n",
              "      <th>2015</th>\n",
              "      <th>2016</th>\n",
              "      <th>2017</th>\n",
              "      <th>2018</th>\n",
              "    </tr>\n",
              "  </thead>\n",
              "  <tbody>\n",
              "    <tr>\n",
              "      <th>0</th>\n",
              "      <td>Angola</td>\n",
              "      <td>NaN</td>\n",
              "      <td>NaN</td>\n",
              "      <td>NaN</td>\n",
              "      <td>NaN</td>\n",
              "      <td>NaN</td>\n",
              "      <td>NaN</td>\n",
              "      <td>NaN</td>\n",
              "      <td>NaN</td>\n",
              "      <td>NaN</td>\n",
              "      <td>NaN</td>\n",
              "      <td>NaN</td>\n",
              "      <td>NaN</td>\n",
              "      <td>NaN</td>\n",
              "      <td>NaN</td>\n",
              "      <td>NaN</td>\n",
              "      <td>NaN</td>\n",
              "      <td>NaN</td>\n",
              "      <td>NaN</td>\n",
              "      <td>NaN</td>\n",
              "      <td>NaN</td>\n",
              "      <td>NaN</td>\n",
              "      <td>NaN</td>\n",
              "      <td>NaN</td>\n",
              "      <td>NaN</td>\n",
              "      <td>NaN</td>\n",
              "      <td>NaN</td>\n",
              "      <td>NaN</td>\n",
              "      <td>NaN</td>\n",
              "      <td>NaN</td>\n",
              "      <td>NaN</td>\n",
              "      <td>NaN</td>\n",
              "      <td>NaN</td>\n",
              "      <td>52.0</td>\n",
              "      <td>NaN</td>\n",
              "      <td>NaN</td>\n",
              "      <td>NaN</td>\n",
              "      <td>NaN</td>\n",
              "      <td>NaN</td>\n",
              "      <td>NaN</td>\n",
              "      <td>NaN</td>\n",
              "      <td>42.7</td>\n",
              "      <td>NaN</td>\n",
              "      <td>NaN</td>\n",
              "      <td>NaN</td>\n",
              "      <td>NaN</td>\n",
              "      <td>NaN</td>\n",
              "      <td>NaN</td>\n",
              "      <td>NaN</td>\n",
              "      <td>NaN</td>\n",
              "      <td>NaN</td>\n",
              "      <td>51.3</td>\n",
              "      <td>NaN</td>\n",
              "    </tr>\n",
              "    <tr>\n",
              "      <th>1</th>\n",
              "      <td>Albania</td>\n",
              "      <td>NaN</td>\n",
              "      <td>NaN</td>\n",
              "      <td>NaN</td>\n",
              "      <td>NaN</td>\n",
              "      <td>NaN</td>\n",
              "      <td>NaN</td>\n",
              "      <td>NaN</td>\n",
              "      <td>NaN</td>\n",
              "      <td>NaN</td>\n",
              "      <td>NaN</td>\n",
              "      <td>NaN</td>\n",
              "      <td>NaN</td>\n",
              "      <td>NaN</td>\n",
              "      <td>NaN</td>\n",
              "      <td>NaN</td>\n",
              "      <td>NaN</td>\n",
              "      <td>NaN</td>\n",
              "      <td>NaN</td>\n",
              "      <td>NaN</td>\n",
              "      <td>NaN</td>\n",
              "      <td>NaN</td>\n",
              "      <td>NaN</td>\n",
              "      <td>NaN</td>\n",
              "      <td>NaN</td>\n",
              "      <td>NaN</td>\n",
              "      <td>NaN</td>\n",
              "      <td>NaN</td>\n",
              "      <td>NaN</td>\n",
              "      <td>27.0</td>\n",
              "      <td>NaN</td>\n",
              "      <td>NaN</td>\n",
              "      <td>NaN</td>\n",
              "      <td>NaN</td>\n",
              "      <td>NaN</td>\n",
              "      <td>31.7</td>\n",
              "      <td>NaN</td>\n",
              "      <td>NaN</td>\n",
              "      <td>30.6</td>\n",
              "      <td>NaN</td>\n",
              "      <td>NaN</td>\n",
              "      <td>30.0</td>\n",
              "      <td>NaN</td>\n",
              "      <td>NaN</td>\n",
              "      <td>NaN</td>\n",
              "      <td>29.0</td>\n",
              "      <td>NaN</td>\n",
              "      <td>34.6</td>\n",
              "      <td>32.9</td>\n",
              "      <td>33.7</td>\n",
              "      <td>33.2</td>\n",
              "      <td>NaN</td>\n",
              "      <td>NaN</td>\n",
              "    </tr>\n",
              "    <tr>\n",
              "      <th>2</th>\n",
              "      <td>United Arab Emirates</td>\n",
              "      <td>NaN</td>\n",
              "      <td>NaN</td>\n",
              "      <td>NaN</td>\n",
              "      <td>NaN</td>\n",
              "      <td>NaN</td>\n",
              "      <td>NaN</td>\n",
              "      <td>NaN</td>\n",
              "      <td>NaN</td>\n",
              "      <td>NaN</td>\n",
              "      <td>NaN</td>\n",
              "      <td>NaN</td>\n",
              "      <td>NaN</td>\n",
              "      <td>NaN</td>\n",
              "      <td>NaN</td>\n",
              "      <td>NaN</td>\n",
              "      <td>NaN</td>\n",
              "      <td>NaN</td>\n",
              "      <td>NaN</td>\n",
              "      <td>NaN</td>\n",
              "      <td>NaN</td>\n",
              "      <td>NaN</td>\n",
              "      <td>NaN</td>\n",
              "      <td>NaN</td>\n",
              "      <td>NaN</td>\n",
              "      <td>NaN</td>\n",
              "      <td>NaN</td>\n",
              "      <td>NaN</td>\n",
              "      <td>NaN</td>\n",
              "      <td>NaN</td>\n",
              "      <td>NaN</td>\n",
              "      <td>NaN</td>\n",
              "      <td>NaN</td>\n",
              "      <td>NaN</td>\n",
              "      <td>NaN</td>\n",
              "      <td>NaN</td>\n",
              "      <td>NaN</td>\n",
              "      <td>NaN</td>\n",
              "      <td>NaN</td>\n",
              "      <td>NaN</td>\n",
              "      <td>NaN</td>\n",
              "      <td>NaN</td>\n",
              "      <td>NaN</td>\n",
              "      <td>NaN</td>\n",
              "      <td>NaN</td>\n",
              "      <td>NaN</td>\n",
              "      <td>32.5</td>\n",
              "      <td>NaN</td>\n",
              "      <td>NaN</td>\n",
              "      <td>NaN</td>\n",
              "      <td>NaN</td>\n",
              "      <td>26.0</td>\n",
              "      <td>NaN</td>\n",
              "    </tr>\n",
              "    <tr>\n",
              "      <th>3</th>\n",
              "      <td>Argentina</td>\n",
              "      <td>NaN</td>\n",
              "      <td>NaN</td>\n",
              "      <td>NaN</td>\n",
              "      <td>NaN</td>\n",
              "      <td>NaN</td>\n",
              "      <td>NaN</td>\n",
              "      <td>NaN</td>\n",
              "      <td>NaN</td>\n",
              "      <td>NaN</td>\n",
              "      <td>NaN</td>\n",
              "      <td>NaN</td>\n",
              "      <td>NaN</td>\n",
              "      <td>40.8</td>\n",
              "      <td>NaN</td>\n",
              "      <td>NaN</td>\n",
              "      <td>NaN</td>\n",
              "      <td>NaN</td>\n",
              "      <td>NaN</td>\n",
              "      <td>42.8</td>\n",
              "      <td>45.3</td>\n",
              "      <td>NaN</td>\n",
              "      <td>NaN</td>\n",
              "      <td>NaN</td>\n",
              "      <td>46.8</td>\n",
              "      <td>45.5</td>\n",
              "      <td>44.9</td>\n",
              "      <td>45.9</td>\n",
              "      <td>48.9</td>\n",
              "      <td>49.5</td>\n",
              "      <td>49.1</td>\n",
              "      <td>50.7</td>\n",
              "      <td>49.8</td>\n",
              "      <td>51.1</td>\n",
              "      <td>53.3</td>\n",
              "      <td>53.8</td>\n",
              "      <td>50.9</td>\n",
              "      <td>48.4</td>\n",
              "      <td>47.7</td>\n",
              "      <td>46.3</td>\n",
              "      <td>46.2</td>\n",
              "      <td>44.9</td>\n",
              "      <td>43.7</td>\n",
              "      <td>43.6</td>\n",
              "      <td>42.6</td>\n",
              "      <td>41.3</td>\n",
              "      <td>40.9</td>\n",
              "      <td>41.6</td>\n",
              "      <td>NaN</td>\n",
              "      <td>42.0</td>\n",
              "      <td>41.1</td>\n",
              "      <td>41.3</td>\n",
              "      <td>42.9</td>\n",
              "    </tr>\n",
              "    <tr>\n",
              "      <th>4</th>\n",
              "      <td>Armenia</td>\n",
              "      <td>NaN</td>\n",
              "      <td>NaN</td>\n",
              "      <td>NaN</td>\n",
              "      <td>NaN</td>\n",
              "      <td>NaN</td>\n",
              "      <td>NaN</td>\n",
              "      <td>NaN</td>\n",
              "      <td>NaN</td>\n",
              "      <td>NaN</td>\n",
              "      <td>NaN</td>\n",
              "      <td>NaN</td>\n",
              "      <td>NaN</td>\n",
              "      <td>NaN</td>\n",
              "      <td>NaN</td>\n",
              "      <td>NaN</td>\n",
              "      <td>NaN</td>\n",
              "      <td>NaN</td>\n",
              "      <td>NaN</td>\n",
              "      <td>NaN</td>\n",
              "      <td>NaN</td>\n",
              "      <td>NaN</td>\n",
              "      <td>NaN</td>\n",
              "      <td>NaN</td>\n",
              "      <td>NaN</td>\n",
              "      <td>NaN</td>\n",
              "      <td>NaN</td>\n",
              "      <td>NaN</td>\n",
              "      <td>NaN</td>\n",
              "      <td>NaN</td>\n",
              "      <td>NaN</td>\n",
              "      <td>NaN</td>\n",
              "      <td>36.2</td>\n",
              "      <td>NaN</td>\n",
              "      <td>35.4</td>\n",
              "      <td>34.8</td>\n",
              "      <td>33.0</td>\n",
              "      <td>37.5</td>\n",
              "      <td>36.0</td>\n",
              "      <td>29.7</td>\n",
              "      <td>31.2</td>\n",
              "      <td>29.2</td>\n",
              "      <td>28.0</td>\n",
              "      <td>30.0</td>\n",
              "      <td>29.4</td>\n",
              "      <td>29.6</td>\n",
              "      <td>30.6</td>\n",
              "      <td>31.5</td>\n",
              "      <td>32.4</td>\n",
              "      <td>32.5</td>\n",
              "      <td>33.6</td>\n",
              "      <td>34.4</td>\n",
              "      <td>29.9</td>\n",
              "    </tr>\n",
              "  </tbody>\n",
              "</table>\n",
              "</div>"
            ],
            "text/plain": [
              "                country  1966  1968  1969  1970  ...  2014  2015  2016  2017  2018\n",
              "0                Angola   NaN   NaN   NaN   NaN  ...   NaN   NaN   NaN  51.3   NaN\n",
              "1               Albania   NaN   NaN   NaN   NaN  ...  32.9  33.7  33.2   NaN   NaN\n",
              "2  United Arab Emirates   NaN   NaN   NaN   NaN  ...   NaN   NaN   NaN  26.0   NaN\n",
              "3             Argentina   NaN   NaN   NaN   NaN  ...   NaN  42.0  41.1  41.3  42.9\n",
              "4               Armenia   NaN   NaN   NaN   NaN  ...  32.4  32.5  33.6  34.4  29.9\n",
              "\n",
              "[5 rows x 53 columns]"
            ]
          },
          "metadata": {},
          "execution_count": 216
        }
      ]
    },
    {
      "cell_type": "code",
      "metadata": {
        "colab": {
          "base_uri": "https://localhost:8080/",
          "height": 206
        },
        "id": "h35Yd09Fnrae",
        "outputId": "9c287af2-8d68-4c0e-f77b-d32256f4adb3"
      },
      "source": [
        "mundo = pd.melt(dfGini, id_vars=['country'])\n",
        "mundo = mundo.rename(columns={'variable':'year','value':'giniM'})\n",
        "\n",
        "mundo.head()"
      ],
      "execution_count": 217,
      "outputs": [
        {
          "output_type": "execute_result",
          "data": {
            "text/html": [
              "<div>\n",
              "<style scoped>\n",
              "    .dataframe tbody tr th:only-of-type {\n",
              "        vertical-align: middle;\n",
              "    }\n",
              "\n",
              "    .dataframe tbody tr th {\n",
              "        vertical-align: top;\n",
              "    }\n",
              "\n",
              "    .dataframe thead th {\n",
              "        text-align: right;\n",
              "    }\n",
              "</style>\n",
              "<table border=\"1\" class=\"dataframe\">\n",
              "  <thead>\n",
              "    <tr style=\"text-align: right;\">\n",
              "      <th></th>\n",
              "      <th>country</th>\n",
              "      <th>year</th>\n",
              "      <th>giniM</th>\n",
              "    </tr>\n",
              "  </thead>\n",
              "  <tbody>\n",
              "    <tr>\n",
              "      <th>0</th>\n",
              "      <td>Angola</td>\n",
              "      <td>1966</td>\n",
              "      <td>NaN</td>\n",
              "    </tr>\n",
              "    <tr>\n",
              "      <th>1</th>\n",
              "      <td>Albania</td>\n",
              "      <td>1966</td>\n",
              "      <td>NaN</td>\n",
              "    </tr>\n",
              "    <tr>\n",
              "      <th>2</th>\n",
              "      <td>United Arab Emirates</td>\n",
              "      <td>1966</td>\n",
              "      <td>NaN</td>\n",
              "    </tr>\n",
              "    <tr>\n",
              "      <th>3</th>\n",
              "      <td>Argentina</td>\n",
              "      <td>1966</td>\n",
              "      <td>NaN</td>\n",
              "    </tr>\n",
              "    <tr>\n",
              "      <th>4</th>\n",
              "      <td>Armenia</td>\n",
              "      <td>1966</td>\n",
              "      <td>NaN</td>\n",
              "    </tr>\n",
              "  </tbody>\n",
              "</table>\n",
              "</div>"
            ],
            "text/plain": [
              "                country  year  giniM\n",
              "0                Angola  1966    NaN\n",
              "1               Albania  1966    NaN\n",
              "2  United Arab Emirates  1966    NaN\n",
              "3             Argentina  1966    NaN\n",
              "4               Armenia  1966    NaN"
            ]
          },
          "metadata": {},
          "execution_count": 217
        }
      ]
    },
    {
      "cell_type": "code",
      "metadata": {
        "id": "5dTBp0bSsCOE"
      },
      "source": [
        "#mundo.drop('country', axis=1, inplace=True)\n",
        "#mundo.head()"
      ],
      "execution_count": 218,
      "outputs": []
    },
    {
      "cell_type": "code",
      "metadata": {
        "id": "bwvQ6hlOuwoa"
      },
      "source": [
        "mundo.year = mundo.year.astype(str)"
      ],
      "execution_count": 219,
      "outputs": []
    },
    {
      "cell_type": "code",
      "metadata": {
        "id": "_lKT2bmhu5wc"
      },
      "source": [
        "#mundo.year = pd.to_datetime(mundo.year, format='%Y',errors='coerce')"
      ],
      "execution_count": 220,
      "outputs": []
    },
    {
      "cell_type": "code",
      "metadata": {
        "id": "9L1Wj-7iujJN"
      },
      "source": [
        "#mundo['year'] = mundo['year'].apply(lambda x : x.year())\n",
        "mundo = mundo.groupby('year').agg({'giniM':np.median}).reset_index()\n"
      ],
      "execution_count": 221,
      "outputs": []
    },
    {
      "cell_type": "code",
      "metadata": {
        "colab": {
          "base_uri": "https://localhost:8080/",
          "height": 206
        },
        "id": "51QLt7k-vIcJ",
        "outputId": "bc9aff79-7ec2-4da6-d005-ace70a6f7d01"
      },
      "source": [
        "mundo.head()"
      ],
      "execution_count": 222,
      "outputs": [
        {
          "output_type": "execute_result",
          "data": {
            "text/html": [
              "<div>\n",
              "<style scoped>\n",
              "    .dataframe tbody tr th:only-of-type {\n",
              "        vertical-align: middle;\n",
              "    }\n",
              "\n",
              "    .dataframe tbody tr th {\n",
              "        vertical-align: top;\n",
              "    }\n",
              "\n",
              "    .dataframe thead th {\n",
              "        text-align: right;\n",
              "    }\n",
              "</style>\n",
              "<table border=\"1\" class=\"dataframe\">\n",
              "  <thead>\n",
              "    <tr style=\"text-align: right;\">\n",
              "      <th></th>\n",
              "      <th>year</th>\n",
              "      <th>giniM</th>\n",
              "    </tr>\n",
              "  </thead>\n",
              "  <tbody>\n",
              "    <tr>\n",
              "      <th>0</th>\n",
              "      <td>1966</td>\n",
              "      <td>34.0</td>\n",
              "    </tr>\n",
              "    <tr>\n",
              "      <th>1</th>\n",
              "      <td>1968</td>\n",
              "      <td>33.7</td>\n",
              "    </tr>\n",
              "    <tr>\n",
              "      <th>2</th>\n",
              "      <td>1969</td>\n",
              "      <td>NaN</td>\n",
              "    </tr>\n",
              "    <tr>\n",
              "      <th>3</th>\n",
              "      <td>1970</td>\n",
              "      <td>37.3</td>\n",
              "    </tr>\n",
              "    <tr>\n",
              "      <th>4</th>\n",
              "      <td>1971</td>\n",
              "      <td>NaN</td>\n",
              "    </tr>\n",
              "  </tbody>\n",
              "</table>\n",
              "</div>"
            ],
            "text/plain": [
              "   year  giniM\n",
              "0  1966   34.0\n",
              "1  1968   33.7\n",
              "2  1969    NaN\n",
              "3  1970   37.3\n",
              "4  1971    NaN"
            ]
          },
          "metadata": {},
          "execution_count": 222
        }
      ]
    },
    {
      "cell_type": "code",
      "metadata": {
        "id": "jFLAR1M6FQNJ"
      },
      "source": [
        "dfGini_BR = dfGini[ dfGini.country == 'Brazil' ]\n",
        "dfRural_BR = dfRural[ dfRural.country == 'Brazil' ]\n",
        "dfUrbano_BR = dfUrbano[ dfUrbano.country == 'Brazil' ]\n"
      ],
      "execution_count": 223,
      "outputs": []
    },
    {
      "cell_type": "code",
      "metadata": {
        "colab": {
          "base_uri": "https://localhost:8080/",
          "height": 101
        },
        "id": "P8B1Pe_KGWQ7",
        "outputId": "66879aa2-0862-4fa2-8808-d323f529c507"
      },
      "source": [
        "dfGini_BR.head()"
      ],
      "execution_count": 224,
      "outputs": [
        {
          "output_type": "execute_result",
          "data": {
            "text/html": [
              "<div>\n",
              "<style scoped>\n",
              "    .dataframe tbody tr th:only-of-type {\n",
              "        vertical-align: middle;\n",
              "    }\n",
              "\n",
              "    .dataframe tbody tr th {\n",
              "        vertical-align: top;\n",
              "    }\n",
              "\n",
              "    .dataframe thead th {\n",
              "        text-align: right;\n",
              "    }\n",
              "</style>\n",
              "<table border=\"1\" class=\"dataframe\">\n",
              "  <thead>\n",
              "    <tr style=\"text-align: right;\">\n",
              "      <th></th>\n",
              "      <th>country</th>\n",
              "      <th>1966</th>\n",
              "      <th>1968</th>\n",
              "      <th>1969</th>\n",
              "      <th>1970</th>\n",
              "      <th>1971</th>\n",
              "      <th>1972</th>\n",
              "      <th>1973</th>\n",
              "      <th>1974</th>\n",
              "      <th>1975</th>\n",
              "      <th>1976</th>\n",
              "      <th>1977</th>\n",
              "      <th>1978</th>\n",
              "      <th>1979</th>\n",
              "      <th>1980</th>\n",
              "      <th>1981</th>\n",
              "      <th>1982</th>\n",
              "      <th>1983</th>\n",
              "      <th>1984</th>\n",
              "      <th>1985</th>\n",
              "      <th>1986</th>\n",
              "      <th>1987</th>\n",
              "      <th>1988</th>\n",
              "      <th>1989</th>\n",
              "      <th>1990</th>\n",
              "      <th>1991</th>\n",
              "      <th>1992</th>\n",
              "      <th>1993</th>\n",
              "      <th>1994</th>\n",
              "      <th>1995</th>\n",
              "      <th>1996</th>\n",
              "      <th>1997</th>\n",
              "      <th>1998</th>\n",
              "      <th>1999</th>\n",
              "      <th>2000</th>\n",
              "      <th>2001</th>\n",
              "      <th>2002</th>\n",
              "      <th>2003</th>\n",
              "      <th>2004</th>\n",
              "      <th>2005</th>\n",
              "      <th>2006</th>\n",
              "      <th>2007</th>\n",
              "      <th>2008</th>\n",
              "      <th>2009</th>\n",
              "      <th>2010</th>\n",
              "      <th>2011</th>\n",
              "      <th>2012</th>\n",
              "      <th>2013</th>\n",
              "      <th>2014</th>\n",
              "      <th>2015</th>\n",
              "      <th>2016</th>\n",
              "      <th>2017</th>\n",
              "      <th>2018</th>\n",
              "    </tr>\n",
              "  </thead>\n",
              "  <tbody>\n",
              "    <tr>\n",
              "      <th>18</th>\n",
              "      <td>Brazil</td>\n",
              "      <td>NaN</td>\n",
              "      <td>NaN</td>\n",
              "      <td>NaN</td>\n",
              "      <td>NaN</td>\n",
              "      <td>NaN</td>\n",
              "      <td>NaN</td>\n",
              "      <td>NaN</td>\n",
              "      <td>NaN</td>\n",
              "      <td>NaN</td>\n",
              "      <td>NaN</td>\n",
              "      <td>NaN</td>\n",
              "      <td>NaN</td>\n",
              "      <td>NaN</td>\n",
              "      <td>57.9</td>\n",
              "      <td>58.4</td>\n",
              "      <td>59.0</td>\n",
              "      <td>58.4</td>\n",
              "      <td>55.6</td>\n",
              "      <td>58.5</td>\n",
              "      <td>59.7</td>\n",
              "      <td>61.4</td>\n",
              "      <td>63.3</td>\n",
              "      <td>60.5</td>\n",
              "      <td>NaN</td>\n",
              "      <td>53.2</td>\n",
              "      <td>60.1</td>\n",
              "      <td>NaN</td>\n",
              "      <td>59.6</td>\n",
              "      <td>59.9</td>\n",
              "      <td>59.8</td>\n",
              "      <td>59.6</td>\n",
              "      <td>59.0</td>\n",
              "      <td>NaN</td>\n",
              "      <td>58.4</td>\n",
              "      <td>58.1</td>\n",
              "      <td>57.6</td>\n",
              "      <td>56.5</td>\n",
              "      <td>56.3</td>\n",
              "      <td>55.6</td>\n",
              "      <td>54.9</td>\n",
              "      <td>54.0</td>\n",
              "      <td>53.7</td>\n",
              "      <td>NaN</td>\n",
              "      <td>52.9</td>\n",
              "      <td>53.5</td>\n",
              "      <td>52.8</td>\n",
              "      <td>52.1</td>\n",
              "      <td>51.9</td>\n",
              "      <td>53.3</td>\n",
              "      <td>53.3</td>\n",
              "      <td>53.9</td>\n",
              "      <td>53.4</td>\n",
              "    </tr>\n",
              "  </tbody>\n",
              "</table>\n",
              "</div>"
            ],
            "text/plain": [
              "   country  1966  1968  1969  1970  1971  ...  2013  2014  2015  2016  2017  2018\n",
              "18  Brazil   NaN   NaN   NaN   NaN   NaN  ...  52.1  51.9  53.3  53.3  53.9  53.4\n",
              "\n",
              "[1 rows x 53 columns]"
            ]
          },
          "metadata": {},
          "execution_count": 224
        }
      ]
    },
    {
      "cell_type": "code",
      "metadata": {
        "colab": {
          "base_uri": "https://localhost:8080/",
          "height": 101
        },
        "id": "tWp9R-SrGfh4",
        "outputId": "f6c716dd-444e-4d57-ead0-cf976cd9d368"
      },
      "source": [
        "dfRural_BR.head()"
      ],
      "execution_count": 225,
      "outputs": [
        {
          "output_type": "execute_result",
          "data": {
            "text/html": [
              "<div>\n",
              "<style scoped>\n",
              "    .dataframe tbody tr th:only-of-type {\n",
              "        vertical-align: middle;\n",
              "    }\n",
              "\n",
              "    .dataframe tbody tr th {\n",
              "        vertical-align: top;\n",
              "    }\n",
              "\n",
              "    .dataframe thead th {\n",
              "        text-align: right;\n",
              "    }\n",
              "</style>\n",
              "<table border=\"1\" class=\"dataframe\">\n",
              "  <thead>\n",
              "    <tr style=\"text-align: right;\">\n",
              "      <th></th>\n",
              "      <th>country</th>\n",
              "      <th>1984</th>\n",
              "      <th>1987</th>\n",
              "      <th>1988</th>\n",
              "      <th>1989</th>\n",
              "      <th>1990</th>\n",
              "      <th>1991</th>\n",
              "      <th>1992</th>\n",
              "      <th>1993</th>\n",
              "      <th>1994</th>\n",
              "      <th>1995</th>\n",
              "      <th>1996</th>\n",
              "      <th>1997</th>\n",
              "      <th>1998</th>\n",
              "      <th>1999</th>\n",
              "      <th>2000</th>\n",
              "      <th>2001</th>\n",
              "      <th>2002</th>\n",
              "      <th>2003</th>\n",
              "      <th>2004</th>\n",
              "      <th>2005</th>\n",
              "    </tr>\n",
              "  </thead>\n",
              "  <tbody>\n",
              "    <tr>\n",
              "      <th>9</th>\n",
              "      <td>Brazil</td>\n",
              "      <td>NaN</td>\n",
              "      <td>NaN</td>\n",
              "      <td>NaN</td>\n",
              "      <td>NaN</td>\n",
              "      <td>NaN</td>\n",
              "      <td>NaN</td>\n",
              "      <td>NaN</td>\n",
              "      <td>NaN</td>\n",
              "      <td>NaN</td>\n",
              "      <td>NaN</td>\n",
              "      <td>NaN</td>\n",
              "      <td>51.4</td>\n",
              "      <td>NaN</td>\n",
              "      <td>NaN</td>\n",
              "      <td>NaN</td>\n",
              "      <td>NaN</td>\n",
              "      <td>41.0</td>\n",
              "      <td>NaN</td>\n",
              "      <td>NaN</td>\n",
              "      <td>NaN</td>\n",
              "    </tr>\n",
              "  </tbody>\n",
              "</table>\n",
              "</div>"
            ],
            "text/plain": [
              "  country  1984  1987  1988  1989  1990  ...  2000  2001  2002  2003  2004  2005\n",
              "9  Brazil   NaN   NaN   NaN   NaN   NaN  ...   NaN   NaN  41.0   NaN   NaN   NaN\n",
              "\n",
              "[1 rows x 21 columns]"
            ]
          },
          "metadata": {},
          "execution_count": 225
        }
      ]
    },
    {
      "cell_type": "code",
      "metadata": {
        "colab": {
          "base_uri": "https://localhost:8080/",
          "height": 101
        },
        "id": "XNErIf9NGjWG",
        "outputId": "e5a6cf59-c405-4fc6-ec36-31f8f71bf605"
      },
      "source": [
        "dfUrbano_BR.head()"
      ],
      "execution_count": 226,
      "outputs": [
        {
          "output_type": "execute_result",
          "data": {
            "text/html": [
              "<div>\n",
              "<style scoped>\n",
              "    .dataframe tbody tr th:only-of-type {\n",
              "        vertical-align: middle;\n",
              "    }\n",
              "\n",
              "    .dataframe tbody tr th {\n",
              "        vertical-align: top;\n",
              "    }\n",
              "\n",
              "    .dataframe thead th {\n",
              "        text-align: right;\n",
              "    }\n",
              "</style>\n",
              "<table border=\"1\" class=\"dataframe\">\n",
              "  <thead>\n",
              "    <tr style=\"text-align: right;\">\n",
              "      <th></th>\n",
              "      <th>country</th>\n",
              "      <th>1984</th>\n",
              "      <th>1987</th>\n",
              "      <th>1988</th>\n",
              "      <th>1989</th>\n",
              "      <th>1990</th>\n",
              "      <th>1991</th>\n",
              "      <th>1992</th>\n",
              "      <th>1993</th>\n",
              "      <th>1994</th>\n",
              "      <th>1995</th>\n",
              "      <th>1996</th>\n",
              "      <th>1997</th>\n",
              "      <th>1998</th>\n",
              "      <th>1999</th>\n",
              "      <th>2000</th>\n",
              "      <th>2001</th>\n",
              "      <th>2002</th>\n",
              "      <th>2003</th>\n",
              "      <th>2004</th>\n",
              "      <th>2005</th>\n",
              "    </tr>\n",
              "  </thead>\n",
              "  <tbody>\n",
              "    <tr>\n",
              "      <th>10</th>\n",
              "      <td>Brazil</td>\n",
              "      <td>NaN</td>\n",
              "      <td>NaN</td>\n",
              "      <td>NaN</td>\n",
              "      <td>NaN</td>\n",
              "      <td>NaN</td>\n",
              "      <td>NaN</td>\n",
              "      <td>NaN</td>\n",
              "      <td>NaN</td>\n",
              "      <td>NaN</td>\n",
              "      <td>NaN</td>\n",
              "      <td>NaN</td>\n",
              "      <td>14.7</td>\n",
              "      <td>NaN</td>\n",
              "      <td>NaN</td>\n",
              "      <td>NaN</td>\n",
              "      <td>NaN</td>\n",
              "      <td>17.5</td>\n",
              "      <td>NaN</td>\n",
              "      <td>NaN</td>\n",
              "      <td>NaN</td>\n",
              "    </tr>\n",
              "  </tbody>\n",
              "</table>\n",
              "</div>"
            ],
            "text/plain": [
              "   country  1984  1987  1988  1989  1990  ...  2000  2001  2002  2003  2004  2005\n",
              "10  Brazil   NaN   NaN   NaN   NaN   NaN  ...   NaN   NaN  17.5   NaN   NaN   NaN\n",
              "\n",
              "[1 rows x 21 columns]"
            ]
          },
          "metadata": {},
          "execution_count": 226
        }
      ]
    },
    {
      "cell_type": "code",
      "metadata": {
        "colab": {
          "base_uri": "https://localhost:8080/",
          "height": 206
        },
        "id": "-7fyRSNxG9L_",
        "outputId": "18e2c3e9-5927-491a-cb95-39c3ab8ce5fe"
      },
      "source": [
        "BR = pd.melt(dfGini_BR, id_vars=['country'])\n",
        "BR.head()"
      ],
      "execution_count": 227,
      "outputs": [
        {
          "output_type": "execute_result",
          "data": {
            "text/html": [
              "<div>\n",
              "<style scoped>\n",
              "    .dataframe tbody tr th:only-of-type {\n",
              "        vertical-align: middle;\n",
              "    }\n",
              "\n",
              "    .dataframe tbody tr th {\n",
              "        vertical-align: top;\n",
              "    }\n",
              "\n",
              "    .dataframe thead th {\n",
              "        text-align: right;\n",
              "    }\n",
              "</style>\n",
              "<table border=\"1\" class=\"dataframe\">\n",
              "  <thead>\n",
              "    <tr style=\"text-align: right;\">\n",
              "      <th></th>\n",
              "      <th>country</th>\n",
              "      <th>variable</th>\n",
              "      <th>value</th>\n",
              "    </tr>\n",
              "  </thead>\n",
              "  <tbody>\n",
              "    <tr>\n",
              "      <th>0</th>\n",
              "      <td>Brazil</td>\n",
              "      <td>1966</td>\n",
              "      <td>NaN</td>\n",
              "    </tr>\n",
              "    <tr>\n",
              "      <th>1</th>\n",
              "      <td>Brazil</td>\n",
              "      <td>1968</td>\n",
              "      <td>NaN</td>\n",
              "    </tr>\n",
              "    <tr>\n",
              "      <th>2</th>\n",
              "      <td>Brazil</td>\n",
              "      <td>1969</td>\n",
              "      <td>NaN</td>\n",
              "    </tr>\n",
              "    <tr>\n",
              "      <th>3</th>\n",
              "      <td>Brazil</td>\n",
              "      <td>1970</td>\n",
              "      <td>NaN</td>\n",
              "    </tr>\n",
              "    <tr>\n",
              "      <th>4</th>\n",
              "      <td>Brazil</td>\n",
              "      <td>1971</td>\n",
              "      <td>NaN</td>\n",
              "    </tr>\n",
              "  </tbody>\n",
              "</table>\n",
              "</div>"
            ],
            "text/plain": [
              "  country variable  value\n",
              "0  Brazil     1966    NaN\n",
              "1  Brazil     1968    NaN\n",
              "2  Brazil     1969    NaN\n",
              "3  Brazil     1970    NaN\n",
              "4  Brazil     1971    NaN"
            ]
          },
          "metadata": {},
          "execution_count": 227
        }
      ]
    },
    {
      "cell_type": "code",
      "metadata": {
        "colab": {
          "base_uri": "https://localhost:8080/",
          "height": 206
        },
        "id": "1__sMEhHG838",
        "outputId": "d7c81a5d-c8c6-4008-b759-28da8e0628f7"
      },
      "source": [
        "BR2 = pd.melt(dfRural_BR, id_vars=['country'])\n",
        "BR2.head()"
      ],
      "execution_count": 228,
      "outputs": [
        {
          "output_type": "execute_result",
          "data": {
            "text/html": [
              "<div>\n",
              "<style scoped>\n",
              "    .dataframe tbody tr th:only-of-type {\n",
              "        vertical-align: middle;\n",
              "    }\n",
              "\n",
              "    .dataframe tbody tr th {\n",
              "        vertical-align: top;\n",
              "    }\n",
              "\n",
              "    .dataframe thead th {\n",
              "        text-align: right;\n",
              "    }\n",
              "</style>\n",
              "<table border=\"1\" class=\"dataframe\">\n",
              "  <thead>\n",
              "    <tr style=\"text-align: right;\">\n",
              "      <th></th>\n",
              "      <th>country</th>\n",
              "      <th>variable</th>\n",
              "      <th>value</th>\n",
              "    </tr>\n",
              "  </thead>\n",
              "  <tbody>\n",
              "    <tr>\n",
              "      <th>0</th>\n",
              "      <td>Brazil</td>\n",
              "      <td>1984</td>\n",
              "      <td>NaN</td>\n",
              "    </tr>\n",
              "    <tr>\n",
              "      <th>1</th>\n",
              "      <td>Brazil</td>\n",
              "      <td>1987</td>\n",
              "      <td>NaN</td>\n",
              "    </tr>\n",
              "    <tr>\n",
              "      <th>2</th>\n",
              "      <td>Brazil</td>\n",
              "      <td>1988</td>\n",
              "      <td>NaN</td>\n",
              "    </tr>\n",
              "    <tr>\n",
              "      <th>3</th>\n",
              "      <td>Brazil</td>\n",
              "      <td>1989</td>\n",
              "      <td>NaN</td>\n",
              "    </tr>\n",
              "    <tr>\n",
              "      <th>4</th>\n",
              "      <td>Brazil</td>\n",
              "      <td>1990</td>\n",
              "      <td>NaN</td>\n",
              "    </tr>\n",
              "  </tbody>\n",
              "</table>\n",
              "</div>"
            ],
            "text/plain": [
              "  country variable  value\n",
              "0  Brazil     1984    NaN\n",
              "1  Brazil     1987    NaN\n",
              "2  Brazil     1988    NaN\n",
              "3  Brazil     1989    NaN\n",
              "4  Brazil     1990    NaN"
            ]
          },
          "metadata": {},
          "execution_count": 228
        }
      ]
    },
    {
      "cell_type": "code",
      "metadata": {
        "colab": {
          "base_uri": "https://localhost:8080/",
          "height": 206
        },
        "id": "UrzwqGAqG8UO",
        "outputId": "2a20576c-2a53-46a3-bb17-38d55c3775f6"
      },
      "source": [
        "BR3 = pd.melt(dfUrbano_BR, id_vars=['country'])\n",
        "BR3.head()"
      ],
      "execution_count": 229,
      "outputs": [
        {
          "output_type": "execute_result",
          "data": {
            "text/html": [
              "<div>\n",
              "<style scoped>\n",
              "    .dataframe tbody tr th:only-of-type {\n",
              "        vertical-align: middle;\n",
              "    }\n",
              "\n",
              "    .dataframe tbody tr th {\n",
              "        vertical-align: top;\n",
              "    }\n",
              "\n",
              "    .dataframe thead th {\n",
              "        text-align: right;\n",
              "    }\n",
              "</style>\n",
              "<table border=\"1\" class=\"dataframe\">\n",
              "  <thead>\n",
              "    <tr style=\"text-align: right;\">\n",
              "      <th></th>\n",
              "      <th>country</th>\n",
              "      <th>variable</th>\n",
              "      <th>value</th>\n",
              "    </tr>\n",
              "  </thead>\n",
              "  <tbody>\n",
              "    <tr>\n",
              "      <th>0</th>\n",
              "      <td>Brazil</td>\n",
              "      <td>1984</td>\n",
              "      <td>NaN</td>\n",
              "    </tr>\n",
              "    <tr>\n",
              "      <th>1</th>\n",
              "      <td>Brazil</td>\n",
              "      <td>1987</td>\n",
              "      <td>NaN</td>\n",
              "    </tr>\n",
              "    <tr>\n",
              "      <th>2</th>\n",
              "      <td>Brazil</td>\n",
              "      <td>1988</td>\n",
              "      <td>NaN</td>\n",
              "    </tr>\n",
              "    <tr>\n",
              "      <th>3</th>\n",
              "      <td>Brazil</td>\n",
              "      <td>1989</td>\n",
              "      <td>NaN</td>\n",
              "    </tr>\n",
              "    <tr>\n",
              "      <th>4</th>\n",
              "      <td>Brazil</td>\n",
              "      <td>1990</td>\n",
              "      <td>NaN</td>\n",
              "    </tr>\n",
              "  </tbody>\n",
              "</table>\n",
              "</div>"
            ],
            "text/plain": [
              "  country variable  value\n",
              "0  Brazil     1984    NaN\n",
              "1  Brazil     1987    NaN\n",
              "2  Brazil     1988    NaN\n",
              "3  Brazil     1989    NaN\n",
              "4  Brazil     1990    NaN"
            ]
          },
          "metadata": {},
          "execution_count": 229
        }
      ]
    },
    {
      "cell_type": "code",
      "metadata": {
        "colab": {
          "base_uri": "https://localhost:8080/",
          "height": 206
        },
        "id": "HrPRFJOVHjPW",
        "outputId": "27c5504d-0d60-43d6-e5b2-cda73460c37c"
      },
      "source": [
        "BR = BR.rename(columns={'variable':'year','value':'gini'})\n",
        "BR.head()"
      ],
      "execution_count": 230,
      "outputs": [
        {
          "output_type": "execute_result",
          "data": {
            "text/html": [
              "<div>\n",
              "<style scoped>\n",
              "    .dataframe tbody tr th:only-of-type {\n",
              "        vertical-align: middle;\n",
              "    }\n",
              "\n",
              "    .dataframe tbody tr th {\n",
              "        vertical-align: top;\n",
              "    }\n",
              "\n",
              "    .dataframe thead th {\n",
              "        text-align: right;\n",
              "    }\n",
              "</style>\n",
              "<table border=\"1\" class=\"dataframe\">\n",
              "  <thead>\n",
              "    <tr style=\"text-align: right;\">\n",
              "      <th></th>\n",
              "      <th>country</th>\n",
              "      <th>year</th>\n",
              "      <th>gini</th>\n",
              "    </tr>\n",
              "  </thead>\n",
              "  <tbody>\n",
              "    <tr>\n",
              "      <th>0</th>\n",
              "      <td>Brazil</td>\n",
              "      <td>1966</td>\n",
              "      <td>NaN</td>\n",
              "    </tr>\n",
              "    <tr>\n",
              "      <th>1</th>\n",
              "      <td>Brazil</td>\n",
              "      <td>1968</td>\n",
              "      <td>NaN</td>\n",
              "    </tr>\n",
              "    <tr>\n",
              "      <th>2</th>\n",
              "      <td>Brazil</td>\n",
              "      <td>1969</td>\n",
              "      <td>NaN</td>\n",
              "    </tr>\n",
              "    <tr>\n",
              "      <th>3</th>\n",
              "      <td>Brazil</td>\n",
              "      <td>1970</td>\n",
              "      <td>NaN</td>\n",
              "    </tr>\n",
              "    <tr>\n",
              "      <th>4</th>\n",
              "      <td>Brazil</td>\n",
              "      <td>1971</td>\n",
              "      <td>NaN</td>\n",
              "    </tr>\n",
              "  </tbody>\n",
              "</table>\n",
              "</div>"
            ],
            "text/plain": [
              "  country  year  gini\n",
              "0  Brazil  1966   NaN\n",
              "1  Brazil  1968   NaN\n",
              "2  Brazil  1969   NaN\n",
              "3  Brazil  1970   NaN\n",
              "4  Brazil  1971   NaN"
            ]
          },
          "metadata": {},
          "execution_count": 230
        }
      ]
    },
    {
      "cell_type": "code",
      "metadata": {
        "colab": {
          "base_uri": "https://localhost:8080/",
          "height": 206
        },
        "id": "iTWYPbLJHjAm",
        "outputId": "eb26003f-ca3e-4c35-8987-32ef19b1e2c8"
      },
      "source": [
        "BR2 = BR2.rename(columns={'variable':'year','value':'rural'})\n",
        "BR2.head()"
      ],
      "execution_count": 231,
      "outputs": [
        {
          "output_type": "execute_result",
          "data": {
            "text/html": [
              "<div>\n",
              "<style scoped>\n",
              "    .dataframe tbody tr th:only-of-type {\n",
              "        vertical-align: middle;\n",
              "    }\n",
              "\n",
              "    .dataframe tbody tr th {\n",
              "        vertical-align: top;\n",
              "    }\n",
              "\n",
              "    .dataframe thead th {\n",
              "        text-align: right;\n",
              "    }\n",
              "</style>\n",
              "<table border=\"1\" class=\"dataframe\">\n",
              "  <thead>\n",
              "    <tr style=\"text-align: right;\">\n",
              "      <th></th>\n",
              "      <th>country</th>\n",
              "      <th>year</th>\n",
              "      <th>rural</th>\n",
              "    </tr>\n",
              "  </thead>\n",
              "  <tbody>\n",
              "    <tr>\n",
              "      <th>0</th>\n",
              "      <td>Brazil</td>\n",
              "      <td>1984</td>\n",
              "      <td>NaN</td>\n",
              "    </tr>\n",
              "    <tr>\n",
              "      <th>1</th>\n",
              "      <td>Brazil</td>\n",
              "      <td>1987</td>\n",
              "      <td>NaN</td>\n",
              "    </tr>\n",
              "    <tr>\n",
              "      <th>2</th>\n",
              "      <td>Brazil</td>\n",
              "      <td>1988</td>\n",
              "      <td>NaN</td>\n",
              "    </tr>\n",
              "    <tr>\n",
              "      <th>3</th>\n",
              "      <td>Brazil</td>\n",
              "      <td>1989</td>\n",
              "      <td>NaN</td>\n",
              "    </tr>\n",
              "    <tr>\n",
              "      <th>4</th>\n",
              "      <td>Brazil</td>\n",
              "      <td>1990</td>\n",
              "      <td>NaN</td>\n",
              "    </tr>\n",
              "  </tbody>\n",
              "</table>\n",
              "</div>"
            ],
            "text/plain": [
              "  country  year  rural\n",
              "0  Brazil  1984    NaN\n",
              "1  Brazil  1987    NaN\n",
              "2  Brazil  1988    NaN\n",
              "3  Brazil  1989    NaN\n",
              "4  Brazil  1990    NaN"
            ]
          },
          "metadata": {},
          "execution_count": 231
        }
      ]
    },
    {
      "cell_type": "code",
      "metadata": {
        "colab": {
          "base_uri": "https://localhost:8080/",
          "height": 206
        },
        "id": "wm9LyoSQHisX",
        "outputId": "6dcef769-3459-4960-b238-51929e1fd1c8"
      },
      "source": [
        "BR3 = BR3.rename(columns={'variable':'year','value':'urbano'})\n",
        "BR3.head()"
      ],
      "execution_count": 232,
      "outputs": [
        {
          "output_type": "execute_result",
          "data": {
            "text/html": [
              "<div>\n",
              "<style scoped>\n",
              "    .dataframe tbody tr th:only-of-type {\n",
              "        vertical-align: middle;\n",
              "    }\n",
              "\n",
              "    .dataframe tbody tr th {\n",
              "        vertical-align: top;\n",
              "    }\n",
              "\n",
              "    .dataframe thead th {\n",
              "        text-align: right;\n",
              "    }\n",
              "</style>\n",
              "<table border=\"1\" class=\"dataframe\">\n",
              "  <thead>\n",
              "    <tr style=\"text-align: right;\">\n",
              "      <th></th>\n",
              "      <th>country</th>\n",
              "      <th>year</th>\n",
              "      <th>urbano</th>\n",
              "    </tr>\n",
              "  </thead>\n",
              "  <tbody>\n",
              "    <tr>\n",
              "      <th>0</th>\n",
              "      <td>Brazil</td>\n",
              "      <td>1984</td>\n",
              "      <td>NaN</td>\n",
              "    </tr>\n",
              "    <tr>\n",
              "      <th>1</th>\n",
              "      <td>Brazil</td>\n",
              "      <td>1987</td>\n",
              "      <td>NaN</td>\n",
              "    </tr>\n",
              "    <tr>\n",
              "      <th>2</th>\n",
              "      <td>Brazil</td>\n",
              "      <td>1988</td>\n",
              "      <td>NaN</td>\n",
              "    </tr>\n",
              "    <tr>\n",
              "      <th>3</th>\n",
              "      <td>Brazil</td>\n",
              "      <td>1989</td>\n",
              "      <td>NaN</td>\n",
              "    </tr>\n",
              "    <tr>\n",
              "      <th>4</th>\n",
              "      <td>Brazil</td>\n",
              "      <td>1990</td>\n",
              "      <td>NaN</td>\n",
              "    </tr>\n",
              "  </tbody>\n",
              "</table>\n",
              "</div>"
            ],
            "text/plain": [
              "  country  year  urbano\n",
              "0  Brazil  1984     NaN\n",
              "1  Brazil  1987     NaN\n",
              "2  Brazil  1988     NaN\n",
              "3  Brazil  1989     NaN\n",
              "4  Brazil  1990     NaN"
            ]
          },
          "metadata": {},
          "execution_count": 232
        }
      ]
    },
    {
      "cell_type": "code",
      "metadata": {
        "colab": {
          "base_uri": "https://localhost:8080/",
          "height": 206
        },
        "id": "pUSl7KliIMdx",
        "outputId": "aedccfe3-8443-49fe-b7ec-1b03b92989d3"
      },
      "source": [
        "BR_merge = pd.merge(BR,BR2, on=['country','year'])\n",
        "BR_merge.head()"
      ],
      "execution_count": 233,
      "outputs": [
        {
          "output_type": "execute_result",
          "data": {
            "text/html": [
              "<div>\n",
              "<style scoped>\n",
              "    .dataframe tbody tr th:only-of-type {\n",
              "        vertical-align: middle;\n",
              "    }\n",
              "\n",
              "    .dataframe tbody tr th {\n",
              "        vertical-align: top;\n",
              "    }\n",
              "\n",
              "    .dataframe thead th {\n",
              "        text-align: right;\n",
              "    }\n",
              "</style>\n",
              "<table border=\"1\" class=\"dataframe\">\n",
              "  <thead>\n",
              "    <tr style=\"text-align: right;\">\n",
              "      <th></th>\n",
              "      <th>country</th>\n",
              "      <th>year</th>\n",
              "      <th>gini</th>\n",
              "      <th>rural</th>\n",
              "    </tr>\n",
              "  </thead>\n",
              "  <tbody>\n",
              "    <tr>\n",
              "      <th>0</th>\n",
              "      <td>Brazil</td>\n",
              "      <td>1984</td>\n",
              "      <td>55.6</td>\n",
              "      <td>NaN</td>\n",
              "    </tr>\n",
              "    <tr>\n",
              "      <th>1</th>\n",
              "      <td>Brazil</td>\n",
              "      <td>1987</td>\n",
              "      <td>61.4</td>\n",
              "      <td>NaN</td>\n",
              "    </tr>\n",
              "    <tr>\n",
              "      <th>2</th>\n",
              "      <td>Brazil</td>\n",
              "      <td>1988</td>\n",
              "      <td>63.3</td>\n",
              "      <td>NaN</td>\n",
              "    </tr>\n",
              "    <tr>\n",
              "      <th>3</th>\n",
              "      <td>Brazil</td>\n",
              "      <td>1989</td>\n",
              "      <td>60.5</td>\n",
              "      <td>NaN</td>\n",
              "    </tr>\n",
              "    <tr>\n",
              "      <th>4</th>\n",
              "      <td>Brazil</td>\n",
              "      <td>1990</td>\n",
              "      <td>NaN</td>\n",
              "      <td>NaN</td>\n",
              "    </tr>\n",
              "  </tbody>\n",
              "</table>\n",
              "</div>"
            ],
            "text/plain": [
              "  country  year  gini  rural\n",
              "0  Brazil  1984  55.6    NaN\n",
              "1  Brazil  1987  61.4    NaN\n",
              "2  Brazil  1988  63.3    NaN\n",
              "3  Brazil  1989  60.5    NaN\n",
              "4  Brazil  1990   NaN    NaN"
            ]
          },
          "metadata": {},
          "execution_count": 233
        }
      ]
    },
    {
      "cell_type": "code",
      "metadata": {
        "colab": {
          "base_uri": "https://localhost:8080/",
          "height": 206
        },
        "id": "MN7i31I-JeVY",
        "outputId": "1cd09bbf-a523-49ac-870a-52d082c3c1f8"
      },
      "source": [
        "BR_merge = pd.merge(BR_merge,BR3, on=['country','year'])\n",
        "BR_merge.head()"
      ],
      "execution_count": 234,
      "outputs": [
        {
          "output_type": "execute_result",
          "data": {
            "text/html": [
              "<div>\n",
              "<style scoped>\n",
              "    .dataframe tbody tr th:only-of-type {\n",
              "        vertical-align: middle;\n",
              "    }\n",
              "\n",
              "    .dataframe tbody tr th {\n",
              "        vertical-align: top;\n",
              "    }\n",
              "\n",
              "    .dataframe thead th {\n",
              "        text-align: right;\n",
              "    }\n",
              "</style>\n",
              "<table border=\"1\" class=\"dataframe\">\n",
              "  <thead>\n",
              "    <tr style=\"text-align: right;\">\n",
              "      <th></th>\n",
              "      <th>country</th>\n",
              "      <th>year</th>\n",
              "      <th>gini</th>\n",
              "      <th>rural</th>\n",
              "      <th>urbano</th>\n",
              "    </tr>\n",
              "  </thead>\n",
              "  <tbody>\n",
              "    <tr>\n",
              "      <th>0</th>\n",
              "      <td>Brazil</td>\n",
              "      <td>1984</td>\n",
              "      <td>55.6</td>\n",
              "      <td>NaN</td>\n",
              "      <td>NaN</td>\n",
              "    </tr>\n",
              "    <tr>\n",
              "      <th>1</th>\n",
              "      <td>Brazil</td>\n",
              "      <td>1987</td>\n",
              "      <td>61.4</td>\n",
              "      <td>NaN</td>\n",
              "      <td>NaN</td>\n",
              "    </tr>\n",
              "    <tr>\n",
              "      <th>2</th>\n",
              "      <td>Brazil</td>\n",
              "      <td>1988</td>\n",
              "      <td>63.3</td>\n",
              "      <td>NaN</td>\n",
              "      <td>NaN</td>\n",
              "    </tr>\n",
              "    <tr>\n",
              "      <th>3</th>\n",
              "      <td>Brazil</td>\n",
              "      <td>1989</td>\n",
              "      <td>60.5</td>\n",
              "      <td>NaN</td>\n",
              "      <td>NaN</td>\n",
              "    </tr>\n",
              "    <tr>\n",
              "      <th>4</th>\n",
              "      <td>Brazil</td>\n",
              "      <td>1990</td>\n",
              "      <td>NaN</td>\n",
              "      <td>NaN</td>\n",
              "      <td>NaN</td>\n",
              "    </tr>\n",
              "  </tbody>\n",
              "</table>\n",
              "</div>"
            ],
            "text/plain": [
              "  country  year  gini  rural  urbano\n",
              "0  Brazil  1984  55.6    NaN     NaN\n",
              "1  Brazil  1987  61.4    NaN     NaN\n",
              "2  Brazil  1988  63.3    NaN     NaN\n",
              "3  Brazil  1989  60.5    NaN     NaN\n",
              "4  Brazil  1990   NaN    NaN     NaN"
            ]
          },
          "metadata": {},
          "execution_count": 234
        }
      ]
    },
    {
      "cell_type": "code",
      "metadata": {
        "colab": {
          "base_uri": "https://localhost:8080/",
          "height": 206
        },
        "id": "lIprMeG_J9Mr",
        "outputId": "1e32b5dd-35f2-4b75-a024-098b4e393d26"
      },
      "source": [
        "# Normalizando dados\n",
        "\n",
        "for c in BR_merge[['gini','rural','urbano']]:\n",
        "  BR_merge[c] = BR_merge[c] / BR_merge[c].max()\n",
        "BR_merge.head()"
      ],
      "execution_count": 235,
      "outputs": [
        {
          "output_type": "execute_result",
          "data": {
            "text/html": [
              "<div>\n",
              "<style scoped>\n",
              "    .dataframe tbody tr th:only-of-type {\n",
              "        vertical-align: middle;\n",
              "    }\n",
              "\n",
              "    .dataframe tbody tr th {\n",
              "        vertical-align: top;\n",
              "    }\n",
              "\n",
              "    .dataframe thead th {\n",
              "        text-align: right;\n",
              "    }\n",
              "</style>\n",
              "<table border=\"1\" class=\"dataframe\">\n",
              "  <thead>\n",
              "    <tr style=\"text-align: right;\">\n",
              "      <th></th>\n",
              "      <th>country</th>\n",
              "      <th>year</th>\n",
              "      <th>gini</th>\n",
              "      <th>rural</th>\n",
              "      <th>urbano</th>\n",
              "    </tr>\n",
              "  </thead>\n",
              "  <tbody>\n",
              "    <tr>\n",
              "      <th>0</th>\n",
              "      <td>Brazil</td>\n",
              "      <td>1984</td>\n",
              "      <td>0.878357</td>\n",
              "      <td>NaN</td>\n",
              "      <td>NaN</td>\n",
              "    </tr>\n",
              "    <tr>\n",
              "      <th>1</th>\n",
              "      <td>Brazil</td>\n",
              "      <td>1987</td>\n",
              "      <td>0.969984</td>\n",
              "      <td>NaN</td>\n",
              "      <td>NaN</td>\n",
              "    </tr>\n",
              "    <tr>\n",
              "      <th>2</th>\n",
              "      <td>Brazil</td>\n",
              "      <td>1988</td>\n",
              "      <td>1.000000</td>\n",
              "      <td>NaN</td>\n",
              "      <td>NaN</td>\n",
              "    </tr>\n",
              "    <tr>\n",
              "      <th>3</th>\n",
              "      <td>Brazil</td>\n",
              "      <td>1989</td>\n",
              "      <td>0.955766</td>\n",
              "      <td>NaN</td>\n",
              "      <td>NaN</td>\n",
              "    </tr>\n",
              "    <tr>\n",
              "      <th>4</th>\n",
              "      <td>Brazil</td>\n",
              "      <td>1990</td>\n",
              "      <td>NaN</td>\n",
              "      <td>NaN</td>\n",
              "      <td>NaN</td>\n",
              "    </tr>\n",
              "  </tbody>\n",
              "</table>\n",
              "</div>"
            ],
            "text/plain": [
              "  country  year      gini  rural  urbano\n",
              "0  Brazil  1984  0.878357    NaN     NaN\n",
              "1  Brazil  1987  0.969984    NaN     NaN\n",
              "2  Brazil  1988  1.000000    NaN     NaN\n",
              "3  Brazil  1989  0.955766    NaN     NaN\n",
              "4  Brazil  1990       NaN    NaN     NaN"
            ]
          },
          "metadata": {},
          "execution_count": 235
        }
      ]
    },
    {
      "cell_type": "code",
      "metadata": {
        "colab": {
          "base_uri": "https://localhost:8080/",
          "height": 421
        },
        "id": "iGNmFgu09Js9",
        "outputId": "2d82e46f-b71f-45b3-f33a-d77297cb4540"
      },
      "source": [
        "plt.figure(figsize=(12,6))\n",
        "\n",
        "sns.lineplot(x=BR_merge.year, y=BR_merge.gini, label='gini')\n",
        "sns.lineplot(x=BR_merge.year, y=BR_merge.rural, label='rural')\n",
        "sns.lineplot(x=BR_merge.year, y=BR_merge.urbano, label='urbano')\n",
        "\n",
        "plt.title('Brasil: Gini X Pobreza Rural x Pobreza Urbana', fontsize=14)\n",
        "plt.legend()\n",
        "plt.xticks(rotation=90)\n",
        "plt.show()"
      ],
      "execution_count": 236,
      "outputs": [
        {
          "output_type": "display_data",
          "data": {
            "image/png": "[encoded data removed]",
            "text/plain": [
              "<Figure size 864x432 with 1 Axes>"
            ]
          },
          "metadata": {
            "needs_background": "light"
          }
        }
      ]
    },
    {
      "cell_type": "code",
      "metadata": {
        "colab": {
          "base_uri": "https://localhost:8080/",
          "height": 422
        },
        "id": "bk128GlC6ee8",
        "outputId": "2886eb28-689c-442e-f980-ce70d386ed01"
      },
      "source": [
        "plt.figure(figsize=(12,6))\n",
        "\n",
        "sns.lineplot(x=BR_merge.year, y=np.log( BR_merge.gini ), label='gini')\n",
        "sns.lineplot(x=BR_merge.year, y=np.log( BR_merge.rural ), label='rural')\n",
        "sns.lineplot(x=BR_merge.year, y=np.log( BR_merge.urbano ), label='urbano')\n",
        "\n",
        "plt.title('Brasil: Gini X Pobreza Rural x Pobreza Urbana (Log Scale)', fontsize=14)\n",
        "plt.legend()\n",
        "plt.xticks(rotation=80)\n",
        "plt.show()"
      ],
      "execution_count": 237,
      "outputs": [
        {
          "output_type": "display_data",
          "data": {
            "image/png": "[encoded data removed]",
            "text/plain": [
              "<Figure size 864x432 with 1 Axes>"
            ]
          },
          "metadata": {
            "needs_background": "light"
          }
        }
      ]
    },
    {
      "cell_type": "code",
      "metadata": {
        "colab": {
          "base_uri": "https://localhost:8080/",
          "height": 421
        },
        "id": "544RsWk_lWKL",
        "outputId": "6d1d4aa4-75a6-48fc-cd4e-627ea9e2e8e0"
      },
      "source": [
        "BR_not_null = BR_merge[ ~ np.isnan( BR_merge.gini )]\n",
        "BR_not_null = BR_merge[ ~ np.isnan( BR_merge.rural )]\n",
        "BR_not_null = BR_merge[ ~ np.isnan( BR_merge.urbano )]\n",
        "\n",
        "plt.figure(figsize=(12,6))\n",
        "\n",
        "sns.lineplot(x=BR_not_null.year, y=np.log( BR_not_null.gini ), label='gini')\n",
        "sns.lineplot(x=BR_not_null.year, y=np.log( BR_not_null.rural ), label='rural')\n",
        "sns.lineplot(x=BR_not_null.year, y=np.log( BR_not_null.urbano ), label='urbano')\n",
        "\n",
        "plt.title('Brasil: Gini X Pobreza Rural x Pobreza Urbana (Log Scale)', fontsize=14)\n",
        "plt.legend()\n",
        "plt.xticks(rotation=90)\n",
        "plt.show()"
      ],
      "execution_count": 238,
      "outputs": [
        {
          "output_type": "display_data",
          "data": {
            "image/png": "[encoded data removed]",
            "text/plain": [
              "<Figure size 864x432 with 1 Axes>"
            ]
          },
          "metadata": {
            "needs_background": "light"
          }
        }
      ]
    },
    {
      "cell_type": "code",
      "metadata": {
        "colab": {
          "base_uri": "https://localhost:8080/",
          "height": 206
        },
        "id": "LdmkNZe2y0At",
        "outputId": "8a1bd6ee-e2ae-471e-d65f-10f6cbad0938"
      },
      "source": [
        "Gini_merge = pd.merge(BR,mundo, on=['year'])\n",
        "Gini_merge.head()"
      ],
      "execution_count": 239,
      "outputs": [
        {
          "output_type": "execute_result",
          "data": {
            "text/html": [
              "<div>\n",
              "<style scoped>\n",
              "    .dataframe tbody tr th:only-of-type {\n",
              "        vertical-align: middle;\n",
              "    }\n",
              "\n",
              "    .dataframe tbody tr th {\n",
              "        vertical-align: top;\n",
              "    }\n",
              "\n",
              "    .dataframe thead th {\n",
              "        text-align: right;\n",
              "    }\n",
              "</style>\n",
              "<table border=\"1\" class=\"dataframe\">\n",
              "  <thead>\n",
              "    <tr style=\"text-align: right;\">\n",
              "      <th></th>\n",
              "      <th>country</th>\n",
              "      <th>year</th>\n",
              "      <th>gini</th>\n",
              "      <th>giniM</th>\n",
              "    </tr>\n",
              "  </thead>\n",
              "  <tbody>\n",
              "    <tr>\n",
              "      <th>0</th>\n",
              "      <td>Brazil</td>\n",
              "      <td>1966</td>\n",
              "      <td>NaN</td>\n",
              "      <td>34.0</td>\n",
              "    </tr>\n",
              "    <tr>\n",
              "      <th>1</th>\n",
              "      <td>Brazil</td>\n",
              "      <td>1968</td>\n",
              "      <td>NaN</td>\n",
              "      <td>33.7</td>\n",
              "    </tr>\n",
              "    <tr>\n",
              "      <th>2</th>\n",
              "      <td>Brazil</td>\n",
              "      <td>1969</td>\n",
              "      <td>NaN</td>\n",
              "      <td>NaN</td>\n",
              "    </tr>\n",
              "    <tr>\n",
              "      <th>3</th>\n",
              "      <td>Brazil</td>\n",
              "      <td>1970</td>\n",
              "      <td>NaN</td>\n",
              "      <td>37.3</td>\n",
              "    </tr>\n",
              "    <tr>\n",
              "      <th>4</th>\n",
              "      <td>Brazil</td>\n",
              "      <td>1971</td>\n",
              "      <td>NaN</td>\n",
              "      <td>NaN</td>\n",
              "    </tr>\n",
              "  </tbody>\n",
              "</table>\n",
              "</div>"
            ],
            "text/plain": [
              "  country  year  gini  giniM\n",
              "0  Brazil  1966   NaN   34.0\n",
              "1  Brazil  1968   NaN   33.7\n",
              "2  Brazil  1969   NaN    NaN\n",
              "3  Brazil  1970   NaN   37.3\n",
              "4  Brazil  1971   NaN    NaN"
            ]
          },
          "metadata": {},
          "execution_count": 239
        }
      ]
    },
    {
      "cell_type": "code",
      "metadata": {
        "colab": {
          "base_uri": "https://localhost:8080/",
          "height": 421
        },
        "id": "wYLOZxXhIm06",
        "outputId": "7c2bb5b0-bcac-4f11-c8c9-2f06d715e0fb"
      },
      "source": [
        "# comparando dados Gini Brasil x Mundo\n",
        "\n",
        "Gini_not_null = Gini_merge[ ~ np.isnan( Gini_merge.gini )]\n",
        "Gini_not_null = Gini_merge[ ~ np.isnan( Gini_merge.giniM )]\n",
        "\n",
        "plt.figure(figsize=(12,6))\n",
        "\n",
        "sns.lineplot(x=Gini_not_null.year, y=np.log( Gini_not_null.gini ), label='Brasil')\n",
        "sns.lineplot(x=Gini_not_null.year, y=np.log( Gini_not_null.giniM ), label='Mundo')\n",
        "\n",
        "plt.title('Gini: Brasil X Mundo (Log Scale)', fontsize=14)\n",
        "plt.legend()\n",
        "plt.xticks(rotation=90)\n",
        "plt.show()\n",
        "\n"
      ],
      "execution_count": 240,
      "outputs": [
        {
          "output_type": "display_data",
          "data": {
            "image/png": "[encoded data removed]",
            "text/plain": [
              "<Figure size 864x432 with 1 Axes>"
            ]
          },
          "metadata": {
            "needs_background": "light"
          }
        }
      ]
    },
    {
      "cell_type": "code",
      "metadata": {
        "id": "ZGJ3SA6UeC1m"
      },
      "source": [
        "# tratando valores vazios\n",
        "\n",
        "#dfGini2 = dfGini_not_null.sort_values(['country', 'ano'])"
      ],
      "execution_count": 242,
      "outputs": []
    },
    {
      "cell_type": "code",
      "metadata": {
        "id": "Y_EGDrJCRKcY"
      },
      "source": [
        "# resetando o index\n",
        "\n",
        "# dfGini = dfGini.reset_index()\n",
        "# dfGini.head()"
      ],
      "execution_count": 243,
      "outputs": []
    },
    {
      "cell_type": "code",
      "metadata": {
        "colab": {
          "base_uri": "https://localhost:8080/",
          "height": 719
        },
        "id": "d4CtaTiBNZR6",
        "outputId": "e12955ba-55e3-4e6b-f728-766518dc68aa"
      },
      "source": [
        "# Este não funcionou:\n",
        "plt.figure(figsize=(24,12))\n",
        "plt.subplot(1,2,1)\n",
        "plt.plot(Gini_not_null[\"year\"],Gini_not_null[\"gini\"],label=\"Brasil\",marker=\"o\", markersize=4)\n",
        "plt.plot(Gini_not_null[\"year\"],Gini_not_null[\"giniM\"],label=\"Mundo\",marker=\"o\", markersize=4)\n",
        "plt.ylabel(\"gini\")\n",
        "plt.xticks(rotation=90)\n",
        "plt.show()"
      ],
      "execution_count": 244,
      "outputs": [
        {
          "output_type": "display_data",
          "data": {
            "image/png": "[encoded data removed]",
            "text/plain": [
              "<Figure size 1728x864 with 1 Axes>"
            ]
          },
          "metadata": {
            "needs_background": "light"
          }
        }
      ]
    },
    {
      "cell_type": "code",
      "metadata": {
        "colab": {
          "base_uri": "https://localhost:8080/",
          "height": 622
        },
        "id": "Ts1qPm-Bw_cx",
        "outputId": "4ec9e033-9ae5-4b67-8995-57c9c8717e9d"
      },
      "source": [
        "Gini_not_null.year = pd.to_datetime(Gini_not_null.year, format='%Y',errors='coerce')\n",
        "\n",
        "fig, ax = plt.subplots(figsize=(30,15))\n",
        "ax.plot(Gini_not_null.year,  Gini_not_null.gini, label='País')\n",
        "ax.plot(Gini_not_null.year,  Gini_not_null.giniM, label='País')\n",
        "\n",
        "ax.set_title('Pobreza conforme país', fontsize=14, weight='bold')\n",
        "ax.set_xlabel(\"Ano\")\n",
        "ax.set_ylabel(\"País\")\n",
        "\n",
        "ax.legend(fontsize=12)\n",
        "import matplotlib.ticker as ticker\n",
        "\n",
        "ax.xaxis.set_major_locator(ticker.MaxNLocator(5))\n",
        "ax.set_xticklabels(Gini_not_null.year)\n",
        "plt.show()"
      ],
      "execution_count": 245,
      "outputs": [
        {
          "output_type": "stream",
          "name": "stderr",
          "text": [
            "/usr/local/lib/python3.7/dist-packages/pandas/core/generic.py:5170: SettingWithCopyWarning: \n",
            "A value is trying to be set on a copy of a slice from a DataFrame.\n",
            "Try using .loc[row_indexer,col_indexer] = value instead\n",
            "\n",
            "See the caveats in the documentation: https://pandas.pydata.org/pandas-docs/stable/user_guide/indexing.html#returning-a-view-versus-a-copy\n",
            "  self[name] = value\n"
          ]
        },
        {
          "output_type": "display_data",
          "data": {
            "image/png": "[encoded data removed]",
            "text/plain": [
              "<Figure size 2160x1080 with 1 Axes>"
            ]
          },
          "metadata": {
            "needs_background": "light"
          }
        }
      ]
    },
    {
      "cell_type": "code",
      "metadata": {
        "colab": {
          "base_uri": "https://localhost:8080/",
          "height": 295
        },
        "id": "TSMw07HFNOjg",
        "outputId": "8848aa92-37a9-43a4-cbc2-76b1ced92999"
      },
      "source": [
        "# Mostra a densidade dos dados conforme o período:\n",
        "BR.year = pd.to_datetime(BR.year, format='%Y',errors='coerce')\n",
        "\n",
        "plt.figure(figsize=(12,4))\n",
        "sns.kdeplot(BR[BR.country == 'Brazil'].year,label='Brasil')\n",
        "# sns.kdeplot(dfGini_not_null.ano,label='Mundo')\n",
        "plt.title('Gini Brasil')\n",
        "plt.legend()\n",
        "plt.show()\n",
        "\n",
        "# Os dados se concentram entre 1980 e 2010.\n"
      ],
      "execution_count": 246,
      "outputs": [
        {
          "output_type": "display_data",
          "data": {
            "image/png": "[encoded data removed]",
            "text/plain": [
              "<Figure size 864x288 with 1 Axes>"
            ]
          },
          "metadata": {
            "needs_background": "light"
          }
        }
      ]
    },
    {
      "cell_type": "code",
      "metadata": {
        "colab": {
          "base_uri": "https://localhost:8080/",
          "height": 453
        },
        "id": "qLTdVaPIXkZ3",
        "outputId": "2254fd37-cb79-4256-a62b-c22a62036f09"
      },
      "source": [
        "# Verificando a variação do Gini entre 1980 e 2018:\n",
        "# Gini, quanto menor, melhor:\n",
        "# É possível observar uma piora entre 1980 e 1988, melhora entre 1988 e 1991, piora em 1992 e uma melhora entre 1993 e 2014.\n",
        "# A melhora de 20 anos é interrompida e tem início de piora em 2015.\n",
        "\n",
        "plt.figure(figsize=(12,4))\n",
        "sns.barplot(x=Gini_not_null.year, y=Gini_not_null.gini)\n",
        "plt.title('Gini - Brasil')\n",
        "plt.xticks(rotation=90)\n",
        "plt.show()"
      ],
      "execution_count": 247,
      "outputs": [
        {
          "output_type": "display_data",
          "data": {
            "image/png": "[encoded data removed]",
            "text/plain": [
              "<Figure size 864x288 with 1 Axes>"
            ]
          },
          "metadata": {
            "needs_background": "light"
          }
        }
      ]
    },
    {
      "cell_type": "code",
      "metadata": {
        "colab": {
          "base_uri": "https://localhost:8080/",
          "height": 311
        },
        "id": "m5mMgGispyue",
        "outputId": "2c503be6-0918-453b-8b44-5808e472d6de"
      },
      "source": [
        "# Gerando gráfico de barras Pobreza Rural no Brasil. \n",
        "# É possível observar queda na pobreza rural entre 1997 e 2002. Há poucos dados para maiores observações. \n",
        "\n",
        "plt.figure(figsize=(12,4))\n",
        "sns.barplot(x=BR_not_null.year, y=BR_not_null.rural)\n",
        "plt.title('Pobreza Rural - Brasil')\n",
        "plt.hlines(BR_not_null.rural.mean(),-0.5,7.5,color='r', linestyles=':')\n",
        "plt.text(0, BR_not_null.rural.mean(),'Média de valor')\n",
        "plt.xticks(rotation=90)\n",
        "plt.show()"
      ],
      "execution_count": 249,
      "outputs": [
        {
          "output_type": "display_data",
          "data": {
            "image/png": "[encoded data removed]",
            "text/plain": [
              "<Figure size 864x288 with 1 Axes>"
            ]
          },
          "metadata": {
            "needs_background": "light"
          }
        }
      ]
    },
    {
      "cell_type": "code",
      "metadata": {
        "colab": {
          "base_uri": "https://localhost:8080/",
          "height": 311
        },
        "id": "YmjCMfhxEEac",
        "outputId": "11e0964d-e66f-4c74-f339-7234597150ee"
      },
      "source": [
        "# Gerando gráfico de barras Pobreza no Brasil. \n",
        "# É possível observar aumento na pobreza urbana entre 1997 e 2002.\n",
        "\n",
        "plt.figure(figsize=(12,4))\n",
        "sns.barplot(x=BR_not_null.year, y=BR_not_null.urbano)\n",
        "plt.title('Pobreza Urbana - Brasil')\n",
        "plt.hlines(BR_not_null.urbano.mean(),-0.5,7.5,color='r', linestyles=':')\n",
        "plt.text(0, BR_not_null.urbano.mean(),'Média de valor')\n",
        "plt.xticks(rotation=90)\n",
        "plt.show()"
      ],
      "execution_count": 250,
      "outputs": [
        {
          "output_type": "display_data",
          "data": {
            "image/png": "[encoded data removed]",
            "text/plain": [
              "<Figure size 864x288 with 1 Axes>"
            ]
          },
          "metadata": {
            "needs_background": "light"
          }
        }
      ]
    },
    {
      "cell_type": "code",
      "metadata": {
        "colab": {
          "base_uri": "https://localhost:8080/",
          "height": 568
        },
        "id": "7pY-ZJC8Qo-b",
        "outputId": "aa97b5ce-7b89-4042-c7b5-753d2191f62f"
      },
      "source": [
        "plt.figure(figsize=(28,16))\n",
        "\n",
        "\n",
        "matriz = BR_not_null[[\t'urbano',\t\t'rural' ]].corr()\n",
        "\n",
        "plt.subplot(1,2,1)\n",
        "plt.imshow(matriz, cmap='jet_r', alpha=0.6)\n",
        "\n",
        "plt.xticks(np.arange(len( matriz.columns)), matriz.columns.to_list(), rotation=90)\n",
        "plt.yticks(np.arange(len( matriz.columns)), matriz.columns.to_list())\n",
        "\n",
        "cbar = plt.colorbar()\n",
        "cbar.set_label('$\\\\bf{Correlação}$')\n",
        "\n",
        "plt.title('Matriz de Correlação', fontsize=14, weight='bold')\n",
        "\n",
        "plt.subplot(1,2,2)\n",
        "sns.heatmap(matriz, cmap='RdBu', square=True, alpha=0.6) \n",
        "\n",
        "plt.title('Matriz de Correlação', fontsize=14, weight='bold')\n",
        "\n",
        "plt.tight_layout()\n",
        "plt.show()"
      ],
      "execution_count": 251,
      "outputs": [
        {
          "output_type": "display_data",
          "data": {
            "image/png": "[encoded data removed]",
            "text/plain": [
              "<Figure size 2016x1152 with 4 Axes>"
            ]
          },
          "metadata": {
            "needs_background": "light"
          }
        }
      ]
    },
    {
      "cell_type": "code",
      "metadata": {
        "colab": {
          "base_uri": "https://localhost:8080/",
          "height": 206
        },
        "id": "7WwATSNiH8D0",
        "outputId": "b1fe77bc-1f96-4674-f337-a2e88809fa87"
      },
      "source": [
        "RuralMundo = pd.melt(dfRural, id_vars=['country'])\n",
        "RuralMundo = RuralMundo.rename(columns={'variable':'year','value':'ruralM'})\n",
        "RuralMundo = RuralMundo.groupby('year').agg({'ruralM':np.median}).reset_index()\n",
        "RuralMundo_not_null = RuralMundo[ ~ np.isnan( RuralMundo.ruralM )]\n",
        "RuralMundo_not_null.head()"
      ],
      "execution_count": 252,
      "outputs": [
        {
          "output_type": "execute_result",
          "data": {
            "text/html": [
              "<div>\n",
              "<style scoped>\n",
              "    .dataframe tbody tr th:only-of-type {\n",
              "        vertical-align: middle;\n",
              "    }\n",
              "\n",
              "    .dataframe tbody tr th {\n",
              "        vertical-align: top;\n",
              "    }\n",
              "\n",
              "    .dataframe thead th {\n",
              "        text-align: right;\n",
              "    }\n",
              "</style>\n",
              "<table border=\"1\" class=\"dataframe\">\n",
              "  <thead>\n",
              "    <tr style=\"text-align: right;\">\n",
              "      <th></th>\n",
              "      <th>year</th>\n",
              "      <th>ruralM</th>\n",
              "    </tr>\n",
              "  </thead>\n",
              "  <tbody>\n",
              "    <tr>\n",
              "      <th>0</th>\n",
              "      <td>1984</td>\n",
              "      <td>49.5</td>\n",
              "    </tr>\n",
              "    <tr>\n",
              "      <th>1</th>\n",
              "      <td>1987</td>\n",
              "      <td>16.6</td>\n",
              "    </tr>\n",
              "    <tr>\n",
              "      <th>2</th>\n",
              "      <td>1988</td>\n",
              "      <td>71.9</td>\n",
              "    </tr>\n",
              "    <tr>\n",
              "      <th>3</th>\n",
              "      <td>1989</td>\n",
              "      <td>28.5</td>\n",
              "    </tr>\n",
              "    <tr>\n",
              "      <th>4</th>\n",
              "      <td>1990</td>\n",
              "      <td>28.9</td>\n",
              "    </tr>\n",
              "  </tbody>\n",
              "</table>\n",
              "</div>"
            ],
            "text/plain": [
              "   year  ruralM\n",
              "0  1984    49.5\n",
              "1  1987    16.6\n",
              "2  1988    71.9\n",
              "3  1989    28.5\n",
              "4  1990    28.9"
            ]
          },
          "metadata": {},
          "execution_count": 252
        }
      ]
    },
    {
      "cell_type": "code",
      "metadata": {
        "colab": {
          "base_uri": "https://localhost:8080/",
          "height": 112
        },
        "id": "FV7fOb6VMs0n",
        "outputId": "3be45d68-b07c-4473-fec4-dbe792fad403"
      },
      "source": [
        "# BR_merge.year = BR_merge.year.astype(str)\n",
        "# RuralMundo_not_null.year = RuralMundo_not_null.year.astype(str)\n",
        "Mundo_merge = pd.merge(BR_not_null, RuralMundo_not_null, on=['year'])\n",
        "Mundo_merge.head()"
      ],
      "execution_count": 253,
      "outputs": [
        {
          "output_type": "execute_result",
          "data": {
            "text/html": [
              "<div>\n",
              "<style scoped>\n",
              "    .dataframe tbody tr th:only-of-type {\n",
              "        vertical-align: middle;\n",
              "    }\n",
              "\n",
              "    .dataframe tbody tr th {\n",
              "        vertical-align: top;\n",
              "    }\n",
              "\n",
              "    .dataframe thead th {\n",
              "        text-align: right;\n",
              "    }\n",
              "</style>\n",
              "<table border=\"1\" class=\"dataframe\">\n",
              "  <thead>\n",
              "    <tr style=\"text-align: right;\">\n",
              "      <th></th>\n",
              "      <th>country</th>\n",
              "      <th>year</th>\n",
              "      <th>gini</th>\n",
              "      <th>rural</th>\n",
              "      <th>urbano</th>\n",
              "      <th>ruralM</th>\n",
              "    </tr>\n",
              "  </thead>\n",
              "  <tbody>\n",
              "    <tr>\n",
              "      <th>0</th>\n",
              "      <td>Brazil</td>\n",
              "      <td>1997</td>\n",
              "      <td>0.941548</td>\n",
              "      <td>1.000000</td>\n",
              "      <td>0.84</td>\n",
              "      <td>61.05</td>\n",
              "    </tr>\n",
              "    <tr>\n",
              "      <th>1</th>\n",
              "      <td>Brazil</td>\n",
              "      <td>2002</td>\n",
              "      <td>0.909953</td>\n",
              "      <td>0.797665</td>\n",
              "      <td>1.00</td>\n",
              "      <td>52.40</td>\n",
              "    </tr>\n",
              "  </tbody>\n",
              "</table>\n",
              "</div>"
            ],
            "text/plain": [
              "  country  year      gini     rural  urbano  ruralM\n",
              "0  Brazil  1997  0.941548  1.000000    0.84   61.05\n",
              "1  Brazil  2002  0.909953  0.797665    1.00   52.40"
            ]
          },
          "metadata": {},
          "execution_count": 253
        }
      ]
    },
    {
      "cell_type": "code",
      "metadata": {
        "colab": {
          "base_uri": "https://localhost:8080/",
          "height": 206
        },
        "id": "ZDzZtBv8Oxyg",
        "outputId": "8278215e-855f-4485-e916-14457905e682"
      },
      "source": [
        "UrbanoMundo = pd.melt(dfUrbano, id_vars=['country'])\n",
        "UrbanoMundo = UrbanoMundo.rename(columns={'variable':'year','value':'urbanoM'})\n",
        "UrbanoMundo = UrbanoMundo.groupby('year').agg({'urbanoM':np.median}).reset_index()\n",
        "UrbanoMundo_not_null = UrbanoMundo[ ~ np.isnan( UrbanoMundo.urbanoM )]\n",
        "UrbanoMundo_not_null.head()"
      ],
      "execution_count": 254,
      "outputs": [
        {
          "output_type": "execute_result",
          "data": {
            "text/html": [
              "<div>\n",
              "<style scoped>\n",
              "    .dataframe tbody tr th:only-of-type {\n",
              "        vertical-align: middle;\n",
              "    }\n",
              "\n",
              "    .dataframe tbody tr th {\n",
              "        vertical-align: top;\n",
              "    }\n",
              "\n",
              "    .dataframe thead th {\n",
              "        text-align: right;\n",
              "    }\n",
              "</style>\n",
              "<table border=\"1\" class=\"dataframe\">\n",
              "  <thead>\n",
              "    <tr style=\"text-align: right;\">\n",
              "      <th></th>\n",
              "      <th>year</th>\n",
              "      <th>urbanoM</th>\n",
              "    </tr>\n",
              "  </thead>\n",
              "  <tbody>\n",
              "    <tr>\n",
              "      <th>0</th>\n",
              "      <td>1984</td>\n",
              "      <td>31.7</td>\n",
              "    </tr>\n",
              "    <tr>\n",
              "      <th>1</th>\n",
              "      <td>1987</td>\n",
              "      <td>7.3</td>\n",
              "    </tr>\n",
              "    <tr>\n",
              "      <th>2</th>\n",
              "      <td>1988</td>\n",
              "      <td>33.7</td>\n",
              "    </tr>\n",
              "    <tr>\n",
              "      <th>3</th>\n",
              "      <td>1989</td>\n",
              "      <td>19.7</td>\n",
              "    </tr>\n",
              "    <tr>\n",
              "      <th>4</th>\n",
              "      <td>1990</td>\n",
              "      <td>11.3</td>\n",
              "    </tr>\n",
              "  </tbody>\n",
              "</table>\n",
              "</div>"
            ],
            "text/plain": [
              "   year  urbanoM\n",
              "0  1984     31.7\n",
              "1  1987      7.3\n",
              "2  1988     33.7\n",
              "3  1989     19.7\n",
              "4  1990     11.3"
            ]
          },
          "metadata": {},
          "execution_count": 254
        }
      ]
    },
    {
      "cell_type": "code",
      "metadata": {
        "colab": {
          "base_uri": "https://localhost:8080/",
          "height": 112
        },
        "id": "zKlapBTRPWKI",
        "outputId": "60c3ddef-d455-44cf-878e-83bfdea1c5d3"
      },
      "source": [
        "# BR_merge.year = BR_merge.year.astype(str)\n",
        "# RuralMundo_not_null.year = RuralMundo_not_null.year.astype(str)\n",
        "Mundo_merge = pd.merge(Mundo_merge, UrbanoMundo_not_null, on=['year'])\n",
        "Mundo_merge.head()"
      ],
      "execution_count": 255,
      "outputs": [
        {
          "output_type": "execute_result",
          "data": {
            "text/html": [
              "<div>\n",
              "<style scoped>\n",
              "    .dataframe tbody tr th:only-of-type {\n",
              "        vertical-align: middle;\n",
              "    }\n",
              "\n",
              "    .dataframe tbody tr th {\n",
              "        vertical-align: top;\n",
              "    }\n",
              "\n",
              "    .dataframe thead th {\n",
              "        text-align: right;\n",
              "    }\n",
              "</style>\n",
              "<table border=\"1\" class=\"dataframe\">\n",
              "  <thead>\n",
              "    <tr style=\"text-align: right;\">\n",
              "      <th></th>\n",
              "      <th>country</th>\n",
              "      <th>year</th>\n",
              "      <th>gini</th>\n",
              "      <th>rural</th>\n",
              "      <th>urbano</th>\n",
              "      <th>ruralM</th>\n",
              "      <th>urbanoM</th>\n",
              "    </tr>\n",
              "  </thead>\n",
              "  <tbody>\n",
              "    <tr>\n",
              "      <th>0</th>\n",
              "      <td>Brazil</td>\n",
              "      <td>1997</td>\n",
              "      <td>0.941548</td>\n",
              "      <td>1.000000</td>\n",
              "      <td>0.84</td>\n",
              "      <td>61.05</td>\n",
              "      <td>30.05</td>\n",
              "    </tr>\n",
              "    <tr>\n",
              "      <th>1</th>\n",
              "      <td>Brazil</td>\n",
              "      <td>2002</td>\n",
              "      <td>0.909953</td>\n",
              "      <td>0.797665</td>\n",
              "      <td>1.00</td>\n",
              "      <td>52.40</td>\n",
              "      <td>35.70</td>\n",
              "    </tr>\n",
              "  </tbody>\n",
              "</table>\n",
              "</div>"
            ],
            "text/plain": [
              "  country  year      gini     rural  urbano  ruralM  urbanoM\n",
              "0  Brazil  1997  0.941548  1.000000    0.84   61.05    30.05\n",
              "1  Brazil  2002  0.909953  0.797665    1.00   52.40    35.70"
            ]
          },
          "metadata": {},
          "execution_count": 255
        }
      ]
    },
    {
      "cell_type": "code",
      "metadata": {
        "colab": {
          "base_uri": "https://localhost:8080/",
          "height": 112
        },
        "id": "IlPWqf10ORsN",
        "outputId": "898635a2-f39d-4e30-dc47-3dfe8bf9120d"
      },
      "source": [
        "# Normalizando dados\n",
        "\n",
        "for c in Mundo_merge[['gini','rural','urbano','ruralM','urbanoM']]:\n",
        "  Mundo_merge[c] = Mundo_merge[c] / Mundo_merge[c].max()\n",
        "Mundo_merge.head()"
      ],
      "execution_count": 256,
      "outputs": [
        {
          "output_type": "execute_result",
          "data": {
            "text/html": [
              "<div>\n",
              "<style scoped>\n",
              "    .dataframe tbody tr th:only-of-type {\n",
              "        vertical-align: middle;\n",
              "    }\n",
              "\n",
              "    .dataframe tbody tr th {\n",
              "        vertical-align: top;\n",
              "    }\n",
              "\n",
              "    .dataframe thead th {\n",
              "        text-align: right;\n",
              "    }\n",
              "</style>\n",
              "<table border=\"1\" class=\"dataframe\">\n",
              "  <thead>\n",
              "    <tr style=\"text-align: right;\">\n",
              "      <th></th>\n",
              "      <th>country</th>\n",
              "      <th>year</th>\n",
              "      <th>gini</th>\n",
              "      <th>rural</th>\n",
              "      <th>urbano</th>\n",
              "      <th>ruralM</th>\n",
              "      <th>urbanoM</th>\n",
              "    </tr>\n",
              "  </thead>\n",
              "  <tbody>\n",
              "    <tr>\n",
              "      <th>0</th>\n",
              "      <td>Brazil</td>\n",
              "      <td>1997</td>\n",
              "      <td>1.000000</td>\n",
              "      <td>1.000000</td>\n",
              "      <td>0.84</td>\n",
              "      <td>1.000000</td>\n",
              "      <td>0.841737</td>\n",
              "    </tr>\n",
              "    <tr>\n",
              "      <th>1</th>\n",
              "      <td>Brazil</td>\n",
              "      <td>2002</td>\n",
              "      <td>0.966443</td>\n",
              "      <td>0.797665</td>\n",
              "      <td>1.00</td>\n",
              "      <td>0.858313</td>\n",
              "      <td>1.000000</td>\n",
              "    </tr>\n",
              "  </tbody>\n",
              "</table>\n",
              "</div>"
            ],
            "text/plain": [
              "  country  year      gini     rural  urbano    ruralM   urbanoM\n",
              "0  Brazil  1997  1.000000  1.000000    0.84  1.000000  0.841737\n",
              "1  Brazil  2002  0.966443  0.797665    1.00  0.858313  1.000000"
            ]
          },
          "metadata": {},
          "execution_count": 256
        }
      ]
    },
    {
      "cell_type": "code",
      "metadata": {
        "colab": {
          "base_uri": "https://localhost:8080/",
          "height": 333
        },
        "id": "evocDoAlkZhl",
        "outputId": "e91a7f71-e15d-4648-a1e6-b013e006ba6d"
      },
      "source": [
        "# Gerando gráfico de Pobreza Rural\n",
        "\n",
        "plt.figure(figsize=(12,4))\n",
        "plt.boxplot(Mundo_merge.rural,positions=[1],showfliers=False)\n",
        "plt.boxplot(Mundo_merge.ruralM,positions=[2],showfliers=False)\n",
        "plt.title('Pobreza Rural')\n",
        "plt.xticks(ticks=[1,2], labels=['Brasil','Mundo'])"
      ],
      "execution_count": 257,
      "outputs": [
        {
          "output_type": "execute_result",
          "data": {
            "text/plain": [
              "([<matplotlib.axis.XTick at 0x7f9da73fa2d0>,\n",
              "  <matplotlib.axis.XTick at 0x7f9da73fa490>],\n",
              " [Text(0, 0, 'Brasil'), Text(0, 0, 'Mundo')])"
            ]
          },
          "metadata": {},
          "execution_count": 257
        },
        {
          "output_type": "display_data",
          "data": {
            "image/png": "[encoded data removed]",
            "text/plain": [
              "<Figure size 864x288 with 1 Axes>"
            ]
          },
          "metadata": {
            "needs_background": "light"
          }
        }
      ]
    },
    {
      "cell_type": "code",
      "metadata": {
        "id": "_OgRWFmtK1KJ"
      },
      "source": [
        "# Como o gráfico boxplot é possível observar que a média da pobreza rural no Brasil está abaixo\n",
        "# da média mundial."
      ],
      "execution_count": 258,
      "outputs": []
    },
    {
      "cell_type": "code",
      "metadata": {
        "colab": {
          "base_uri": "https://localhost:8080/",
          "height": 298
        },
        "id": "CyXneD7lmQLb",
        "outputId": "630ab45c-0a98-45d7-ff3f-677a78bf92b1"
      },
      "source": [
        "plt.figure(figsize=(12,4))\n",
        "plt.plot(Mundo_merge.year, Mundo_merge.rural)\n",
        "plt.title('Pobreza Rural - Brasil')\n",
        "\n",
        "# Gráfico mostra uma situação de queda na pobreza rural"
      ],
      "execution_count": 259,
      "outputs": [
        {
          "output_type": "execute_result",
          "data": {
            "text/plain": [
              "Text(0.5, 1.0, 'Pobreza Rural - Brasil')"
            ]
          },
          "metadata": {},
          "execution_count": 259
        },
        {
          "output_type": "display_data",
          "data": {
            "image/png": "[encoded data removed]",
            "text/plain": [
              "<Figure size 864x288 with 1 Axes>"
            ]
          },
          "metadata": {
            "needs_background": "light"
          }
        }
      ]
    },
    {
      "cell_type": "code",
      "metadata": {
        "colab": {
          "base_uri": "https://localhost:8080/",
          "height": 298
        },
        "id": "GkjYcmjHSaUC",
        "outputId": "982bc808-65c0-46e3-f2d6-b83dc9139491"
      },
      "source": [
        "# Gráfico de barras Pobreza Rural no Brasil\n",
        "\n",
        "plt.figure(figsize=(12,4))\n",
        "plt.plot(Mundo_merge.year, Mundo_merge.urbano)\n",
        "plt.title('Pobreza Rural - Brasil')\n",
        "\n",
        "# É possível observar o aumento da pobreza urbana no Brasil entre 1997 e 2002."
      ],
      "execution_count": 260,
      "outputs": [
        {
          "output_type": "execute_result",
          "data": {
            "text/plain": [
              "Text(0.5, 1.0, 'Pobreza Rural - Brasil')"
            ]
          },
          "metadata": {},
          "execution_count": 260
        },
        {
          "output_type": "display_data",
          "data": {
            "image/png": "[encoded data removed]",
            "text/plain": [
              "<Figure size 864x288 with 1 Axes>"
            ]
          },
          "metadata": {
            "needs_background": "light"
          }
        }
      ]
    },
    {
      "cell_type": "code",
      "metadata": {
        "colab": {
          "base_uri": "https://localhost:8080/",
          "height": 333
        },
        "id": "RIe7spgtxtS7",
        "outputId": "b1978bc8-2b9c-4161-81e1-25fe35651819"
      },
      "source": [
        "# Gráfico boxplot Pobreza Urbana Brasil e no Mundo\n",
        "# Podemos observar que a pobreza urbana no Brasil é pouco menor que a média mundial.\n",
        "\n",
        "plt.figure(figsize=(12,4))\n",
        "plt.boxplot(Mundo_merge.urbano,positions=[1],showfliers=False)\n",
        "plt.boxplot(Mundo_merge.urbanoM,positions=[2],showfliers=False)\n",
        "plt.title('Pobreza Urbana')\n",
        "plt.xticks(ticks=[1,2], labels=['Brasil','Mundo'])"
      ],
      "execution_count": 261,
      "outputs": [
        {
          "output_type": "execute_result",
          "data": {
            "text/plain": [
              "([<matplotlib.axis.XTick at 0x7f9da76307d0>,\n",
              "  <matplotlib.axis.XTick at 0x7f9da76bed90>],\n",
              " [Text(0, 0, 'Brasil'), Text(0, 0, 'Mundo')])"
            ]
          },
          "metadata": {},
          "execution_count": 261
        },
        {
          "output_type": "display_data",
          "data": {
            "image/png": "[encoded data removed]",
            "text/plain": [
              "<Figure size 864x288 with 1 Axes>"
            ]
          },
          "metadata": {
            "needs_background": "light"
          }
        }
      ]
    },
    {
      "cell_type": "markdown",
      "metadata": {
        "id": "MXTADJ11ySD1"
      },
      "source": [
        "### **Realizando a comparação**"
      ]
    },
    {
      "cell_type": "code",
      "metadata": {
        "colab": {
          "base_uri": "https://localhost:8080/",
          "height": 320
        },
        "id": "7lwX-m-YyVn7",
        "outputId": "52c37bb2-eea9-4a88-ac03-864d4741ced4"
      },
      "source": [
        "# Grafico de linha comparativo entre Pobreza Rural e Urbana no mundo\n",
        "# O movimento é semelhante no Brasil, com aumento da probreza urbana e diminuição da rural.\n",
        "\n",
        "plt.figure(figsize=(12,5))\n",
        "\n",
        "plt.subplot(1,2,1)\n",
        "plt.plot(Mundo_merge[\"year\"],Mundo_merge[\"urbanoM\"],label=\"Ano\",marker=\"o\", markersize=4)\n",
        "plt.ylabel(\"Urbano\")\n",
        "\n",
        "plt.subplot(1,2,2)\n",
        "plt.plot(Mundo_merge[\"year\"],Mundo_merge[\"ruralM\"],label=\"Ano\",color=\"green\",marker=\"o\", markersize=4)\n",
        "plt.ylabel(\"Rural\")\n",
        "\n",
        "plt.show()"
      ],
      "execution_count": 262,
      "outputs": [
        {
          "output_type": "display_data",
          "data": {
            "image/png": "[encoded data removed]",
            "text/plain": [
              "<Figure size 864x360 with 2 Axes>"
            ]
          },
          "metadata": {
            "needs_background": "light"
          }
        }
      ]
    },
    {
      "cell_type": "code",
      "metadata": {
        "colab": {
          "base_uri": "https://localhost:8080/",
          "height": 365
        },
        "id": "MqPWdqM-y6Xo",
        "outputId": "d238d260-ca90-421f-a42d-1e9460f8311b"
      },
      "source": [
        "# Gráfico comparativo entre pobreza urbana x pobreza rural no Brasil\n",
        "# É possivel obsevar aumento da pobreza urbana e redução da pobreza rural no Brasil. Pelo campo valor é possivel observar que a pobreza rural é muito maior.\n",
        "\n",
        "plt.figure(figsize=(12,5))\n",
        "\n",
        "plt.subplot(1,2,1)\n",
        "sns.barplot(x=Mundo_merge.year, y=Mundo_merge.urbano)\n",
        "plt.title('Pobreza Urbana - Brasil')\n",
        "plt.xticks(rotation=90)\n",
        "\n",
        "\n",
        "plt.subplot(1,2,2)\n",
        "sns.barplot(x=Mundo_merge.year, y=Mundo_merge.rural)\n",
        "plt.title('Pobreza Rural - Brasil')\n",
        "plt.xticks(rotation=90)\n",
        "\n",
        "plt.show()"
      ],
      "execution_count": 263,
      "outputs": [
        {
          "output_type": "display_data",
          "data": {
            "image/png": "[encoded data removed]",
            "text/plain": [
              "<Figure size 864x360 with 2 Axes>"
            ]
          },
          "metadata": {
            "needs_background": "light"
          }
        }
      ]
    }
  ]
}