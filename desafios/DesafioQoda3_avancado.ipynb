{
  "nbformat": 4,
  "nbformat_minor": 0,
  "metadata": {
    "colab": {
      "name": "Fase3.ipynb",
      "provenance": []
    },
    "kernelspec": {
      "name": "python3",
      "display_name": "Python 3"
    }
  },
  "cells": [
    {
      "cell_type": "markdown",
      "metadata": {
        "id": "CYNAmoj4zSXl"
      },
      "source": [
        "Crie um algoritmo em Python que peça uma nota, entre zero e 100. Mostre uma mensagem caso o valor seja inválido e continue pedindo até que o usuário informe um valor válido."
      ]
    },
    {
      "cell_type": "code",
      "metadata": {
        "id": "ViAfpy3GzPN-",
        "colab": {
          "base_uri": "https://localhost:8080/"
        },
        "outputId": "a97816cd-a0ca-4570-c403-72abada0cd66"
      },
      "source": [
        "print('########DIGITE O VALOR DE UMA NOTA DE REAL R$##########')\n",
        "nota = input()\n",
        "while not nota in '2,5,10,20,50,100':\n",
        "    print('valor incorreto tente novamente')\n",
        "    nota = input()  \n",
        "else:\n",
        "  print('Parabéns, valor correto')"
      ],
      "execution_count": null,
      "outputs": [
        {
          "output_type": "stream",
          "name": "stdout",
          "text": [
            "########DIGITE O VALOR DE UMA NOTA DE REAL R$##########\n",
            "3\n",
            "valor incorreto tente novamente\n",
            "4\n",
            "valor incorreto tente novamente\n",
            "5\n",
            "Parabéns, valor correto\n"
          ]
        }
      ]
    },
    {
      "cell_type": "markdown",
      "metadata": {
        "id": "gdMis92izSmQ"
      },
      "source": [
        "Crie um algoritmo em Python que leia um nome de usuário e a sua senha e não aceite a senha igual ao nome do usuário, mostrando uma mensagem de erro e voltando a pedir as informações.<br>"
      ]
    },
    {
      "cell_type": "code",
      "metadata": {
        "id": "BFpWkdCBz_zh",
        "colab": {
          "base_uri": "https://localhost:8080/"
        },
        "outputId": "5d2c6586-be98-41d4-af22-ea272054c298"
      },
      "source": [
        "print('######Faça seu cadastro########')\n",
        "usuario = str(input('Digite o nome do usuário: '))\n",
        "senha = str(input('Digite a senha: '))\n",
        "while senha == usuario:\n",
        "  print('Atenção: Inserir uma senha alfanumérica diferente do usuário')\n",
        "  usuario = str(input('Digite o nome do usuário: '))\n",
        "else:\n",
        "  print('Senha aprovada')"
      ],
      "execution_count": null,
      "outputs": [
        {
          "output_type": "stream",
          "name": "stdout",
          "text": [
            "######Faça seu cadastro########\n",
            "Digite o nome do usuário: rodrigo\n",
            "Digite a senha: rodrigo\n",
            "Atenção: Inserir uma senha alfanumérica diferente do usuário\n",
            "Digite o nome do usuário: ro12345\n",
            "Senha aprovada\n"
          ]
        }
      ]
    },
    {
      "cell_type": "markdown",
      "metadata": {
        "id": "E_0l_Vx6zSo2"
      },
      "source": [
        "Crie um algoritmo em Python que leia e valide as seguintes informações:\n",
        "* Nome: maior que 3 caracteres;\n",
        "* Idade: entre 0 e 150;\n",
        "* Salário: maior que zero;\n",
        "* Sexo: 'f' ou 'm';\n",
        "* Estado Civil: 's', 'c', 'v', 'd';"
      ]
    },
    {
      "cell_type": "code",
      "metadata": {
        "id": "KwJf7XZS0AZW",
        "colab": {
          "base_uri": "https://localhost:8080/"
        },
        "outputId": "b6ef33ed-511c-4b51-e147-99354d696e3e"
      },
      "source": [
        "from threading import Thread\n",
        "\n",
        "def verNome():\n",
        "  nome = ()\n",
        "  while len(nome) <= 3:\n",
        "    print('O nome deve conter mais de 3 caracteres')\n",
        "    nome = str(input('Digite seu nome: '))\n",
        "  else:\n",
        "    print('Nome OK', nome)\n",
        "\n",
        "def verIdade():\n",
        "  idade = int(input('Digite sua idade: '))\n",
        "  while (idade <= 0 or idade > 150):\n",
        "    print('Digitar uma idade válida')\n",
        "    idade = int(input('Digite sua idade: '))\n",
        "  else:\n",
        "    print('Idade OK', idade)\n",
        "\n",
        "def verSalario():\n",
        "  salario = 0\n",
        "  while salario <= 0:\n",
        "    print('O salário deve ser maior que 0')\n",
        "    salario = float(input('Digite seu salário: '))\n",
        "  else:\n",
        "    print('Salário OK', salario)\n",
        "\n",
        "def verSexo():\n",
        "  sexo = str(input('Digite o sexo, sendo f (feminino) ou m (masculino) : '))\n",
        "  while sexo not in 'fm':\n",
        "    print('O sexo deve ser f ou m')\n",
        "    sexo = str(input('Digite o sexo, sendo f (feminino) ou m (masculino) : '))\n",
        "  else:\n",
        "    print('Sexo OK', sexo)\n",
        "\n",
        "def verEstadoCivil():\n",
        "  estadoCivil = str(input('Digite a sigla do estado civil, sendo s (solteiro), c (casado), v (viúvo), d (divorciado): '))\n",
        "  while estadoCivil not in 'scvd':\n",
        "    print('Digitar a sigla correta: s, c, v, d')\n",
        "    estadoCivil = str(input('Digite a sigla do estado civil, sendo s (solteiro), c (casado), v (viúvo), d (divorciado): '))\n",
        "  else:\n",
        "    print('Estado Civil OK', estadoCivil)\n",
        "\n",
        "threadA = Thread(target = verNome)\n",
        "threadB = Thread(target = verIdade)\n",
        "threadC = Thread(target = verSalario)\n",
        "threadD = Thread(target = verSexo)\n",
        "threadE = Thread(target = verEstadoCivil)\n",
        "threadA.run()\n",
        "threadB.run()\n",
        "threadC.run()\n",
        "threadD.run()\n",
        "threadE.run()"
      ],
      "execution_count": 50,
      "outputs": [
        {
          "output_type": "stream",
          "name": "stdout",
          "text": [
            "O nome deve conter mais de 3 caracteres\n",
            "Digite seu nome: rod\n",
            "O nome deve conter mais de 3 caracteres\n",
            "Digite seu nome: rodrigo\n",
            "Nome OK rodrigo\n",
            "Digite sua idade: -10\n",
            "Digitar uma idade válida\n",
            "Digite sua idade: 0\n",
            "Digitar uma idade válida\n",
            "Digite sua idade: 180\n",
            "Digitar uma idade válida\n",
            "Digite sua idade: 10\n",
            "Idade OK 10\n",
            "O salário deve ser maior que 0\n",
            "Digite seu salário: 100\n",
            "Salário OK 100.0\n",
            "Digite o sexo, sendo f (feminino) ou m (masculino) : b\n",
            "O sexo deve ser f ou m\n",
            "Digite o sexo, sendo f (feminino) ou m (masculino) : m\n",
            "Sexo OK m\n",
            "Digite a sigla do estado civil, sendo s (solteiro), c (casado), v (viúvo), d (divorciado): e\n",
            "Digitar a sigla correta: s, c, v, d\n",
            "Digite a sigla do estado civil, sendo s (solteiro), c (casado), v (viúvo), d (divorciado): s\n",
            "Estado Civil OK s\n"
          ]
        }
      ]
    },
    {
      "cell_type": "markdown",
      "metadata": {
        "id": "1i4VCiiczSrL"
      },
      "source": [
        "\n",
        "Supondo que a população de um país A seja da ordem de 80000 habitantes com uma taxa anual de crescimento de 3% e que a população de B seja 200000 habitantes com uma taxa de crescimento de 1.5%.<br><br> Crie um algoritmo em Python que calcule e escreva o número de anos necessários para que a população do país A ultrapasse ou iguale a população do país B, mantidas as taxas de crescimento."
      ]
    },
    {
      "cell_type": "code",
      "metadata": {
        "id": "yoW67hjA0BHy",
        "colab": {
          "base_uri": "https://localhost:8080/"
        },
        "outputId": "429d61a6-02e7-48b6-a1ce-6fba64e74d59"
      },
      "source": [
        "popA = 80000\n",
        "popB = 200000\n",
        "crescA = 3\n",
        "crescB = 1.5\n",
        "\n",
        "n=0\n",
        "while popA <= popB:\n",
        "  popA = popA +((popA*3)/100)\n",
        "  popB = popB +((popB*1.5)/100)\n",
        "  n = n+1\n",
        "else:\n",
        "  print('Serão necessários',n,'anos para que a população do país A ultrapasse B.')"
      ],
      "execution_count": 55,
      "outputs": [
        {
          "output_type": "stream",
          "name": "stdout",
          "text": [
            "Serão necessários 63 anos para que a população do país A ultrapasse B.\n"
          ]
        }
      ]
    },
    {
      "cell_type": "markdown",
      "metadata": {
        "id": "4ep7kezvzStO"
      },
      "source": [
        "Desenvolva um gerador de tabuada, capaz de gerar a tabuada de qualquer número inteiro entre 1 a 10. O usuário deve informar de qual numero ele deseja ver a tabuada. A saída deve ser conforme o exemplo abaixo:\n",
        "Tabuada de 5:<br>\n",
        "5 X 1 = 5<br>\n",
        "5 X 2 = 10<br>\n",
        "...<br>\n",
        "5 X 10 = 50<br>"
      ]
    },
    {
      "cell_type": "code",
      "metadata": {
        "colab": {
          "base_uri": "https://localhost:8080/"
        },
        "id": "1sJAWMOyTRCf",
        "outputId": "f6ba1316-b436-48fb-e613-53a91814ed6a"
      },
      "source": [
        "print('##################### GERADOR DE TABUADA ######################')\n",
        "num = int(input('Digite um número ente 1 e 10: '))\n",
        "n = 0\n",
        "\n",
        "if (num > 0 and num <= 10):\n",
        "  while n < 10:\n",
        "    n = n + 1\n",
        "    print(num,'X ',n,' =',num*n)\n",
        "else:\n",
        "  print('Número incorreto')"
      ],
      "execution_count": 68,
      "outputs": [
        {
          "output_type": "stream",
          "name": "stdout",
          "text": [
            "##################### GERADOR DE TABUADA ######################\n",
            "Digite um número ente 1 e 10: 9\n",
            "9 X  1  = 9\n",
            "9 X  2  = 18\n",
            "9 X  3  = 27\n",
            "9 X  4  = 36\n",
            "9 X  5  = 45\n",
            "9 X  6  = 54\n",
            "9 X  7  = 63\n",
            "9 X  8  = 72\n",
            "9 X  9  = 81\n",
            "9 X  10  = 90\n"
          ]
        }
      ]
    },
    {
      "cell_type": "markdown",
      "metadata": {
        "id": "u6__NaXqzeYg"
      },
      "source": [
        "Crie um algoritmo em Python que leia três números e mostre o maior e o menor deles."
      ]
    },
    {
      "cell_type": "code",
      "metadata": {
        "id": "mm2L7g3x0Cfx",
        "colab": {
          "base_uri": "https://localhost:8080/"
        },
        "outputId": "eca68c25-d6dc-4d51-9a26-bc282cb5c7ee"
      },
      "source": [
        "n=0\n",
        "lista = []\n",
        "while n <=2:\n",
        "  n=n+1\n",
        "  nr = int(input('Digite um número: '))\n",
        "  lista.append(nr)\n",
        "else:\n",
        "  print('menor: ',min(lista),'maior: ',max(lista))"
      ],
      "execution_count": 72,
      "outputs": [
        {
          "output_type": "stream",
          "name": "stdout",
          "text": [
            "Digite um número: 1\n",
            "Digite um número: 2\n",
            "Digite um número: 3\n",
            "menor:  1 maior:  3\n"
          ]
        }
      ]
    },
    {
      "cell_type": "markdown",
      "metadata": {
        "id": "lIlfG-ATzgOr"
      },
      "source": [
        "Crie um algoritmo em Python que peça 2 números, base e expoente, calcule e mostre o primeiro número elevado ao segundo número. Não utilize a função de potência da linguagem."
      ]
    },
    {
      "cell_type": "code",
      "metadata": {
        "id": "-y4pB6br0DD_",
        "colab": {
          "base_uri": "https://localhost:8080/"
        },
        "outputId": "b167dbf5-4603-4684-de8d-a163ee818741"
      },
      "source": [
        "base = int(input('Insira o número da base: '))\n",
        "expo = int(input('Insira o número do exponencial: '))\n",
        "resul = base * base\n",
        "n = 2\n",
        "while (n != expo):\n",
        "  n=n+1\n",
        "  resul = resul * base   \n",
        "else:\n",
        "  print('O número',base,'elevado a',expo,'é:',resul)"
      ],
      "execution_count": 93,
      "outputs": [
        {
          "output_type": "stream",
          "name": "stdout",
          "text": [
            "Insira o número da base: 2\n",
            "Insira o número do exponencial: 8\n",
            "O número 2 elevado a 8 é: 256\n"
          ]
        }
      ]
    },
    {
      "cell_type": "markdown",
      "metadata": {
        "id": "Vj4OXsJQziu_"
      },
      "source": [
        "Crie um algoritmo em Python que peça 10 números inteiros, calcule e mostre a quantidade de números pares e a quantidade de números impares."
      ]
    },
    {
      "cell_type": "code",
      "metadata": {
        "id": "RmApGpg30D00",
        "colab": {
          "base_uri": "https://localhost:8080/"
        },
        "outputId": "17a4db84-d768-4eb9-c5f3-48d7ce27c913"
      },
      "source": [
        "n = 0\n",
        "numeros = list()\n",
        "while n < 3:\n",
        "  numeros.append(int(input('Digite um número inteiro: ')))\n",
        "  n = n+ 1\n",
        "else:\n",
        "  print(numeros)\n",
        "\n",
        "def ParImpar(numeros):\n",
        "  n2=0\n",
        "  n3=0\n",
        "  for nmr in numeros:\n",
        "    if (nmr%2 == 0) :\n",
        "      n2=n2+1\n",
        "    else :\n",
        "      n3=n3+1\n",
        "  return 'pares: ',n2, 'ímpares: ', n3\n",
        "\n",
        "print(ParImpar(numeros))"
      ],
      "execution_count": 123,
      "outputs": [
        {
          "output_type": "stream",
          "name": "stdout",
          "text": [
            "Digite um número inteiro: 1\n",
            "Digite um número inteiro: 2\n",
            "Digite um número inteiro: 3\n",
            "[1, 2, 3]\n",
            "('pares: ', 1, 'ímpares: ', 2)\n"
          ]
        }
      ]
    },
    {
      "cell_type": "markdown",
      "metadata": {
        "id": "e7id8Ewgzlow"
      },
      "source": [
        "Um funcionário de uma empresa recebe aumento salarial anualmente: Sabe-se que:\n",
        "Esse funcionário foi contratado em 1995, com salário inicial de R$ 1.000,00;\n",
        "Em 1996 recebeu aumento de 1,5% sobre seu salário inicial;\n",
        "A partir de 1997 (inclusive), os aumentos salariais sempre correspondem ao dobro do percentual do ano anterior. Crie um algoritmo em Python que determine o salário atual desse funcionário. Após concluir isto, altere o programa permitindo que o usuário digite o salário inicial do funcionário."
      ]
    },
    {
      "cell_type": "code",
      "metadata": {
        "id": "Kl0ainsv0Eif",
        "colab": {
          "base_uri": "https://localhost:8080/"
        },
        "outputId": "86232596-3010-498a-b4ef-50a91819c11a"
      },
      "source": [
        "import datetime\n",
        "import time\n",
        "\n",
        "#1995\n",
        "sal = float(input('Digite o salário: '))\n",
        "#1996\n",
        "aum = 1.5\n",
        "sal2 = sal +((sal*aum)/100)\n",
        "#1997\n",
        "\n",
        "now = datetime.datetime.now()\n",
        "year = now.year\n",
        "ano = 1996\n",
        "\n",
        "while (ano < year):\n",
        "  aum = aum * 2\n",
        "  sal2 = sal2 +((sal2*aum)/100)\n",
        "  ano = ano + 1\n",
        "else:\n",
        "  print(year,ano)\n",
        "  print(sal2)"
      ],
      "execution_count": 139,
      "outputs": [
        {
          "output_type": "stream",
          "name": "stdout",
          "text": [
            "Digite o salário: 1\n",
            "2021 2021\n",
            "7.93848960180534e+57\n"
          ]
        }
      ]
    },
    {
      "cell_type": "markdown",
      "metadata": {
        "id": "5u9i4kzm-itX"
      },
      "source": [
        "Crie um algoritmo em Python com uma função que necessite de um argumento. A função retorna o valor de caractere ‘P’, se seu argumento for positivo, e ‘N’, se seu argumento for zero ou negativo."
      ]
    },
    {
      "cell_type": "code",
      "metadata": {
        "id": "WNt8CLa2-rGt"
      },
      "source": [
        "# INSIRA SEU CÓDIGO AQUI"
      ],
      "execution_count": null,
      "outputs": []
    },
    {
      "cell_type": "markdown",
      "metadata": {
        "id": "CHiYMSOJ-rSY"
      },
      "source": [
        "Construa uma função que receba uma data no formato DD/MM/AAAA e devolva uma string no formato D de mesPorExtenso de AAAA. Opcionalmente, valide a data e retorne NULL caso a data seja inválida."
      ]
    },
    {
      "cell_type": "code",
      "metadata": {
        "id": "6Ukxx6gQ-r4-"
      },
      "source": [
        "# INSIRA SEU CÓDIGO AQUI"
      ],
      "execution_count": null,
      "outputs": []
    },
    {
      "cell_type": "markdown",
      "metadata": {
        "id": "AzUYbZ8A-zj7"
      },
      "source": [
        "Crie uma classe que modele uma pessoa:<br>\n",
        "\n",
        "Atributos: nome, idade, peso e altura<br>\n",
        "Métodos: Envelhercer, engordar, emagrecer, crescer.<br>\n",
        "<br>Obs: Por padrão, a cada ano que nossa pessoa envelhece, sendo a idade dela menor que 21 anos, ela deve crescer 0,5 cm."
      ]
    },
    {
      "cell_type": "code",
      "metadata": {
        "id": "qobhV-FC-zRS"
      },
      "source": [
        "# INSIRA SEU CÓDIGO AQUI"
      ],
      "execution_count": null,
      "outputs": []
    }
  ]
}