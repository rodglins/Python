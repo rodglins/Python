{
  "nbformat": 4,
  "nbformat_minor": 0,
  "metadata": {
    "colab": {
      "name": "Fase3.ipynb",
      "provenance": []
    },
    "kernelspec": {
      "name": "python3",
      "display_name": "Python 3"
    }
  },
  "cells": [
    {
      "cell_type": "markdown",
      "metadata": {
        "id": "CYNAmoj4zSXl"
      },
      "source": [
        "Crie um algoritmo em Python que peça uma nota, entre zero e 100. Mostre uma mensagem caso o valor seja inválido e continue pedindo até que o usuário informe um valor válido."
      ]
    },
    {
      "cell_type": "code",
      "metadata": {
        "id": "ViAfpy3GzPN-",
        "colab": {
          "base_uri": "https://localhost:8080/"
        },
        "outputId": "a97816cd-a0ca-4570-c403-72abada0cd66"
      },
      "source": [
        "print('########DIGITE O VALOR DE UMA NOTA DE REAL R$##########')\n",
        "nota = input()\n",
        "while not nota in '2,5,10,20,50,100':\n",
        "    print('valor incorreto tente novamente')\n",
        "    nota = input()  \n",
        "else:\n",
        "  print('Parabéns, valor correto')"
      ],
      "execution_count": null,
      "outputs": [
        {
          "output_type": "stream",
          "name": "stdout",
          "text": [
            "########DIGITE O VALOR DE UMA NOTA DE REAL R$##########\n",
            "3\n",
            "valor incorreto tente novamente\n",
            "4\n",
            "valor incorreto tente novamente\n",
            "5\n",
            "Parabéns, valor correto\n"
          ]
        }
      ]
    },
    {
      "cell_type": "markdown",
      "metadata": {
        "id": "gdMis92izSmQ"
      },
      "source": [
        "Crie um algoritmo em Python que leia um nome de usuário e a sua senha e não aceite a senha igual ao nome do usuário, mostrando uma mensagem de erro e voltando a pedir as informações.<br>"
      ]
    },
    {
      "cell_type": "code",
      "metadata": {
        "id": "BFpWkdCBz_zh",
        "colab": {
          "base_uri": "https://localhost:8080/"
        },
        "outputId": "5d2c6586-be98-41d4-af22-ea272054c298"
      },
      "source": [
        "print('######Faça seu cadastro########')\n",
        "usuario = str(input('Digite o nome do usuário: '))\n",
        "senha = str(input('Digite a senha: '))\n",
        "while senha == usuario:\n",
        "  print('Atenção: Inserir uma senha alfanumérica diferente do usuário')\n",
        "  usuario = str(input('Digite o nome do usuário: '))\n",
        "else:\n",
        "  print('Senha aprovada')"
      ],
      "execution_count": null,
      "outputs": [
        {
          "output_type": "stream",
          "name": "stdout",
          "text": [
            "######Faça seu cadastro########\n",
            "Digite o nome do usuário: rodrigo\n",
            "Digite a senha: rodrigo\n",
            "Atenção: Inserir uma senha alfanumérica diferente do usuário\n",
            "Digite o nome do usuário: ro12345\n",
            "Senha aprovada\n"
          ]
        }
      ]
    },
    {
      "cell_type": "markdown",
      "metadata": {
        "id": "E_0l_Vx6zSo2"
      },
      "source": [
        "Crie um algoritmo em Python que leia e valide as seguintes informações:\n",
        "* Nome: maior que 3 caracteres;\n",
        "* Idade: entre 0 e 150;\n",
        "* Salário: maior que zero;\n",
        "* Sexo: 'f' ou 'm';\n",
        "* Estado Civil: 's', 'c', 'v', 'd';"
      ]
    },
    {
      "cell_type": "code",
      "metadata": {
        "id": "KwJf7XZS0AZW",
        "colab": {
          "base_uri": "https://localhost:8080/"
        },
        "outputId": "b6ef33ed-511c-4b51-e147-99354d696e3e"
      },
      "source": [
        "from threading import Thread\n",
        "\n",
        "def verNome():\n",
        "  nome = ()\n",
        "  while len(nome) <= 3:\n",
        "    print('O nome deve conter mais de 3 caracteres')\n",
        "    nome = str(input('Digite seu nome: '))\n",
        "  else:\n",
        "    print('Nome OK', nome)\n",
        "\n",
        "def verIdade():\n",
        "  idade = int(input('Digite sua idade: '))\n",
        "  while (idade <= 0 or idade > 150):\n",
        "    print('Digitar uma idade válida')\n",
        "    idade = int(input('Digite sua idade: '))\n",
        "  else:\n",
        "    print('Idade OK', idade)\n",
        "\n",
        "def verSalario():\n",
        "  salario = 0\n",
        "  while salario <= 0:\n",
        "    print('O salário deve ser maior que 0')\n",
        "    salario = float(input('Digite seu salário: '))\n",
        "  else:\n",
        "    print('Salário OK', salario)\n",
        "\n",
        "def verSexo():\n",
        "  sexo = str(input('Digite o sexo, sendo f (feminino) ou m (masculino) : '))\n",
        "  while sexo not in 'fm':\n",
        "    print('O sexo deve ser f ou m')\n",
        "    sexo = str(input('Digite o sexo, sendo f (feminino) ou m (masculino) : '))\n",
        "  else:\n",
        "    print('Sexo OK', sexo)\n",
        "\n",
        "def verEstadoCivil():\n",
        "  estadoCivil = str(input('Digite a sigla do estado civil, sendo s (solteiro), c (casado), v (viúvo), d (divorciado): '))\n",
        "  while estadoCivil not in 'scvd':\n",
        "    print('Digitar a sigla correta: s, c, v, d')\n",
        "    estadoCivil = str(input('Digite a sigla do estado civil, sendo s (solteiro), c (casado), v (viúvo), d (divorciado): '))\n",
        "  else:\n",
        "    print('Estado Civil OK', estadoCivil)\n",
        "\n",
        "threadA = Thread(target = verNome)\n",
        "threadB = Thread(target = verIdade)\n",
        "threadC = Thread(target = verSalario)\n",
        "threadD = Thread(target = verSexo)\n",
        "threadE = Thread(target = verEstadoCivil)\n",
        "threadA.run()\n",
        "threadB.run()\n",
        "threadC.run()\n",
        "threadD.run()\n",
        "threadE.run()"
      ],
      "execution_count": 50,
      "outputs": [
        {
          "output_type": "stream",
          "name": "stdout",
          "text": [
            "O nome deve conter mais de 3 caracteres\n",
            "Digite seu nome: rod\n",
            "O nome deve conter mais de 3 caracteres\n",
            "Digite seu nome: rodrigo\n",
            "Nome OK rodrigo\n",
            "Digite sua idade: -10\n",
            "Digitar uma idade válida\n",
            "Digite sua idade: 0\n",
            "Digitar uma idade válida\n",
            "Digite sua idade: 180\n",
            "Digitar uma idade válida\n",
            "Digite sua idade: 10\n",
            "Idade OK 10\n",
            "O salário deve ser maior que 0\n",
            "Digite seu salário: 100\n",
            "Salário OK 100.0\n",
            "Digite o sexo, sendo f (feminino) ou m (masculino) : b\n",
            "O sexo deve ser f ou m\n",
            "Digite o sexo, sendo f (feminino) ou m (masculino) : m\n",
            "Sexo OK m\n",
            "Digite a sigla do estado civil, sendo s (solteiro), c (casado), v (viúvo), d (divorciado): e\n",
            "Digitar a sigla correta: s, c, v, d\n",
            "Digite a sigla do estado civil, sendo s (solteiro), c (casado), v (viúvo), d (divorciado): s\n",
            "Estado Civil OK s\n"
          ]
        }
      ]
    },
    {
      "cell_type": "markdown",
      "metadata": {
        "id": "1i4VCiiczSrL"
      },
      "source": [
        "\n",
        "Supondo que a população de um país A seja da ordem de 80000 habitantes com uma taxa anual de crescimento de 3% e que a população de B seja 200000 habitantes com uma taxa de crescimento de 1.5%.<br><br> Crie um algoritmo em Python que calcule e escreva o número de anos necessários para que a população do país A ultrapasse ou iguale a população do país B, mantidas as taxas de crescimento."
      ]
    },
    {
      "cell_type": "code",
      "metadata": {
        "id": "yoW67hjA0BHy"
      },
      "source": [
        "# INSIRA SEU CÓDIGO AQUI"
      ],
      "execution_count": null,
      "outputs": []
    },
    {
      "cell_type": "markdown",
      "metadata": {
        "id": "4ep7kezvzStO"
      },
      "source": [
        "Desenvolva um gerador de tabuada, capaz de gerar a tabuada de qualquer número inteiro entre 1 a 10. O usuário deve informar de qual numero ele deseja ver a tabuada. A saída deve ser conforme o exemplo abaixo:\n",
        "Tabuada de 5:<br>\n",
        "5 X 1 = 5<br>\n",
        "5 X 2 = 10<br>\n",
        "...<br>\n",
        "5 X 10 = 50<br>"
      ]
    },
    {
      "cell_type": "code",
      "metadata": {
        "id": "6K6IHWdr0Blt"
      },
      "source": [
        "# INSIRA SEU CÓDIGO AQUI"
      ],
      "execution_count": null,
      "outputs": []
    },
    {
      "cell_type": "markdown",
      "metadata": {
        "id": "u6__NaXqzeYg"
      },
      "source": [
        "Crie um algoritmo em Python que leia três números e mostre o maior e o menor deles."
      ]
    },
    {
      "cell_type": "code",
      "metadata": {
        "id": "mm2L7g3x0Cfx"
      },
      "source": [
        "# INSIRA SEU CÓDIGO AQUI"
      ],
      "execution_count": null,
      "outputs": []
    },
    {
      "cell_type": "markdown",
      "metadata": {
        "id": "lIlfG-ATzgOr"
      },
      "source": [
        "Crie um algoritmo em Python que peça 2 números, base e expoente, calcule e mostre o primeiro número elevado ao segundo número. Não utilize a função de potência da linguagem."
      ]
    },
    {
      "cell_type": "code",
      "metadata": {
        "id": "-y4pB6br0DD_"
      },
      "source": [
        "# INSIRA SEU CÓDIGO AQUI"
      ],
      "execution_count": null,
      "outputs": []
    },
    {
      "cell_type": "markdown",
      "metadata": {
        "id": "Vj4OXsJQziu_"
      },
      "source": [
        "Crie um algoritmo em Python que peça 10 números inteiros, calcule e mostre a quantidade de números pares e a quantidade de números impares."
      ]
    },
    {
      "cell_type": "code",
      "metadata": {
        "id": "RmApGpg30D00"
      },
      "source": [
        "# INSIRA SEU CÓDIGO AQUI"
      ],
      "execution_count": null,
      "outputs": []
    },
    {
      "cell_type": "markdown",
      "metadata": {
        "id": "e7id8Ewgzlow"
      },
      "source": [
        "Um funcionário de uma empresa recebe aumento salarial anualmente: Sabe-se que:\n",
        "Esse funcionário foi contratado em 1995, com salário inicial de R$ 1.000,00;\n",
        "Em 1996 recebeu aumento de 1,5% sobre seu salário inicial;\n",
        "A partir de 1997 (inclusive), os aumentos salariais sempre correspondem ao dobro do percentual do ano anterior. Crie um algoritmo em Python que determine o salário atual desse funcionário. Após concluir isto, altere o programa permitindo que o usuário digite o salário inicial do funcionário."
      ]
    },
    {
      "cell_type": "code",
      "metadata": {
        "id": "Kl0ainsv0Eif"
      },
      "source": [
        "# INSIRA SEU CÓDIGO AQUI"
      ],
      "execution_count": null,
      "outputs": []
    },
    {
      "cell_type": "markdown",
      "metadata": {
        "id": "5u9i4kzm-itX"
      },
      "source": [
        "Crie um algoritmo em Python com uma função que necessite de um argumento. A função retorna o valor de caractere ‘P’, se seu argumento for positivo, e ‘N’, se seu argumento for zero ou negativo."
      ]
    },
    {
      "cell_type": "code",
      "metadata": {
        "id": "WNt8CLa2-rGt"
      },
      "source": [
        "# INSIRA SEU CÓDIGO AQUI"
      ],
      "execution_count": null,
      "outputs": []
    },
    {
      "cell_type": "markdown",
      "metadata": {
        "id": "CHiYMSOJ-rSY"
      },
      "source": [
        "Construa uma função que receba uma data no formato DD/MM/AAAA e devolva uma string no formato D de mesPorExtenso de AAAA. Opcionalmente, valide a data e retorne NULL caso a data seja inválida."
      ]
    },
    {
      "cell_type": "code",
      "metadata": {
        "id": "6Ukxx6gQ-r4-"
      },
      "source": [
        "# INSIRA SEU CÓDIGO AQUI"
      ],
      "execution_count": null,
      "outputs": []
    },
    {
      "cell_type": "markdown",
      "metadata": {
        "id": "AzUYbZ8A-zj7"
      },
      "source": [
        "Crie uma classe que modele uma pessoa:<br>\n",
        "\n",
        "Atributos: nome, idade, peso e altura<br>\n",
        "Métodos: Envelhercer, engordar, emagrecer, crescer.<br>\n",
        "<br>Obs: Por padrão, a cada ano que nossa pessoa envelhece, sendo a idade dela menor que 21 anos, ela deve crescer 0,5 cm."
      ]
    },
    {
      "cell_type": "code",
      "metadata": {
        "id": "qobhV-FC-zRS"
      },
      "source": [
        "# INSIRA SEU CÓDIGO AQUI"
      ],
      "execution_count": null,
      "outputs": []
    }
  ]
}